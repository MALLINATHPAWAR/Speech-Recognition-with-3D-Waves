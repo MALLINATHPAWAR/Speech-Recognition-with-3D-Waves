{
 "cells": [
  {
   "cell_type": "markdown",
   "metadata": {},
   "source": [
    "## Speech Recognition with 3D Waves##"
   ]
  },
  {
   "cell_type": "markdown",
   "metadata": {},
   "source": [
    "*train.7z - Contains a few informational files and a folder of audio files. The audio folder contains subfolders with 1 second clips of voice commands, with the folder name being the label of the audio clip. There are more labels that should be predicted. The labels you will need to predict in Test are yes, no, up, down, left, right, on, off, stop, go. Everything else should be considered either unknown or silence. The folder _background_noise_ contains longer clips of \"silence\" that you can break up and use as training input.\n",
    "\n",
    "The files contained in the training audio are not uniquely named across labels, but they are unique if you include the label folder. For example, 00f0204f_nohash_0.wav is found in 14 folders, but that file is a different speech command in each folder.\n",
    "\n",
    "The files are named so the first element is the subject id of the person who gave the voice command, and the last element indicated repeated commands. Repeated commands are when the subject repeats the same word multiple times. Subject id is not provided for the test data, and you can assume that the majority of commands in the test data were from subjects not seen in train.\n",
    "\n",
    "You can expect some inconsistencies in the properties of the training data (e.g., length of the audio).\n",
    "\n",
    "\n",
    "Speech Commands Data Set v0.01\n",
    "This is a set of one-second .wav audio files, each containing a single spoken English word. These words are from a small set of commands, and are spoken by a variety of different speakers. The audio files are organized into folders based on the word they contain, and this data set is designed to help train simple machine learning models.\n"
   ]
  },
  {
   "cell_type": "code",
   "execution_count": 1,
   "metadata": {},
   "outputs": [
    {
     "data": {
      "text/html": [
       "        <script type=\"text/javascript\">\n",
       "        window.PlotlyConfig = {MathJaxConfig: 'local'};\n",
       "        if (window.MathJax) {MathJax.Hub.Config({SVG: {font: \"STIX-Web\"}});}\n",
       "        if (typeof require !== 'undefined') {\n",
       "        require.undef(\"plotly\");\n",
       "        requirejs.config({\n",
       "            paths: {\n",
       "                'plotly': ['https://cdn.plot.ly/plotly-latest.min']\n",
       "            }\n",
       "        });\n",
       "        require(['plotly'], function(Plotly) {\n",
       "            window._Plotly = Plotly;\n",
       "        });\n",
       "        }\n",
       "        </script>\n",
       "        "
      ]
     },
     "metadata": {},
     "output_type": "display_data"
    }
   ],
   "source": [
    "SAMPLE_RATE = 128 # [256 - > 16000] Wave Focus Index\n",
    "\n",
    "\n",
    "import os\n",
    "from pathlib import Path\n",
    "import IPython.display as ipd\n",
    "\n",
    "import os\n",
    "from os.path import isdir, join\n",
    "from pathlib import Path\n",
    "\n",
    "import pandas as pd \n",
    "from scipy.fftpack import fft\n",
    "from scipy import signal\n",
    "from scipy.io import wavfile\n",
    "from sklearn.decomposition import PCA\n",
    "\n",
    "import matplotlib.pyplot as plt\n",
    "import seaborn as sns\n",
    "import IPython.display as ipd\n",
    "\n",
    "import plotly.offline as py\n",
    "py.init_notebook_mode(connected=True)\n",
    "import plotly.graph_objs as go\n",
    "import plotly.tools as tls\n",
    "import pandas as pd\n",
    "from collections import Counter\n",
    "\n",
    "%matplotlib inline\n",
    "\n",
    "from subprocess import check_output"
   ]
  },
  {
   "cell_type": "code",
   "execution_count": 2,
   "metadata": {},
   "outputs": [],
   "source": [
    "folders = '/home/parmar/Downloads/Datasets/train/audio'\n",
    "\n",
    "def custom_fft(y, fs):\n",
    "    T = 1.0 / fs\n",
    "    N = y.shape[0]\n",
    "    yf = fft(y)\n",
    "    xf = np.linspace(0.0, 1.0/(2.0*T), N//2)\n",
    "    vals = 2.0/N * np.abs(yf[0:N//2])\n",
    "    return xf, vals"
   ]
  },
  {
   "cell_type": "code",
   "execution_count": 3,
   "metadata": {},
   "outputs": [
    {
     "name": "stdout",
     "output_type": "stream",
     "text": [
      "Number of labels: 30\n",
      "1942abd7_nohash_0.wav : 582520\r"
     ]
    }
   ],
   "source": [
    "cols = ['class', 'filename', 'samplerate']\n",
    "cid = 1\n",
    "for cid in range(SAMPLE_RATE):\n",
    "    cols.append(\"S\"+str(cid))\n",
    "\n",
    "train =  pd.DataFrame( columns = cols)\n",
    "train[:5]\n",
    "\n",
    "train_audio_path = '/home/parmar/Downloads/Datasets/train/audio'\n",
    "\n",
    "train_labels = os.listdir(train_audio_path)\n",
    "train_labels.remove('_background_noise_')\n",
    "print(f'Number of labels: {len(train_labels)}')\n",
    "\n",
    "labels_to_keep = ['yes', 'no', 'up', 'down', 'left',\n",
    "                  'right', 'on', 'off', 'stop', 'go', 'silence']\n",
    "\n",
    "i = 1\n",
    "train_file_labels = dict()\n",
    "for label in train_labels:\n",
    "    files = os.listdir(train_audio_path + '/' + label)\n",
    "    for f in files:\n",
    "        train_file_labels[label + '/' + f] = label\n",
    "        sample_rate, samples = wavfile.read(str(train_audio_path) + '/' + label + '/' + f)\n",
    "        resampled = signal.resample(samples, int(SAMPLE_RATE/sample_rate * samples.shape[0]))\n",
    "        if len(resampled) == SAMPLE_RATE:\n",
    "            arow = [label, f, sample_rate]\n",
    "            sraw = resampled.tolist()\n",
    "            rawdata = arow + sraw\n",
    "            train.loc[len(train)] = rawdata\n",
    "            print(f + \" : \" + str(i), end='\\r')\n",
    "            i = i + 1\n",
    "        else:\n",
    "            print('Wrong samplerate!    ', end='\\r')"
   ]
  },
  {
   "cell_type": "code",
   "execution_count": 4,
   "metadata": {},
   "outputs": [],
   "source": [
    "train.to_csv(\"LCFR_SPEECH_FULL_TRAIN_\" + str(SAMPLE_RATE) + \".csv\")"
   ]
  },
  {
   "cell_type": "code",
   "execution_count": 5,
   "metadata": {},
   "outputs": [],
   "source": [
    "train['class'] = train['class'].astype('category')\n",
    "train['y'] = train['class'].cat.codes"
   ]
  },
  {
   "cell_type": "code",
   "execution_count": 6,
   "metadata": {},
   "outputs": [
    {
     "data": {
      "text/plain": [
       "29    2203\n",
       "21    2199\n",
       "22    2174\n",
       "13    2174\n",
       "19    2170\n",
       "11    2165\n",
       "6     2161\n",
       "7     2158\n",
       "28    2157\n",
       "18    2155\n",
       "4     2152\n",
       "23    2143\n",
       "15    2143\n",
       "25    2140\n",
       "5     2111\n",
       "16    2105\n",
       "17    2103\n",
       "8     2101\n",
       "14    2098\n",
       "26    2062\n",
       "12    1578\n",
       "20    1578\n",
       "10    1560\n",
       "9     1549\n",
       "3     1547\n",
       "27    1525\n",
       "24    1521\n",
       "1     1521\n",
       "2     1515\n",
       "0     1484\n",
       "Name: y, dtype: int64"
      ]
     },
     "execution_count": 6,
     "metadata": {},
     "output_type": "execute_result"
    }
   ],
   "source": [
    "train['y'].value_counts()"
   ]
  },
  {
   "cell_type": "code",
   "execution_count": 7,
   "metadata": {},
   "outputs": [],
   "source": [
    "PROF_train = train\n",
    "\n",
    "PROF_train = PROF_train.drop('class', 1)\n",
    "PROF_train = PROF_train.drop('filename', 1)\n",
    "PROF_train = PROF_train.drop('samplerate', 1)"
   ]
  },
  {
   "cell_type": "code",
   "execution_count": 8,
   "metadata": {},
   "outputs": [
    {
     "data": {
      "text/html": [
       "<div>\n",
       "<style scoped>\n",
       "    .dataframe tbody tr th:only-of-type {\n",
       "        vertical-align: middle;\n",
       "    }\n",
       "\n",
       "    .dataframe tbody tr th {\n",
       "        vertical-align: top;\n",
       "    }\n",
       "\n",
       "    .dataframe thead th {\n",
       "        text-align: right;\n",
       "    }\n",
       "</style>\n",
       "<table border=\"1\" class=\"dataframe\">\n",
       "  <thead>\n",
       "    <tr style=\"text-align: right;\">\n",
       "      <th></th>\n",
       "      <th>S0</th>\n",
       "      <th>S1</th>\n",
       "      <th>S2</th>\n",
       "      <th>S3</th>\n",
       "      <th>S4</th>\n",
       "      <th>S5</th>\n",
       "      <th>S6</th>\n",
       "      <th>S7</th>\n",
       "      <th>S8</th>\n",
       "      <th>S9</th>\n",
       "      <th>...</th>\n",
       "      <th>S119</th>\n",
       "      <th>S120</th>\n",
       "      <th>S121</th>\n",
       "      <th>S122</th>\n",
       "      <th>S123</th>\n",
       "      <th>S124</th>\n",
       "      <th>S125</th>\n",
       "      <th>S126</th>\n",
       "      <th>S127</th>\n",
       "      <th>y</th>\n",
       "    </tr>\n",
       "  </thead>\n",
       "  <tbody>\n",
       "    <tr>\n",
       "      <td>0</td>\n",
       "      <td>-0.593683</td>\n",
       "      <td>0.322088</td>\n",
       "      <td>-0.288243</td>\n",
       "      <td>0.319011</td>\n",
       "      <td>0.189994</td>\n",
       "      <td>-0.424861</td>\n",
       "      <td>-1.001531</td>\n",
       "      <td>6.245334</td>\n",
       "      <td>-5.851340</td>\n",
       "      <td>5.159421</td>\n",
       "      <td>...</td>\n",
       "      <td>0.145005</td>\n",
       "      <td>0.155567</td>\n",
       "      <td>0.134497</td>\n",
       "      <td>-0.292667</td>\n",
       "      <td>0.273383</td>\n",
       "      <td>-0.214352</td>\n",
       "      <td>0.093234</td>\n",
       "      <td>0.013194</td>\n",
       "      <td>-0.032106</td>\n",
       "      <td>16</td>\n",
       "    </tr>\n",
       "    <tr>\n",
       "      <td>1</td>\n",
       "      <td>140.345446</td>\n",
       "      <td>-18.179736</td>\n",
       "      <td>-8.513826</td>\n",
       "      <td>-1.119343</td>\n",
       "      <td>9.908803</td>\n",
       "      <td>-15.882764</td>\n",
       "      <td>17.748357</td>\n",
       "      <td>-16.381819</td>\n",
       "      <td>48.629328</td>\n",
       "      <td>-37.508594</td>\n",
       "      <td>...</td>\n",
       "      <td>-8.843934</td>\n",
       "      <td>10.665240</td>\n",
       "      <td>-9.287724</td>\n",
       "      <td>25.565894</td>\n",
       "      <td>-32.145972</td>\n",
       "      <td>28.335439</td>\n",
       "      <td>-42.733931</td>\n",
       "      <td>51.084796</td>\n",
       "      <td>-51.581605</td>\n",
       "      <td>16</td>\n",
       "    </tr>\n",
       "    <tr>\n",
       "      <td>2</td>\n",
       "      <td>-0.193199</td>\n",
       "      <td>0.020024</td>\n",
       "      <td>-0.017779</td>\n",
       "      <td>0.068319</td>\n",
       "      <td>-0.016549</td>\n",
       "      <td>0.151000</td>\n",
       "      <td>-0.288438</td>\n",
       "      <td>0.189900</td>\n",
       "      <td>-0.419977</td>\n",
       "      <td>0.335843</td>\n",
       "      <td>...</td>\n",
       "      <td>-0.586892</td>\n",
       "      <td>0.024656</td>\n",
       "      <td>0.537057</td>\n",
       "      <td>0.298245</td>\n",
       "      <td>-0.208372</td>\n",
       "      <td>-0.467529</td>\n",
       "      <td>-0.014484</td>\n",
       "      <td>-0.038301</td>\n",
       "      <td>0.216084</td>\n",
       "      <td>16</td>\n",
       "    </tr>\n",
       "    <tr>\n",
       "      <td>3</td>\n",
       "      <td>-0.273142</td>\n",
       "      <td>0.261251</td>\n",
       "      <td>-0.273217</td>\n",
       "      <td>0.238948</td>\n",
       "      <td>-0.263011</td>\n",
       "      <td>0.270379</td>\n",
       "      <td>-0.277051</td>\n",
       "      <td>0.271387</td>\n",
       "      <td>-0.261399</td>\n",
       "      <td>0.266185</td>\n",
       "      <td>...</td>\n",
       "      <td>0.238434</td>\n",
       "      <td>-0.253658</td>\n",
       "      <td>0.284164</td>\n",
       "      <td>-0.276106</td>\n",
       "      <td>0.288483</td>\n",
       "      <td>-0.251943</td>\n",
       "      <td>0.265656</td>\n",
       "      <td>-0.257662</td>\n",
       "      <td>0.253914</td>\n",
       "      <td>16</td>\n",
       "    </tr>\n",
       "    <tr>\n",
       "      <td>4</td>\n",
       "      <td>-67.136476</td>\n",
       "      <td>-221.260384</td>\n",
       "      <td>286.820202</td>\n",
       "      <td>-441.148910</td>\n",
       "      <td>386.199331</td>\n",
       "      <td>-63.541358</td>\n",
       "      <td>192.368622</td>\n",
       "      <td>75.966602</td>\n",
       "      <td>-280.283021</td>\n",
       "      <td>41.063112</td>\n",
       "      <td>...</td>\n",
       "      <td>-16.669585</td>\n",
       "      <td>1.770798</td>\n",
       "      <td>-182.956277</td>\n",
       "      <td>102.271719</td>\n",
       "      <td>-294.349014</td>\n",
       "      <td>464.705989</td>\n",
       "      <td>-289.175621</td>\n",
       "      <td>284.978569</td>\n",
       "      <td>-381.231060</td>\n",
       "      <td>16</td>\n",
       "    </tr>\n",
       "    <tr>\n",
       "      <td>5</td>\n",
       "      <td>323.256716</td>\n",
       "      <td>244.662224</td>\n",
       "      <td>254.191876</td>\n",
       "      <td>253.810646</td>\n",
       "      <td>242.184728</td>\n",
       "      <td>249.885111</td>\n",
       "      <td>234.690818</td>\n",
       "      <td>292.597436</td>\n",
       "      <td>195.614246</td>\n",
       "      <td>278.913223</td>\n",
       "      <td>...</td>\n",
       "      <td>227.771532</td>\n",
       "      <td>276.146543</td>\n",
       "      <td>198.244299</td>\n",
       "      <td>295.514336</td>\n",
       "      <td>210.445556</td>\n",
       "      <td>293.403820</td>\n",
       "      <td>202.360928</td>\n",
       "      <td>279.243635</td>\n",
       "      <td>210.013581</td>\n",
       "      <td>16</td>\n",
       "    </tr>\n",
       "    <tr>\n",
       "      <td>6</td>\n",
       "      <td>0.110191</td>\n",
       "      <td>-0.062165</td>\n",
       "      <td>0.019730</td>\n",
       "      <td>-0.131233</td>\n",
       "      <td>0.046677</td>\n",
       "      <td>-0.098061</td>\n",
       "      <td>0.058064</td>\n",
       "      <td>-0.040386</td>\n",
       "      <td>0.170908</td>\n",
       "      <td>-0.055099</td>\n",
       "      <td>...</td>\n",
       "      <td>-0.072539</td>\n",
       "      <td>-0.104853</td>\n",
       "      <td>-0.080410</td>\n",
       "      <td>0.050532</td>\n",
       "      <td>-0.104121</td>\n",
       "      <td>0.052999</td>\n",
       "      <td>-0.126859</td>\n",
       "      <td>0.041110</td>\n",
       "      <td>-0.143101</td>\n",
       "      <td>16</td>\n",
       "    </tr>\n",
       "    <tr>\n",
       "      <td>7</td>\n",
       "      <td>-0.482081</td>\n",
       "      <td>-1.075590</td>\n",
       "      <td>0.411921</td>\n",
       "      <td>-1.132043</td>\n",
       "      <td>0.405247</td>\n",
       "      <td>-0.942404</td>\n",
       "      <td>-0.135376</td>\n",
       "      <td>-0.431285</td>\n",
       "      <td>-0.010968</td>\n",
       "      <td>-0.411236</td>\n",
       "      <td>...</td>\n",
       "      <td>-3.787215</td>\n",
       "      <td>0.186025</td>\n",
       "      <td>0.970771</td>\n",
       "      <td>1.325710</td>\n",
       "      <td>-1.204452</td>\n",
       "      <td>1.521866</td>\n",
       "      <td>-0.703594</td>\n",
       "      <td>0.621318</td>\n",
       "      <td>-0.406792</td>\n",
       "      <td>16</td>\n",
       "    </tr>\n",
       "    <tr>\n",
       "      <td>8</td>\n",
       "      <td>-26.122536</td>\n",
       "      <td>7.578898</td>\n",
       "      <td>42.817681</td>\n",
       "      <td>22.401879</td>\n",
       "      <td>35.192236</td>\n",
       "      <td>-71.749884</td>\n",
       "      <td>-59.759437</td>\n",
       "      <td>-150.885278</td>\n",
       "      <td>4.003187</td>\n",
       "      <td>20.254953</td>\n",
       "      <td>...</td>\n",
       "      <td>-137.763166</td>\n",
       "      <td>-76.624669</td>\n",
       "      <td>53.971619</td>\n",
       "      <td>19.034856</td>\n",
       "      <td>1.682441</td>\n",
       "      <td>35.091522</td>\n",
       "      <td>-29.162296</td>\n",
       "      <td>-28.334130</td>\n",
       "      <td>-9.964544</td>\n",
       "      <td>16</td>\n",
       "    </tr>\n",
       "    <tr>\n",
       "      <td>9</td>\n",
       "      <td>4.533375</td>\n",
       "      <td>-4.980417</td>\n",
       "      <td>4.277478</td>\n",
       "      <td>-3.543815</td>\n",
       "      <td>3.399858</td>\n",
       "      <td>-3.130166</td>\n",
       "      <td>2.658139</td>\n",
       "      <td>-2.442571</td>\n",
       "      <td>2.356020</td>\n",
       "      <td>-2.006234</td>\n",
       "      <td>...</td>\n",
       "      <td>11.153415</td>\n",
       "      <td>8.135573</td>\n",
       "      <td>-10.445400</td>\n",
       "      <td>13.013684</td>\n",
       "      <td>-4.864862</td>\n",
       "      <td>6.329631</td>\n",
       "      <td>4.963181</td>\n",
       "      <td>-1.405531</td>\n",
       "      <td>-6.382729</td>\n",
       "      <td>16</td>\n",
       "    </tr>\n",
       "  </tbody>\n",
       "</table>\n",
       "<p>10 rows × 129 columns</p>\n",
       "</div>"
      ],
      "text/plain": [
       "           S0          S1          S2          S3          S4          S5  \\\n",
       "0   -0.593683    0.322088   -0.288243    0.319011    0.189994   -0.424861   \n",
       "1  140.345446  -18.179736   -8.513826   -1.119343    9.908803  -15.882764   \n",
       "2   -0.193199    0.020024   -0.017779    0.068319   -0.016549    0.151000   \n",
       "3   -0.273142    0.261251   -0.273217    0.238948   -0.263011    0.270379   \n",
       "4  -67.136476 -221.260384  286.820202 -441.148910  386.199331  -63.541358   \n",
       "5  323.256716  244.662224  254.191876  253.810646  242.184728  249.885111   \n",
       "6    0.110191   -0.062165    0.019730   -0.131233    0.046677   -0.098061   \n",
       "7   -0.482081   -1.075590    0.411921   -1.132043    0.405247   -0.942404   \n",
       "8  -26.122536    7.578898   42.817681   22.401879   35.192236  -71.749884   \n",
       "9    4.533375   -4.980417    4.277478   -3.543815    3.399858   -3.130166   \n",
       "\n",
       "           S6          S7          S8          S9  ...        S119  \\\n",
       "0   -1.001531    6.245334   -5.851340    5.159421  ...    0.145005   \n",
       "1   17.748357  -16.381819   48.629328  -37.508594  ...   -8.843934   \n",
       "2   -0.288438    0.189900   -0.419977    0.335843  ...   -0.586892   \n",
       "3   -0.277051    0.271387   -0.261399    0.266185  ...    0.238434   \n",
       "4  192.368622   75.966602 -280.283021   41.063112  ...  -16.669585   \n",
       "5  234.690818  292.597436  195.614246  278.913223  ...  227.771532   \n",
       "6    0.058064   -0.040386    0.170908   -0.055099  ...   -0.072539   \n",
       "7   -0.135376   -0.431285   -0.010968   -0.411236  ...   -3.787215   \n",
       "8  -59.759437 -150.885278    4.003187   20.254953  ... -137.763166   \n",
       "9    2.658139   -2.442571    2.356020   -2.006234  ...   11.153415   \n",
       "\n",
       "         S120        S121        S122        S123        S124        S125  \\\n",
       "0    0.155567    0.134497   -0.292667    0.273383   -0.214352    0.093234   \n",
       "1   10.665240   -9.287724   25.565894  -32.145972   28.335439  -42.733931   \n",
       "2    0.024656    0.537057    0.298245   -0.208372   -0.467529   -0.014484   \n",
       "3   -0.253658    0.284164   -0.276106    0.288483   -0.251943    0.265656   \n",
       "4    1.770798 -182.956277  102.271719 -294.349014  464.705989 -289.175621   \n",
       "5  276.146543  198.244299  295.514336  210.445556  293.403820  202.360928   \n",
       "6   -0.104853   -0.080410    0.050532   -0.104121    0.052999   -0.126859   \n",
       "7    0.186025    0.970771    1.325710   -1.204452    1.521866   -0.703594   \n",
       "8  -76.624669   53.971619   19.034856    1.682441   35.091522  -29.162296   \n",
       "9    8.135573  -10.445400   13.013684   -4.864862    6.329631    4.963181   \n",
       "\n",
       "         S126        S127   y  \n",
       "0    0.013194   -0.032106  16  \n",
       "1   51.084796  -51.581605  16  \n",
       "2   -0.038301    0.216084  16  \n",
       "3   -0.257662    0.253914  16  \n",
       "4  284.978569 -381.231060  16  \n",
       "5  279.243635  210.013581  16  \n",
       "6    0.041110   -0.143101  16  \n",
       "7    0.621318   -0.406792  16  \n",
       "8  -28.334130   -9.964544  16  \n",
       "9   -1.405531   -6.382729  16  \n",
       "\n",
       "[10 rows x 129 columns]"
      ]
     },
     "execution_count": 8,
     "metadata": {},
     "output_type": "execute_result"
    }
   ],
   "source": [
    "PROF_train[:10]"
   ]
  },
  {
   "cell_type": "code",
   "execution_count": 9,
   "metadata": {},
   "outputs": [
    {
     "data": {
      "application/vnd.plotly.v1+json": {
       "config": {
        "linkText": "Export to plot.ly",
        "plotlyServerURL": "https://plot.ly",
        "showLink": false
       },
       "data": [
        {
         "text": "Distribution of target variable",
         "type": "bar",
         "x": [
          29,
          21,
          22,
          13,
          19,
          11,
          6,
          7,
          28,
          18,
          4,
          23,
          15,
          25,
          5,
          16,
          17,
          8,
          14,
          26,
          12,
          20,
          10,
          9,
          3,
          27,
          24,
          1,
          2,
          0
         ],
         "y": [
          2203,
          2199,
          2174,
          2174,
          2170,
          2165,
          2161,
          2158,
          2157,
          2155,
          2152,
          2143,
          2143,
          2140,
          2111,
          2105,
          2103,
          2101,
          2098,
          2062,
          1578,
          1578,
          1560,
          1549,
          1547,
          1525,
          1521,
          1521,
          1515,
          1484
         ]
        }
       ],
       "layout": {
        "template": {
         "data": {
          "bar": [
           {
            "error_x": {
             "color": "#2a3f5f"
            },
            "error_y": {
             "color": "#2a3f5f"
            },
            "marker": {
             "line": {
              "color": "#E5ECF6",
              "width": 0.5
             }
            },
            "type": "bar"
           }
          ],
          "barpolar": [
           {
            "marker": {
             "line": {
              "color": "#E5ECF6",
              "width": 0.5
             }
            },
            "type": "barpolar"
           }
          ],
          "carpet": [
           {
            "aaxis": {
             "endlinecolor": "#2a3f5f",
             "gridcolor": "white",
             "linecolor": "white",
             "minorgridcolor": "white",
             "startlinecolor": "#2a3f5f"
            },
            "baxis": {
             "endlinecolor": "#2a3f5f",
             "gridcolor": "white",
             "linecolor": "white",
             "minorgridcolor": "white",
             "startlinecolor": "#2a3f5f"
            },
            "type": "carpet"
           }
          ],
          "choropleth": [
           {
            "colorbar": {
             "outlinewidth": 0,
             "ticks": ""
            },
            "type": "choropleth"
           }
          ],
          "contour": [
           {
            "colorbar": {
             "outlinewidth": 0,
             "ticks": ""
            },
            "colorscale": [
             [
              0,
              "#0d0887"
             ],
             [
              0.1111111111111111,
              "#46039f"
             ],
             [
              0.2222222222222222,
              "#7201a8"
             ],
             [
              0.3333333333333333,
              "#9c179e"
             ],
             [
              0.4444444444444444,
              "#bd3786"
             ],
             [
              0.5555555555555556,
              "#d8576b"
             ],
             [
              0.6666666666666666,
              "#ed7953"
             ],
             [
              0.7777777777777778,
              "#fb9f3a"
             ],
             [
              0.8888888888888888,
              "#fdca26"
             ],
             [
              1,
              "#f0f921"
             ]
            ],
            "type": "contour"
           }
          ],
          "contourcarpet": [
           {
            "colorbar": {
             "outlinewidth": 0,
             "ticks": ""
            },
            "type": "contourcarpet"
           }
          ],
          "heatmap": [
           {
            "colorbar": {
             "outlinewidth": 0,
             "ticks": ""
            },
            "colorscale": [
             [
              0,
              "#0d0887"
             ],
             [
              0.1111111111111111,
              "#46039f"
             ],
             [
              0.2222222222222222,
              "#7201a8"
             ],
             [
              0.3333333333333333,
              "#9c179e"
             ],
             [
              0.4444444444444444,
              "#bd3786"
             ],
             [
              0.5555555555555556,
              "#d8576b"
             ],
             [
              0.6666666666666666,
              "#ed7953"
             ],
             [
              0.7777777777777778,
              "#fb9f3a"
             ],
             [
              0.8888888888888888,
              "#fdca26"
             ],
             [
              1,
              "#f0f921"
             ]
            ],
            "type": "heatmap"
           }
          ],
          "heatmapgl": [
           {
            "colorbar": {
             "outlinewidth": 0,
             "ticks": ""
            },
            "colorscale": [
             [
              0,
              "#0d0887"
             ],
             [
              0.1111111111111111,
              "#46039f"
             ],
             [
              0.2222222222222222,
              "#7201a8"
             ],
             [
              0.3333333333333333,
              "#9c179e"
             ],
             [
              0.4444444444444444,
              "#bd3786"
             ],
             [
              0.5555555555555556,
              "#d8576b"
             ],
             [
              0.6666666666666666,
              "#ed7953"
             ],
             [
              0.7777777777777778,
              "#fb9f3a"
             ],
             [
              0.8888888888888888,
              "#fdca26"
             ],
             [
              1,
              "#f0f921"
             ]
            ],
            "type": "heatmapgl"
           }
          ],
          "histogram": [
           {
            "marker": {
             "colorbar": {
              "outlinewidth": 0,
              "ticks": ""
             }
            },
            "type": "histogram"
           }
          ],
          "histogram2d": [
           {
            "colorbar": {
             "outlinewidth": 0,
             "ticks": ""
            },
            "colorscale": [
             [
              0,
              "#0d0887"
             ],
             [
              0.1111111111111111,
              "#46039f"
             ],
             [
              0.2222222222222222,
              "#7201a8"
             ],
             [
              0.3333333333333333,
              "#9c179e"
             ],
             [
              0.4444444444444444,
              "#bd3786"
             ],
             [
              0.5555555555555556,
              "#d8576b"
             ],
             [
              0.6666666666666666,
              "#ed7953"
             ],
             [
              0.7777777777777778,
              "#fb9f3a"
             ],
             [
              0.8888888888888888,
              "#fdca26"
             ],
             [
              1,
              "#f0f921"
             ]
            ],
            "type": "histogram2d"
           }
          ],
          "histogram2dcontour": [
           {
            "colorbar": {
             "outlinewidth": 0,
             "ticks": ""
            },
            "colorscale": [
             [
              0,
              "#0d0887"
             ],
             [
              0.1111111111111111,
              "#46039f"
             ],
             [
              0.2222222222222222,
              "#7201a8"
             ],
             [
              0.3333333333333333,
              "#9c179e"
             ],
             [
              0.4444444444444444,
              "#bd3786"
             ],
             [
              0.5555555555555556,
              "#d8576b"
             ],
             [
              0.6666666666666666,
              "#ed7953"
             ],
             [
              0.7777777777777778,
              "#fb9f3a"
             ],
             [
              0.8888888888888888,
              "#fdca26"
             ],
             [
              1,
              "#f0f921"
             ]
            ],
            "type": "histogram2dcontour"
           }
          ],
          "mesh3d": [
           {
            "colorbar": {
             "outlinewidth": 0,
             "ticks": ""
            },
            "type": "mesh3d"
           }
          ],
          "parcoords": [
           {
            "line": {
             "colorbar": {
              "outlinewidth": 0,
              "ticks": ""
             }
            },
            "type": "parcoords"
           }
          ],
          "scatter": [
           {
            "marker": {
             "colorbar": {
              "outlinewidth": 0,
              "ticks": ""
             }
            },
            "type": "scatter"
           }
          ],
          "scatter3d": [
           {
            "line": {
             "colorbar": {
              "outlinewidth": 0,
              "ticks": ""
             }
            },
            "marker": {
             "colorbar": {
              "outlinewidth": 0,
              "ticks": ""
             }
            },
            "type": "scatter3d"
           }
          ],
          "scattercarpet": [
           {
            "marker": {
             "colorbar": {
              "outlinewidth": 0,
              "ticks": ""
             }
            },
            "type": "scattercarpet"
           }
          ],
          "scattergeo": [
           {
            "marker": {
             "colorbar": {
              "outlinewidth": 0,
              "ticks": ""
             }
            },
            "type": "scattergeo"
           }
          ],
          "scattergl": [
           {
            "marker": {
             "colorbar": {
              "outlinewidth": 0,
              "ticks": ""
             }
            },
            "type": "scattergl"
           }
          ],
          "scattermapbox": [
           {
            "marker": {
             "colorbar": {
              "outlinewidth": 0,
              "ticks": ""
             }
            },
            "type": "scattermapbox"
           }
          ],
          "scatterpolar": [
           {
            "marker": {
             "colorbar": {
              "outlinewidth": 0,
              "ticks": ""
             }
            },
            "type": "scatterpolar"
           }
          ],
          "scatterpolargl": [
           {
            "marker": {
             "colorbar": {
              "outlinewidth": 0,
              "ticks": ""
             }
            },
            "type": "scatterpolargl"
           }
          ],
          "scatterternary": [
           {
            "marker": {
             "colorbar": {
              "outlinewidth": 0,
              "ticks": ""
             }
            },
            "type": "scatterternary"
           }
          ],
          "surface": [
           {
            "colorbar": {
             "outlinewidth": 0,
             "ticks": ""
            },
            "colorscale": [
             [
              0,
              "#0d0887"
             ],
             [
              0.1111111111111111,
              "#46039f"
             ],
             [
              0.2222222222222222,
              "#7201a8"
             ],
             [
              0.3333333333333333,
              "#9c179e"
             ],
             [
              0.4444444444444444,
              "#bd3786"
             ],
             [
              0.5555555555555556,
              "#d8576b"
             ],
             [
              0.6666666666666666,
              "#ed7953"
             ],
             [
              0.7777777777777778,
              "#fb9f3a"
             ],
             [
              0.8888888888888888,
              "#fdca26"
             ],
             [
              1,
              "#f0f921"
             ]
            ],
            "type": "surface"
           }
          ],
          "table": [
           {
            "cells": {
             "fill": {
              "color": "#EBF0F8"
             },
             "line": {
              "color": "white"
             }
            },
            "header": {
             "fill": {
              "color": "#C8D4E3"
             },
             "line": {
              "color": "white"
             }
            },
            "type": "table"
           }
          ]
         },
         "layout": {
          "annotationdefaults": {
           "arrowcolor": "#2a3f5f",
           "arrowhead": 0,
           "arrowwidth": 1
          },
          "colorscale": {
           "diverging": [
            [
             0,
             "#8e0152"
            ],
            [
             0.1,
             "#c51b7d"
            ],
            [
             0.2,
             "#de77ae"
            ],
            [
             0.3,
             "#f1b6da"
            ],
            [
             0.4,
             "#fde0ef"
            ],
            [
             0.5,
             "#f7f7f7"
            ],
            [
             0.6,
             "#e6f5d0"
            ],
            [
             0.7,
             "#b8e186"
            ],
            [
             0.8,
             "#7fbc41"
            ],
            [
             0.9,
             "#4d9221"
            ],
            [
             1,
             "#276419"
            ]
           ],
           "sequential": [
            [
             0,
             "#0d0887"
            ],
            [
             0.1111111111111111,
             "#46039f"
            ],
            [
             0.2222222222222222,
             "#7201a8"
            ],
            [
             0.3333333333333333,
             "#9c179e"
            ],
            [
             0.4444444444444444,
             "#bd3786"
            ],
            [
             0.5555555555555556,
             "#d8576b"
            ],
            [
             0.6666666666666666,
             "#ed7953"
            ],
            [
             0.7777777777777778,
             "#fb9f3a"
            ],
            [
             0.8888888888888888,
             "#fdca26"
            ],
            [
             1,
             "#f0f921"
            ]
           ],
           "sequentialminus": [
            [
             0,
             "#0d0887"
            ],
            [
             0.1111111111111111,
             "#46039f"
            ],
            [
             0.2222222222222222,
             "#7201a8"
            ],
            [
             0.3333333333333333,
             "#9c179e"
            ],
            [
             0.4444444444444444,
             "#bd3786"
            ],
            [
             0.5555555555555556,
             "#d8576b"
            ],
            [
             0.6666666666666666,
             "#ed7953"
            ],
            [
             0.7777777777777778,
             "#fb9f3a"
            ],
            [
             0.8888888888888888,
             "#fdca26"
            ],
            [
             1,
             "#f0f921"
            ]
           ]
          },
          "colorway": [
           "#636efa",
           "#EF553B",
           "#00cc96",
           "#ab63fa",
           "#FFA15A",
           "#19d3f3",
           "#FF6692",
           "#B6E880",
           "#FF97FF",
           "#FECB52"
          ],
          "font": {
           "color": "#2a3f5f"
          },
          "geo": {
           "bgcolor": "white",
           "lakecolor": "white",
           "landcolor": "#E5ECF6",
           "showlakes": true,
           "showland": true,
           "subunitcolor": "white"
          },
          "hoverlabel": {
           "align": "left"
          },
          "hovermode": "closest",
          "mapbox": {
           "style": "light"
          },
          "paper_bgcolor": "white",
          "plot_bgcolor": "#E5ECF6",
          "polar": {
           "angularaxis": {
            "gridcolor": "white",
            "linecolor": "white",
            "ticks": ""
           },
           "bgcolor": "#E5ECF6",
           "radialaxis": {
            "gridcolor": "white",
            "linecolor": "white",
            "ticks": ""
           }
          },
          "scene": {
           "xaxis": {
            "backgroundcolor": "#E5ECF6",
            "gridcolor": "white",
            "gridwidth": 2,
            "linecolor": "white",
            "showbackground": true,
            "ticks": "",
            "zerolinecolor": "white"
           },
           "yaxis": {
            "backgroundcolor": "#E5ECF6",
            "gridcolor": "white",
            "gridwidth": 2,
            "linecolor": "white",
            "showbackground": true,
            "ticks": "",
            "zerolinecolor": "white"
           },
           "zaxis": {
            "backgroundcolor": "#E5ECF6",
            "gridcolor": "white",
            "gridwidth": 2,
            "linecolor": "white",
            "showbackground": true,
            "ticks": "",
            "zerolinecolor": "white"
           }
          },
          "shapedefaults": {
           "line": {
            "color": "#2a3f5f"
           }
          },
          "ternary": {
           "aaxis": {
            "gridcolor": "white",
            "linecolor": "white",
            "ticks": ""
           },
           "baxis": {
            "gridcolor": "white",
            "linecolor": "white",
            "ticks": ""
           },
           "bgcolor": "#E5ECF6",
           "caxis": {
            "gridcolor": "white",
            "linecolor": "white",
            "ticks": ""
           }
          },
          "title": {
           "x": 0.05
          },
          "xaxis": {
           "automargin": true,
           "gridcolor": "white",
           "linecolor": "white",
           "ticks": "",
           "zerolinecolor": "white",
           "zerolinewidth": 2
          },
          "yaxis": {
           "automargin": true,
           "gridcolor": "white",
           "linecolor": "white",
           "ticks": "",
           "zerolinecolor": "white",
           "zerolinewidth": 2
          }
         }
        },
        "title": {
         "text": "Class distribution"
        }
       }
      },
      "text/html": [
       "<div>\n",
       "        \n",
       "        \n",
       "            <div id=\"0c3cc6a6-1f45-4659-8b7b-7fc6c5a77da1\" class=\"plotly-graph-div\" style=\"height:525px; width:100%;\"></div>\n",
       "            <script type=\"text/javascript\">\n",
       "                require([\"plotly\"], function(Plotly) {\n",
       "                    window.PLOTLYENV=window.PLOTLYENV || {};\n",
       "                    \n",
       "                if (document.getElementById(\"0c3cc6a6-1f45-4659-8b7b-7fc6c5a77da1\")) {\n",
       "                    Plotly.newPlot(\n",
       "                        '0c3cc6a6-1f45-4659-8b7b-7fc6c5a77da1',\n",
       "                        [{\"text\": \"Distribution of target variable\", \"type\": \"bar\", \"x\": [29, 21, 22, 13, 19, 11, 6, 7, 28, 18, 4, 23, 15, 25, 5, 16, 17, 8, 14, 26, 12, 20, 10, 9, 3, 27, 24, 1, 2, 0], \"y\": [2203, 2199, 2174, 2174, 2170, 2165, 2161, 2158, 2157, 2155, 2152, 2143, 2143, 2140, 2111, 2105, 2103, 2101, 2098, 2062, 1578, 1578, 1560, 1549, 1547, 1525, 1521, 1521, 1515, 1484]}],\n",
       "                        {\"template\": {\"data\": {\"bar\": [{\"error_x\": {\"color\": \"#2a3f5f\"}, \"error_y\": {\"color\": \"#2a3f5f\"}, \"marker\": {\"line\": {\"color\": \"#E5ECF6\", \"width\": 0.5}}, \"type\": \"bar\"}], \"barpolar\": [{\"marker\": {\"line\": {\"color\": \"#E5ECF6\", \"width\": 0.5}}, \"type\": \"barpolar\"}], \"carpet\": [{\"aaxis\": {\"endlinecolor\": \"#2a3f5f\", \"gridcolor\": \"white\", \"linecolor\": \"white\", \"minorgridcolor\": \"white\", \"startlinecolor\": \"#2a3f5f\"}, \"baxis\": {\"endlinecolor\": \"#2a3f5f\", \"gridcolor\": \"white\", \"linecolor\": \"white\", \"minorgridcolor\": \"white\", \"startlinecolor\": \"#2a3f5f\"}, \"type\": \"carpet\"}], \"choropleth\": [{\"colorbar\": {\"outlinewidth\": 0, \"ticks\": \"\"}, \"type\": \"choropleth\"}], \"contour\": [{\"colorbar\": {\"outlinewidth\": 0, \"ticks\": \"\"}, \"colorscale\": [[0.0, \"#0d0887\"], [0.1111111111111111, \"#46039f\"], [0.2222222222222222, \"#7201a8\"], [0.3333333333333333, \"#9c179e\"], [0.4444444444444444, \"#bd3786\"], [0.5555555555555556, \"#d8576b\"], [0.6666666666666666, \"#ed7953\"], [0.7777777777777778, \"#fb9f3a\"], [0.8888888888888888, \"#fdca26\"], [1.0, \"#f0f921\"]], \"type\": \"contour\"}], \"contourcarpet\": [{\"colorbar\": {\"outlinewidth\": 0, \"ticks\": \"\"}, \"type\": \"contourcarpet\"}], \"heatmap\": [{\"colorbar\": {\"outlinewidth\": 0, \"ticks\": \"\"}, \"colorscale\": [[0.0, \"#0d0887\"], [0.1111111111111111, \"#46039f\"], [0.2222222222222222, \"#7201a8\"], [0.3333333333333333, \"#9c179e\"], [0.4444444444444444, \"#bd3786\"], [0.5555555555555556, \"#d8576b\"], [0.6666666666666666, \"#ed7953\"], [0.7777777777777778, \"#fb9f3a\"], [0.8888888888888888, \"#fdca26\"], [1.0, \"#f0f921\"]], \"type\": \"heatmap\"}], \"heatmapgl\": [{\"colorbar\": {\"outlinewidth\": 0, \"ticks\": \"\"}, \"colorscale\": [[0.0, \"#0d0887\"], [0.1111111111111111, \"#46039f\"], [0.2222222222222222, \"#7201a8\"], [0.3333333333333333, \"#9c179e\"], [0.4444444444444444, \"#bd3786\"], [0.5555555555555556, \"#d8576b\"], [0.6666666666666666, \"#ed7953\"], [0.7777777777777778, \"#fb9f3a\"], [0.8888888888888888, \"#fdca26\"], [1.0, \"#f0f921\"]], \"type\": \"heatmapgl\"}], \"histogram\": [{\"marker\": {\"colorbar\": {\"outlinewidth\": 0, \"ticks\": \"\"}}, \"type\": \"histogram\"}], \"histogram2d\": [{\"colorbar\": {\"outlinewidth\": 0, \"ticks\": \"\"}, \"colorscale\": [[0.0, \"#0d0887\"], [0.1111111111111111, \"#46039f\"], [0.2222222222222222, \"#7201a8\"], [0.3333333333333333, \"#9c179e\"], [0.4444444444444444, \"#bd3786\"], [0.5555555555555556, \"#d8576b\"], [0.6666666666666666, \"#ed7953\"], [0.7777777777777778, \"#fb9f3a\"], [0.8888888888888888, \"#fdca26\"], [1.0, \"#f0f921\"]], \"type\": \"histogram2d\"}], \"histogram2dcontour\": [{\"colorbar\": {\"outlinewidth\": 0, \"ticks\": \"\"}, \"colorscale\": [[0.0, \"#0d0887\"], [0.1111111111111111, \"#46039f\"], [0.2222222222222222, \"#7201a8\"], [0.3333333333333333, \"#9c179e\"], [0.4444444444444444, \"#bd3786\"], [0.5555555555555556, \"#d8576b\"], [0.6666666666666666, \"#ed7953\"], [0.7777777777777778, \"#fb9f3a\"], [0.8888888888888888, \"#fdca26\"], [1.0, \"#f0f921\"]], \"type\": \"histogram2dcontour\"}], \"mesh3d\": [{\"colorbar\": {\"outlinewidth\": 0, \"ticks\": \"\"}, \"type\": \"mesh3d\"}], \"parcoords\": [{\"line\": {\"colorbar\": {\"outlinewidth\": 0, \"ticks\": \"\"}}, \"type\": \"parcoords\"}], \"scatter\": [{\"marker\": {\"colorbar\": {\"outlinewidth\": 0, \"ticks\": \"\"}}, \"type\": \"scatter\"}], \"scatter3d\": [{\"line\": {\"colorbar\": {\"outlinewidth\": 0, \"ticks\": \"\"}}, \"marker\": {\"colorbar\": {\"outlinewidth\": 0, \"ticks\": \"\"}}, \"type\": \"scatter3d\"}], \"scattercarpet\": [{\"marker\": {\"colorbar\": {\"outlinewidth\": 0, \"ticks\": \"\"}}, \"type\": \"scattercarpet\"}], \"scattergeo\": [{\"marker\": {\"colorbar\": {\"outlinewidth\": 0, \"ticks\": \"\"}}, \"type\": \"scattergeo\"}], \"scattergl\": [{\"marker\": {\"colorbar\": {\"outlinewidth\": 0, \"ticks\": \"\"}}, \"type\": \"scattergl\"}], \"scattermapbox\": [{\"marker\": {\"colorbar\": {\"outlinewidth\": 0, \"ticks\": \"\"}}, \"type\": \"scattermapbox\"}], \"scatterpolar\": [{\"marker\": {\"colorbar\": {\"outlinewidth\": 0, \"ticks\": \"\"}}, \"type\": \"scatterpolar\"}], \"scatterpolargl\": [{\"marker\": {\"colorbar\": {\"outlinewidth\": 0, \"ticks\": \"\"}}, \"type\": \"scatterpolargl\"}], \"scatterternary\": [{\"marker\": {\"colorbar\": {\"outlinewidth\": 0, \"ticks\": \"\"}}, \"type\": \"scatterternary\"}], \"surface\": [{\"colorbar\": {\"outlinewidth\": 0, \"ticks\": \"\"}, \"colorscale\": [[0.0, \"#0d0887\"], [0.1111111111111111, \"#46039f\"], [0.2222222222222222, \"#7201a8\"], [0.3333333333333333, \"#9c179e\"], [0.4444444444444444, \"#bd3786\"], [0.5555555555555556, \"#d8576b\"], [0.6666666666666666, \"#ed7953\"], [0.7777777777777778, \"#fb9f3a\"], [0.8888888888888888, \"#fdca26\"], [1.0, \"#f0f921\"]], \"type\": \"surface\"}], \"table\": [{\"cells\": {\"fill\": {\"color\": \"#EBF0F8\"}, \"line\": {\"color\": \"white\"}}, \"header\": {\"fill\": {\"color\": \"#C8D4E3\"}, \"line\": {\"color\": \"white\"}}, \"type\": \"table\"}]}, \"layout\": {\"annotationdefaults\": {\"arrowcolor\": \"#2a3f5f\", \"arrowhead\": 0, \"arrowwidth\": 1}, \"colorscale\": {\"diverging\": [[0, \"#8e0152\"], [0.1, \"#c51b7d\"], [0.2, \"#de77ae\"], [0.3, \"#f1b6da\"], [0.4, \"#fde0ef\"], [0.5, \"#f7f7f7\"], [0.6, \"#e6f5d0\"], [0.7, \"#b8e186\"], [0.8, \"#7fbc41\"], [0.9, \"#4d9221\"], [1, \"#276419\"]], \"sequential\": [[0.0, \"#0d0887\"], [0.1111111111111111, \"#46039f\"], [0.2222222222222222, \"#7201a8\"], [0.3333333333333333, \"#9c179e\"], [0.4444444444444444, \"#bd3786\"], [0.5555555555555556, \"#d8576b\"], [0.6666666666666666, \"#ed7953\"], [0.7777777777777778, \"#fb9f3a\"], [0.8888888888888888, \"#fdca26\"], [1.0, \"#f0f921\"]], \"sequentialminus\": [[0.0, \"#0d0887\"], [0.1111111111111111, \"#46039f\"], [0.2222222222222222, \"#7201a8\"], [0.3333333333333333, \"#9c179e\"], [0.4444444444444444, \"#bd3786\"], [0.5555555555555556, \"#d8576b\"], [0.6666666666666666, \"#ed7953\"], [0.7777777777777778, \"#fb9f3a\"], [0.8888888888888888, \"#fdca26\"], [1.0, \"#f0f921\"]]}, \"colorway\": [\"#636efa\", \"#EF553B\", \"#00cc96\", \"#ab63fa\", \"#FFA15A\", \"#19d3f3\", \"#FF6692\", \"#B6E880\", \"#FF97FF\", \"#FECB52\"], \"font\": {\"color\": \"#2a3f5f\"}, \"geo\": {\"bgcolor\": \"white\", \"lakecolor\": \"white\", \"landcolor\": \"#E5ECF6\", \"showlakes\": true, \"showland\": true, \"subunitcolor\": \"white\"}, \"hoverlabel\": {\"align\": \"left\"}, \"hovermode\": \"closest\", \"mapbox\": {\"style\": \"light\"}, \"paper_bgcolor\": \"white\", \"plot_bgcolor\": \"#E5ECF6\", \"polar\": {\"angularaxis\": {\"gridcolor\": \"white\", \"linecolor\": \"white\", \"ticks\": \"\"}, \"bgcolor\": \"#E5ECF6\", \"radialaxis\": {\"gridcolor\": \"white\", \"linecolor\": \"white\", \"ticks\": \"\"}}, \"scene\": {\"xaxis\": {\"backgroundcolor\": \"#E5ECF6\", \"gridcolor\": \"white\", \"gridwidth\": 2, \"linecolor\": \"white\", \"showbackground\": true, \"ticks\": \"\", \"zerolinecolor\": \"white\"}, \"yaxis\": {\"backgroundcolor\": \"#E5ECF6\", \"gridcolor\": \"white\", \"gridwidth\": 2, \"linecolor\": \"white\", \"showbackground\": true, \"ticks\": \"\", \"zerolinecolor\": \"white\"}, \"zaxis\": {\"backgroundcolor\": \"#E5ECF6\", \"gridcolor\": \"white\", \"gridwidth\": 2, \"linecolor\": \"white\", \"showbackground\": true, \"ticks\": \"\", \"zerolinecolor\": \"white\"}}, \"shapedefaults\": {\"line\": {\"color\": \"#2a3f5f\"}}, \"ternary\": {\"aaxis\": {\"gridcolor\": \"white\", \"linecolor\": \"white\", \"ticks\": \"\"}, \"baxis\": {\"gridcolor\": \"white\", \"linecolor\": \"white\", \"ticks\": \"\"}, \"bgcolor\": \"#E5ECF6\", \"caxis\": {\"gridcolor\": \"white\", \"linecolor\": \"white\", \"ticks\": \"\"}}, \"title\": {\"x\": 0.05}, \"xaxis\": {\"automargin\": true, \"gridcolor\": \"white\", \"linecolor\": \"white\", \"ticks\": \"\", \"zerolinecolor\": \"white\", \"zerolinewidth\": 2}, \"yaxis\": {\"automargin\": true, \"gridcolor\": \"white\", \"linecolor\": \"white\", \"ticks\": \"\", \"zerolinecolor\": \"white\", \"zerolinewidth\": 2}}}, \"title\": {\"text\": \"Class distribution\"}},\n",
       "                        {\"responsive\": true}\n",
       "                    ).then(function(){\n",
       "                            \n",
       "var gd = document.getElementById('0c3cc6a6-1f45-4659-8b7b-7fc6c5a77da1');\n",
       "var x = new MutationObserver(function (mutations, observer) {{\n",
       "        var display = window.getComputedStyle(gd).display;\n",
       "        if (!display || display === 'none') {{\n",
       "            console.log([gd, 'removed!']);\n",
       "            Plotly.purge(gd);\n",
       "            observer.disconnect();\n",
       "        }}\n",
       "}});\n",
       "\n",
       "// Listen for the removal of the full notebook cells\n",
       "var notebookContainer = gd.closest('#notebook-container');\n",
       "if (notebookContainer) {{\n",
       "    x.observe(notebookContainer, {childList: true});\n",
       "}}\n",
       "\n",
       "// Listen for the clearing of the current output cell\n",
       "var outputEl = gd.closest('.output');\n",
       "if (outputEl) {{\n",
       "    x.observe(outputEl, {childList: true});\n",
       "}}\n",
       "\n",
       "                        })\n",
       "                };\n",
       "                });\n",
       "            </script>\n",
       "        </div>"
      ]
     },
     "metadata": {},
     "output_type": "display_data"
    }
   ],
   "source": [
    "data = [go.Bar(\n",
    "            x = PROF_train[\"y\"].value_counts().index.values,\n",
    "            y = PROF_train[\"y\"].value_counts().values,\n",
    "            text='Distribution of target variable'\n",
    "    )]\n",
    "\n",
    "layout = go.Layout(\n",
    "    title='Class distribution'\n",
    ")\n",
    "\n",
    "fig = go.Figure(data=data, layout=layout)\n",
    "\n",
    "py.iplot(fig, filename='basic-bar')"
   ]
  },
  {
   "cell_type": "code",
   "execution_count": 10,
   "metadata": {},
   "outputs": [
    {
     "name": "stdout",
     "output_type": "stream",
     "text": [
      "----- Training Done -----\n"
     ]
    }
   ],
   "source": [
    "from sklearn.ensemble import RandomForestClassifier\n",
    "rf = RandomForestClassifier(n_estimators=2000, max_depth=8, min_samples_leaf=4, max_features=0.2, n_jobs=-1, random_state=0)\n",
    "rf.fit(PROF_train.drop(['y'],axis=1), PROF_train.y)\n",
    "features = PROF_train.drop(['y'],axis=1).columns.values\n",
    "print(\"----- Training Done -----\")"
   ]
  },
  {
   "cell_type": "code",
   "execution_count": 11,
   "metadata": {},
   "outputs": [
    {
     "data": {
      "application/vnd.plotly.v1+json": {
       "config": {
        "linkText": "Export to plot.ly",
        "plotlyServerURL": "https://plot.ly",
        "showLink": false
       },
       "data": [
        {
         "marker": {
          "color": [
           0.007702397717527922,
           0.008474644317192562,
           0.009837115484193163,
           0.008731752754362505,
           0.007371814550895517,
           0.007060111549021469,
           0.008651529790883657,
           0.008437040898590117,
           0.008204130540805038,
           0.007991774351177566,
           0.0075830503335049815,
           0.007818789622923025,
           0.00960054739249438,
           0.008011028070352264,
           0.009072948276703376,
           0.00777804646927864,
           0.007717795444418248,
           0.007446380171412531,
           0.008176029561957752,
           0.008039678933552535,
           0.007201475883207637,
           0.007757242230689221,
           0.007369064457640053,
           0.007766985469367685,
           0.0075397685928415056,
           0.0073235094779392365,
           0.007454302212179211,
           0.0075689757024389286,
           0.007343559493162864,
           0.007780994876862206,
           0.0082859457626787,
           0.007923546555873505,
           0.008157407558171594,
           0.007566552074847908,
           0.006996148086192992,
           0.007466782511839612,
           0.006971895725047962,
           0.007282878666799253,
           0.007233117624208579,
           0.007726803988232759,
           0.008039256078856557,
           0.007108969439137753,
           0.007339669653128837,
           0.007639952667670128,
           0.008523278646460897,
           0.008943367948370298,
           0.00788865330327606,
           0.007936262563256047,
           0.007307599718858934,
           0.007851467342106877,
           0.007271701410958761,
           0.007906609860900339,
           0.007212342052058598,
           0.007214825788574192,
           0.007601683584210205,
           0.0076091082821659415,
           0.007581723160700784,
           0.006785104615718829,
           0.0077964047682498655,
           0.007775282946570668,
           0.007280921600513571,
           0.007874570176555113,
           0.007181467737094434,
           0.00720389539548045,
           0.007828128395767775,
           0.008213596224437292,
           0.008134024114667834,
           0.007876497732229449,
           0.010712228420975559,
           0.009679342754211721,
           0.008253775589032156,
           0.008213923428395383,
           0.008944128177985669,
           0.008672047931757488,
           0.008955590254944574,
           0.00808862393827235,
           0.009535114844501428,
           0.012714170341291573,
           0.00976341711679714,
           0.008169024758925843,
           0.008112839691991341,
           0.008941542958194349,
           0.008901728301077669,
           0.00816034929713793,
           0.009091379796924835,
           0.008894944455999504,
           0.007244564505946685,
           0.008220833887082796,
           0.00789839648914301,
           0.007196118011286885,
           0.007700906706482394,
           0.007316395577554455,
           0.007655683354765434,
           0.007674706745329643,
           0.007433744752565837,
           0.007992192353727346,
           0.008112111476667992,
           0.008854978274399678,
           0.009685421686350896,
           0.008244833617696701,
           0.0073311395569843575,
           0.0067954404873674,
           0.007405530488456395,
           0.0069612770741219795,
           0.007184418341598235,
           0.006664094545433956,
           0.0065650551031375265,
           0.006799670879815218,
           0.006715949426809731,
           0.007139888393966211,
           0.00652154450078127,
           0.007196929879580602,
           0.006962496566776146,
           0.006892426774472418,
           0.007265202622964263,
           0.006617495113555261,
           0.006226560797265845,
           0.0067526927419608,
           0.006702549212545258,
           0.007221130809017178,
           0.007052432901111154,
           0.0069360996175779005,
           0.007463156524817714,
           0.006830708846884271,
           0.007078800266208075,
           0.0068306973028145505,
           0.008142989991022026,
           0.007358633346092879
          ],
          "colorscale": [
           [
            0,
            "rgb(12,51,131)"
           ],
           [
            0.25,
            "rgb(10,136,186)"
           ],
           [
            0.5,
            "rgb(242,211,56)"
           ],
           [
            0.75,
            "rgb(242,143,56)"
           ],
           [
            1,
            "rgb(217,30,30)"
           ]
          ],
          "showscale": true,
          "size": 13,
          "sizemode": "diameter",
          "sizeref": 1
         },
         "mode": "markers",
         "text": [
          "S0",
          "S1",
          "S2",
          "S3",
          "S4",
          "S5",
          "S6",
          "S7",
          "S8",
          "S9",
          "S10",
          "S11",
          "S12",
          "S13",
          "S14",
          "S15",
          "S16",
          "S17",
          "S18",
          "S19",
          "S20",
          "S21",
          "S22",
          "S23",
          "S24",
          "S25",
          "S26",
          "S27",
          "S28",
          "S29",
          "S30",
          "S31",
          "S32",
          "S33",
          "S34",
          "S35",
          "S36",
          "S37",
          "S38",
          "S39",
          "S40",
          "S41",
          "S42",
          "S43",
          "S44",
          "S45",
          "S46",
          "S47",
          "S48",
          "S49",
          "S50",
          "S51",
          "S52",
          "S53",
          "S54",
          "S55",
          "S56",
          "S57",
          "S58",
          "S59",
          "S60",
          "S61",
          "S62",
          "S63",
          "S64",
          "S65",
          "S66",
          "S67",
          "S68",
          "S69",
          "S70",
          "S71",
          "S72",
          "S73",
          "S74",
          "S75",
          "S76",
          "S77",
          "S78",
          "S79",
          "S80",
          "S81",
          "S82",
          "S83",
          "S84",
          "S85",
          "S86",
          "S87",
          "S88",
          "S89",
          "S90",
          "S91",
          "S92",
          "S93",
          "S94",
          "S95",
          "S96",
          "S97",
          "S98",
          "S99",
          "S100",
          "S101",
          "S102",
          "S103",
          "S104",
          "S105",
          "S106",
          "S107",
          "S108",
          "S109",
          "S110",
          "S111",
          "S112",
          "S113",
          "S114",
          "S115",
          "S116",
          "S117",
          "S118",
          "S119",
          "S120",
          "S121",
          "S122",
          "S123",
          "S124",
          "S125",
          "S126",
          "S127"
         ],
         "type": "scatter",
         "x": [
          "S0",
          "S1",
          "S2",
          "S3",
          "S4",
          "S5",
          "S6",
          "S7",
          "S8",
          "S9",
          "S10",
          "S11",
          "S12",
          "S13",
          "S14",
          "S15",
          "S16",
          "S17",
          "S18",
          "S19",
          "S20",
          "S21",
          "S22",
          "S23",
          "S24",
          "S25",
          "S26",
          "S27",
          "S28",
          "S29",
          "S30",
          "S31",
          "S32",
          "S33",
          "S34",
          "S35",
          "S36",
          "S37",
          "S38",
          "S39",
          "S40",
          "S41",
          "S42",
          "S43",
          "S44",
          "S45",
          "S46",
          "S47",
          "S48",
          "S49",
          "S50",
          "S51",
          "S52",
          "S53",
          "S54",
          "S55",
          "S56",
          "S57",
          "S58",
          "S59",
          "S60",
          "S61",
          "S62",
          "S63",
          "S64",
          "S65",
          "S66",
          "S67",
          "S68",
          "S69",
          "S70",
          "S71",
          "S72",
          "S73",
          "S74",
          "S75",
          "S76",
          "S77",
          "S78",
          "S79",
          "S80",
          "S81",
          "S82",
          "S83",
          "S84",
          "S85",
          "S86",
          "S87",
          "S88",
          "S89",
          "S90",
          "S91",
          "S92",
          "S93",
          "S94",
          "S95",
          "S96",
          "S97",
          "S98",
          "S99",
          "S100",
          "S101",
          "S102",
          "S103",
          "S104",
          "S105",
          "S106",
          "S107",
          "S108",
          "S109",
          "S110",
          "S111",
          "S112",
          "S113",
          "S114",
          "S115",
          "S116",
          "S117",
          "S118",
          "S119",
          "S120",
          "S121",
          "S122",
          "S123",
          "S124",
          "S125",
          "S126",
          "S127"
         ],
         "y": [
          0.007702397717527922,
          0.008474644317192562,
          0.009837115484193163,
          0.008731752754362505,
          0.007371814550895517,
          0.007060111549021469,
          0.008651529790883657,
          0.008437040898590117,
          0.008204130540805038,
          0.007991774351177566,
          0.0075830503335049815,
          0.007818789622923025,
          0.00960054739249438,
          0.008011028070352264,
          0.009072948276703376,
          0.00777804646927864,
          0.007717795444418248,
          0.007446380171412531,
          0.008176029561957752,
          0.008039678933552535,
          0.007201475883207637,
          0.007757242230689221,
          0.007369064457640053,
          0.007766985469367685,
          0.0075397685928415056,
          0.0073235094779392365,
          0.007454302212179211,
          0.0075689757024389286,
          0.007343559493162864,
          0.007780994876862206,
          0.0082859457626787,
          0.007923546555873505,
          0.008157407558171594,
          0.007566552074847908,
          0.006996148086192992,
          0.007466782511839612,
          0.006971895725047962,
          0.007282878666799253,
          0.007233117624208579,
          0.007726803988232759,
          0.008039256078856557,
          0.007108969439137753,
          0.007339669653128837,
          0.007639952667670128,
          0.008523278646460897,
          0.008943367948370298,
          0.00788865330327606,
          0.007936262563256047,
          0.007307599718858934,
          0.007851467342106877,
          0.007271701410958761,
          0.007906609860900339,
          0.007212342052058598,
          0.007214825788574192,
          0.007601683584210205,
          0.0076091082821659415,
          0.007581723160700784,
          0.006785104615718829,
          0.0077964047682498655,
          0.007775282946570668,
          0.007280921600513571,
          0.007874570176555113,
          0.007181467737094434,
          0.00720389539548045,
          0.007828128395767775,
          0.008213596224437292,
          0.008134024114667834,
          0.007876497732229449,
          0.010712228420975559,
          0.009679342754211721,
          0.008253775589032156,
          0.008213923428395383,
          0.008944128177985669,
          0.008672047931757488,
          0.008955590254944574,
          0.00808862393827235,
          0.009535114844501428,
          0.012714170341291573,
          0.00976341711679714,
          0.008169024758925843,
          0.008112839691991341,
          0.008941542958194349,
          0.008901728301077669,
          0.00816034929713793,
          0.009091379796924835,
          0.008894944455999504,
          0.007244564505946685,
          0.008220833887082796,
          0.00789839648914301,
          0.007196118011286885,
          0.007700906706482394,
          0.007316395577554455,
          0.007655683354765434,
          0.007674706745329643,
          0.007433744752565837,
          0.007992192353727346,
          0.008112111476667992,
          0.008854978274399678,
          0.009685421686350896,
          0.008244833617696701,
          0.0073311395569843575,
          0.0067954404873674,
          0.007405530488456395,
          0.0069612770741219795,
          0.007184418341598235,
          0.006664094545433956,
          0.0065650551031375265,
          0.006799670879815218,
          0.006715949426809731,
          0.007139888393966211,
          0.00652154450078127,
          0.007196929879580602,
          0.006962496566776146,
          0.006892426774472418,
          0.007265202622964263,
          0.006617495113555261,
          0.006226560797265845,
          0.0067526927419608,
          0.006702549212545258,
          0.007221130809017178,
          0.007052432901111154,
          0.0069360996175779005,
          0.007463156524817714,
          0.006830708846884271,
          0.007078800266208075,
          0.0068306973028145505,
          0.008142989991022026,
          0.007358633346092879
         ]
        }
       ],
       "layout": {
        "autosize": true,
        "hovermode": "closest",
        "showlegend": false,
        "template": {
         "data": {
          "bar": [
           {
            "error_x": {
             "color": "#2a3f5f"
            },
            "error_y": {
             "color": "#2a3f5f"
            },
            "marker": {
             "line": {
              "color": "#E5ECF6",
              "width": 0.5
             }
            },
            "type": "bar"
           }
          ],
          "barpolar": [
           {
            "marker": {
             "line": {
              "color": "#E5ECF6",
              "width": 0.5
             }
            },
            "type": "barpolar"
           }
          ],
          "carpet": [
           {
            "aaxis": {
             "endlinecolor": "#2a3f5f",
             "gridcolor": "white",
             "linecolor": "white",
             "minorgridcolor": "white",
             "startlinecolor": "#2a3f5f"
            },
            "baxis": {
             "endlinecolor": "#2a3f5f",
             "gridcolor": "white",
             "linecolor": "white",
             "minorgridcolor": "white",
             "startlinecolor": "#2a3f5f"
            },
            "type": "carpet"
           }
          ],
          "choropleth": [
           {
            "colorbar": {
             "outlinewidth": 0,
             "ticks": ""
            },
            "type": "choropleth"
           }
          ],
          "contour": [
           {
            "colorbar": {
             "outlinewidth": 0,
             "ticks": ""
            },
            "colorscale": [
             [
              0,
              "#0d0887"
             ],
             [
              0.1111111111111111,
              "#46039f"
             ],
             [
              0.2222222222222222,
              "#7201a8"
             ],
             [
              0.3333333333333333,
              "#9c179e"
             ],
             [
              0.4444444444444444,
              "#bd3786"
             ],
             [
              0.5555555555555556,
              "#d8576b"
             ],
             [
              0.6666666666666666,
              "#ed7953"
             ],
             [
              0.7777777777777778,
              "#fb9f3a"
             ],
             [
              0.8888888888888888,
              "#fdca26"
             ],
             [
              1,
              "#f0f921"
             ]
            ],
            "type": "contour"
           }
          ],
          "contourcarpet": [
           {
            "colorbar": {
             "outlinewidth": 0,
             "ticks": ""
            },
            "type": "contourcarpet"
           }
          ],
          "heatmap": [
           {
            "colorbar": {
             "outlinewidth": 0,
             "ticks": ""
            },
            "colorscale": [
             [
              0,
              "#0d0887"
             ],
             [
              0.1111111111111111,
              "#46039f"
             ],
             [
              0.2222222222222222,
              "#7201a8"
             ],
             [
              0.3333333333333333,
              "#9c179e"
             ],
             [
              0.4444444444444444,
              "#bd3786"
             ],
             [
              0.5555555555555556,
              "#d8576b"
             ],
             [
              0.6666666666666666,
              "#ed7953"
             ],
             [
              0.7777777777777778,
              "#fb9f3a"
             ],
             [
              0.8888888888888888,
              "#fdca26"
             ],
             [
              1,
              "#f0f921"
             ]
            ],
            "type": "heatmap"
           }
          ],
          "heatmapgl": [
           {
            "colorbar": {
             "outlinewidth": 0,
             "ticks": ""
            },
            "colorscale": [
             [
              0,
              "#0d0887"
             ],
             [
              0.1111111111111111,
              "#46039f"
             ],
             [
              0.2222222222222222,
              "#7201a8"
             ],
             [
              0.3333333333333333,
              "#9c179e"
             ],
             [
              0.4444444444444444,
              "#bd3786"
             ],
             [
              0.5555555555555556,
              "#d8576b"
             ],
             [
              0.6666666666666666,
              "#ed7953"
             ],
             [
              0.7777777777777778,
              "#fb9f3a"
             ],
             [
              0.8888888888888888,
              "#fdca26"
             ],
             [
              1,
              "#f0f921"
             ]
            ],
            "type": "heatmapgl"
           }
          ],
          "histogram": [
           {
            "marker": {
             "colorbar": {
              "outlinewidth": 0,
              "ticks": ""
             }
            },
            "type": "histogram"
           }
          ],
          "histogram2d": [
           {
            "colorbar": {
             "outlinewidth": 0,
             "ticks": ""
            },
            "colorscale": [
             [
              0,
              "#0d0887"
             ],
             [
              0.1111111111111111,
              "#46039f"
             ],
             [
              0.2222222222222222,
              "#7201a8"
             ],
             [
              0.3333333333333333,
              "#9c179e"
             ],
             [
              0.4444444444444444,
              "#bd3786"
             ],
             [
              0.5555555555555556,
              "#d8576b"
             ],
             [
              0.6666666666666666,
              "#ed7953"
             ],
             [
              0.7777777777777778,
              "#fb9f3a"
             ],
             [
              0.8888888888888888,
              "#fdca26"
             ],
             [
              1,
              "#f0f921"
             ]
            ],
            "type": "histogram2d"
           }
          ],
          "histogram2dcontour": [
           {
            "colorbar": {
             "outlinewidth": 0,
             "ticks": ""
            },
            "colorscale": [
             [
              0,
              "#0d0887"
             ],
             [
              0.1111111111111111,
              "#46039f"
             ],
             [
              0.2222222222222222,
              "#7201a8"
             ],
             [
              0.3333333333333333,
              "#9c179e"
             ],
             [
              0.4444444444444444,
              "#bd3786"
             ],
             [
              0.5555555555555556,
              "#d8576b"
             ],
             [
              0.6666666666666666,
              "#ed7953"
             ],
             [
              0.7777777777777778,
              "#fb9f3a"
             ],
             [
              0.8888888888888888,
              "#fdca26"
             ],
             [
              1,
              "#f0f921"
             ]
            ],
            "type": "histogram2dcontour"
           }
          ],
          "mesh3d": [
           {
            "colorbar": {
             "outlinewidth": 0,
             "ticks": ""
            },
            "type": "mesh3d"
           }
          ],
          "parcoords": [
           {
            "line": {
             "colorbar": {
              "outlinewidth": 0,
              "ticks": ""
             }
            },
            "type": "parcoords"
           }
          ],
          "scatter": [
           {
            "marker": {
             "colorbar": {
              "outlinewidth": 0,
              "ticks": ""
             }
            },
            "type": "scatter"
           }
          ],
          "scatter3d": [
           {
            "line": {
             "colorbar": {
              "outlinewidth": 0,
              "ticks": ""
             }
            },
            "marker": {
             "colorbar": {
              "outlinewidth": 0,
              "ticks": ""
             }
            },
            "type": "scatter3d"
           }
          ],
          "scattercarpet": [
           {
            "marker": {
             "colorbar": {
              "outlinewidth": 0,
              "ticks": ""
             }
            },
            "type": "scattercarpet"
           }
          ],
          "scattergeo": [
           {
            "marker": {
             "colorbar": {
              "outlinewidth": 0,
              "ticks": ""
             }
            },
            "type": "scattergeo"
           }
          ],
          "scattergl": [
           {
            "marker": {
             "colorbar": {
              "outlinewidth": 0,
              "ticks": ""
             }
            },
            "type": "scattergl"
           }
          ],
          "scattermapbox": [
           {
            "marker": {
             "colorbar": {
              "outlinewidth": 0,
              "ticks": ""
             }
            },
            "type": "scattermapbox"
           }
          ],
          "scatterpolar": [
           {
            "marker": {
             "colorbar": {
              "outlinewidth": 0,
              "ticks": ""
             }
            },
            "type": "scatterpolar"
           }
          ],
          "scatterpolargl": [
           {
            "marker": {
             "colorbar": {
              "outlinewidth": 0,
              "ticks": ""
             }
            },
            "type": "scatterpolargl"
           }
          ],
          "scatterternary": [
           {
            "marker": {
             "colorbar": {
              "outlinewidth": 0,
              "ticks": ""
             }
            },
            "type": "scatterternary"
           }
          ],
          "surface": [
           {
            "colorbar": {
             "outlinewidth": 0,
             "ticks": ""
            },
            "colorscale": [
             [
              0,
              "#0d0887"
             ],
             [
              0.1111111111111111,
              "#46039f"
             ],
             [
              0.2222222222222222,
              "#7201a8"
             ],
             [
              0.3333333333333333,
              "#9c179e"
             ],
             [
              0.4444444444444444,
              "#bd3786"
             ],
             [
              0.5555555555555556,
              "#d8576b"
             ],
             [
              0.6666666666666666,
              "#ed7953"
             ],
             [
              0.7777777777777778,
              "#fb9f3a"
             ],
             [
              0.8888888888888888,
              "#fdca26"
             ],
             [
              1,
              "#f0f921"
             ]
            ],
            "type": "surface"
           }
          ],
          "table": [
           {
            "cells": {
             "fill": {
              "color": "#EBF0F8"
             },
             "line": {
              "color": "white"
             }
            },
            "header": {
             "fill": {
              "color": "#C8D4E3"
             },
             "line": {
              "color": "white"
             }
            },
            "type": "table"
           }
          ]
         },
         "layout": {
          "annotationdefaults": {
           "arrowcolor": "#2a3f5f",
           "arrowhead": 0,
           "arrowwidth": 1
          },
          "colorscale": {
           "diverging": [
            [
             0,
             "#8e0152"
            ],
            [
             0.1,
             "#c51b7d"
            ],
            [
             0.2,
             "#de77ae"
            ],
            [
             0.3,
             "#f1b6da"
            ],
            [
             0.4,
             "#fde0ef"
            ],
            [
             0.5,
             "#f7f7f7"
            ],
            [
             0.6,
             "#e6f5d0"
            ],
            [
             0.7,
             "#b8e186"
            ],
            [
             0.8,
             "#7fbc41"
            ],
            [
             0.9,
             "#4d9221"
            ],
            [
             1,
             "#276419"
            ]
           ],
           "sequential": [
            [
             0,
             "#0d0887"
            ],
            [
             0.1111111111111111,
             "#46039f"
            ],
            [
             0.2222222222222222,
             "#7201a8"
            ],
            [
             0.3333333333333333,
             "#9c179e"
            ],
            [
             0.4444444444444444,
             "#bd3786"
            ],
            [
             0.5555555555555556,
             "#d8576b"
            ],
            [
             0.6666666666666666,
             "#ed7953"
            ],
            [
             0.7777777777777778,
             "#fb9f3a"
            ],
            [
             0.8888888888888888,
             "#fdca26"
            ],
            [
             1,
             "#f0f921"
            ]
           ],
           "sequentialminus": [
            [
             0,
             "#0d0887"
            ],
            [
             0.1111111111111111,
             "#46039f"
            ],
            [
             0.2222222222222222,
             "#7201a8"
            ],
            [
             0.3333333333333333,
             "#9c179e"
            ],
            [
             0.4444444444444444,
             "#bd3786"
            ],
            [
             0.5555555555555556,
             "#d8576b"
            ],
            [
             0.6666666666666666,
             "#ed7953"
            ],
            [
             0.7777777777777778,
             "#fb9f3a"
            ],
            [
             0.8888888888888888,
             "#fdca26"
            ],
            [
             1,
             "#f0f921"
            ]
           ]
          },
          "colorway": [
           "#636efa",
           "#EF553B",
           "#00cc96",
           "#ab63fa",
           "#FFA15A",
           "#19d3f3",
           "#FF6692",
           "#B6E880",
           "#FF97FF",
           "#FECB52"
          ],
          "font": {
           "color": "#2a3f5f"
          },
          "geo": {
           "bgcolor": "white",
           "lakecolor": "white",
           "landcolor": "#E5ECF6",
           "showlakes": true,
           "showland": true,
           "subunitcolor": "white"
          },
          "hoverlabel": {
           "align": "left"
          },
          "hovermode": "closest",
          "mapbox": {
           "style": "light"
          },
          "paper_bgcolor": "white",
          "plot_bgcolor": "#E5ECF6",
          "polar": {
           "angularaxis": {
            "gridcolor": "white",
            "linecolor": "white",
            "ticks": ""
           },
           "bgcolor": "#E5ECF6",
           "radialaxis": {
            "gridcolor": "white",
            "linecolor": "white",
            "ticks": ""
           }
          },
          "scene": {
           "xaxis": {
            "backgroundcolor": "#E5ECF6",
            "gridcolor": "white",
            "gridwidth": 2,
            "linecolor": "white",
            "showbackground": true,
            "ticks": "",
            "zerolinecolor": "white"
           },
           "yaxis": {
            "backgroundcolor": "#E5ECF6",
            "gridcolor": "white",
            "gridwidth": 2,
            "linecolor": "white",
            "showbackground": true,
            "ticks": "",
            "zerolinecolor": "white"
           },
           "zaxis": {
            "backgroundcolor": "#E5ECF6",
            "gridcolor": "white",
            "gridwidth": 2,
            "linecolor": "white",
            "showbackground": true,
            "ticks": "",
            "zerolinecolor": "white"
           }
          },
          "shapedefaults": {
           "line": {
            "color": "#2a3f5f"
           }
          },
          "ternary": {
           "aaxis": {
            "gridcolor": "white",
            "linecolor": "white",
            "ticks": ""
           },
           "baxis": {
            "gridcolor": "white",
            "linecolor": "white",
            "ticks": ""
           },
           "bgcolor": "#E5ECF6",
           "caxis": {
            "gridcolor": "white",
            "linecolor": "white",
            "ticks": ""
           }
          },
          "title": {
           "x": 0.05
          },
          "xaxis": {
           "automargin": true,
           "gridcolor": "white",
           "linecolor": "white",
           "ticks": "",
           "zerolinecolor": "white",
           "zerolinewidth": 2
          },
          "yaxis": {
           "automargin": true,
           "gridcolor": "white",
           "linecolor": "white",
           "ticks": "",
           "zerolinecolor": "white",
           "zerolinewidth": 2
          }
         }
        },
        "title": {
         "text": "Random Forest Feature Importance"
        },
        "xaxis": {
         "showgrid": false,
         "showline": false,
         "ticklen": 5,
         "zeroline": false
        },
        "yaxis": {
         "gridwidth": 2,
         "showgrid": false,
         "ticklen": 5,
         "title": {
          "text": "Feature Importance"
         },
         "zeroline": false
        }
       }
      },
      "text/html": [
       "<div>\n",
       "        \n",
       "        \n",
       "            <div id=\"24e53fd4-7d3a-4d1a-b668-4eb54d6a5208\" class=\"plotly-graph-div\" style=\"height:525px; width:100%;\"></div>\n",
       "            <script type=\"text/javascript\">\n",
       "                require([\"plotly\"], function(Plotly) {\n",
       "                    window.PLOTLYENV=window.PLOTLYENV || {};\n",
       "                    \n",
       "                if (document.getElementById(\"24e53fd4-7d3a-4d1a-b668-4eb54d6a5208\")) {\n",
       "                    Plotly.newPlot(\n",
       "                        '24e53fd4-7d3a-4d1a-b668-4eb54d6a5208',\n",
       "                        [{\"marker\": {\"color\": [0.007702397717527922, 0.008474644317192562, 0.009837115484193163, 0.008731752754362505, 0.007371814550895517, 0.007060111549021469, 0.008651529790883657, 0.008437040898590117, 0.008204130540805038, 0.007991774351177566, 0.0075830503335049815, 0.007818789622923025, 0.00960054739249438, 0.008011028070352264, 0.009072948276703376, 0.00777804646927864, 0.007717795444418248, 0.007446380171412531, 0.008176029561957752, 0.008039678933552535, 0.007201475883207637, 0.007757242230689221, 0.007369064457640053, 0.007766985469367685, 0.0075397685928415056, 0.0073235094779392365, 0.007454302212179211, 0.0075689757024389286, 0.007343559493162864, 0.007780994876862206, 0.0082859457626787, 0.007923546555873505, 0.008157407558171594, 0.007566552074847908, 0.006996148086192992, 0.007466782511839612, 0.006971895725047962, 0.007282878666799253, 0.007233117624208579, 0.007726803988232759, 0.008039256078856557, 0.007108969439137753, 0.007339669653128837, 0.007639952667670128, 0.008523278646460897, 0.008943367948370298, 0.00788865330327606, 0.007936262563256047, 0.007307599718858934, 0.007851467342106877, 0.007271701410958761, 0.007906609860900339, 0.007212342052058598, 0.007214825788574192, 0.007601683584210205, 0.0076091082821659415, 0.007581723160700784, 0.006785104615718829, 0.0077964047682498655, 0.007775282946570668, 0.007280921600513571, 0.007874570176555113, 0.007181467737094434, 0.00720389539548045, 0.007828128395767775, 0.008213596224437292, 0.008134024114667834, 0.007876497732229449, 0.010712228420975559, 0.009679342754211721, 0.008253775589032156, 0.008213923428395383, 0.008944128177985669, 0.008672047931757488, 0.008955590254944574, 0.00808862393827235, 0.009535114844501428, 0.012714170341291573, 0.00976341711679714, 0.008169024758925843, 0.008112839691991341, 0.008941542958194349, 0.008901728301077669, 0.00816034929713793, 0.009091379796924835, 0.008894944455999504, 0.007244564505946685, 0.008220833887082796, 0.00789839648914301, 0.007196118011286885, 0.007700906706482394, 0.007316395577554455, 0.007655683354765434, 0.007674706745329643, 0.007433744752565837, 0.007992192353727346, 0.008112111476667992, 0.008854978274399678, 0.009685421686350896, 0.008244833617696701, 0.0073311395569843575, 0.0067954404873674, 0.007405530488456395, 0.0069612770741219795, 0.007184418341598235, 0.006664094545433956, 0.0065650551031375265, 0.006799670879815218, 0.006715949426809731, 0.007139888393966211, 0.00652154450078127, 0.007196929879580602, 0.006962496566776146, 0.006892426774472418, 0.007265202622964263, 0.006617495113555261, 0.006226560797265845, 0.0067526927419608, 0.006702549212545258, 0.007221130809017178, 0.007052432901111154, 0.0069360996175779005, 0.007463156524817714, 0.006830708846884271, 0.007078800266208075, 0.0068306973028145505, 0.008142989991022026, 0.007358633346092879], \"colorscale\": [[0.0, \"rgb(12,51,131)\"], [0.25, \"rgb(10,136,186)\"], [0.5, \"rgb(242,211,56)\"], [0.75, \"rgb(242,143,56)\"], [1.0, \"rgb(217,30,30)\"]], \"showscale\": true, \"size\": 13, \"sizemode\": \"diameter\", \"sizeref\": 1}, \"mode\": \"markers\", \"text\": [\"S0\", \"S1\", \"S2\", \"S3\", \"S4\", \"S5\", \"S6\", \"S7\", \"S8\", \"S9\", \"S10\", \"S11\", \"S12\", \"S13\", \"S14\", \"S15\", \"S16\", \"S17\", \"S18\", \"S19\", \"S20\", \"S21\", \"S22\", \"S23\", \"S24\", \"S25\", \"S26\", \"S27\", \"S28\", \"S29\", \"S30\", \"S31\", \"S32\", \"S33\", \"S34\", \"S35\", \"S36\", \"S37\", \"S38\", \"S39\", \"S40\", \"S41\", \"S42\", \"S43\", \"S44\", \"S45\", \"S46\", \"S47\", \"S48\", \"S49\", \"S50\", \"S51\", \"S52\", \"S53\", \"S54\", \"S55\", \"S56\", \"S57\", \"S58\", \"S59\", \"S60\", \"S61\", \"S62\", \"S63\", \"S64\", \"S65\", \"S66\", \"S67\", \"S68\", \"S69\", \"S70\", \"S71\", \"S72\", \"S73\", \"S74\", \"S75\", \"S76\", \"S77\", \"S78\", \"S79\", \"S80\", \"S81\", \"S82\", \"S83\", \"S84\", \"S85\", \"S86\", \"S87\", \"S88\", \"S89\", \"S90\", \"S91\", \"S92\", \"S93\", \"S94\", \"S95\", \"S96\", \"S97\", \"S98\", \"S99\", \"S100\", \"S101\", \"S102\", \"S103\", \"S104\", \"S105\", \"S106\", \"S107\", \"S108\", \"S109\", \"S110\", \"S111\", \"S112\", \"S113\", \"S114\", \"S115\", \"S116\", \"S117\", \"S118\", \"S119\", \"S120\", \"S121\", \"S122\", \"S123\", \"S124\", \"S125\", \"S126\", \"S127\"], \"type\": \"scatter\", \"x\": [\"S0\", \"S1\", \"S2\", \"S3\", \"S4\", \"S5\", \"S6\", \"S7\", \"S8\", \"S9\", \"S10\", \"S11\", \"S12\", \"S13\", \"S14\", \"S15\", \"S16\", \"S17\", \"S18\", \"S19\", \"S20\", \"S21\", \"S22\", \"S23\", \"S24\", \"S25\", \"S26\", \"S27\", \"S28\", \"S29\", \"S30\", \"S31\", \"S32\", \"S33\", \"S34\", \"S35\", \"S36\", \"S37\", \"S38\", \"S39\", \"S40\", \"S41\", \"S42\", \"S43\", \"S44\", \"S45\", \"S46\", \"S47\", \"S48\", \"S49\", \"S50\", \"S51\", \"S52\", \"S53\", \"S54\", \"S55\", \"S56\", \"S57\", \"S58\", \"S59\", \"S60\", \"S61\", \"S62\", \"S63\", \"S64\", \"S65\", \"S66\", \"S67\", \"S68\", \"S69\", \"S70\", \"S71\", \"S72\", \"S73\", \"S74\", \"S75\", \"S76\", \"S77\", \"S78\", \"S79\", \"S80\", \"S81\", \"S82\", \"S83\", \"S84\", \"S85\", \"S86\", \"S87\", \"S88\", \"S89\", \"S90\", \"S91\", \"S92\", \"S93\", \"S94\", \"S95\", \"S96\", \"S97\", \"S98\", \"S99\", \"S100\", \"S101\", \"S102\", \"S103\", \"S104\", \"S105\", \"S106\", \"S107\", \"S108\", \"S109\", \"S110\", \"S111\", \"S112\", \"S113\", \"S114\", \"S115\", \"S116\", \"S117\", \"S118\", \"S119\", \"S120\", \"S121\", \"S122\", \"S123\", \"S124\", \"S125\", \"S126\", \"S127\"], \"y\": [0.007702397717527922, 0.008474644317192562, 0.009837115484193163, 0.008731752754362505, 0.007371814550895517, 0.007060111549021469, 0.008651529790883657, 0.008437040898590117, 0.008204130540805038, 0.007991774351177566, 0.0075830503335049815, 0.007818789622923025, 0.00960054739249438, 0.008011028070352264, 0.009072948276703376, 0.00777804646927864, 0.007717795444418248, 0.007446380171412531, 0.008176029561957752, 0.008039678933552535, 0.007201475883207637, 0.007757242230689221, 0.007369064457640053, 0.007766985469367685, 0.0075397685928415056, 0.0073235094779392365, 0.007454302212179211, 0.0075689757024389286, 0.007343559493162864, 0.007780994876862206, 0.0082859457626787, 0.007923546555873505, 0.008157407558171594, 0.007566552074847908, 0.006996148086192992, 0.007466782511839612, 0.006971895725047962, 0.007282878666799253, 0.007233117624208579, 0.007726803988232759, 0.008039256078856557, 0.007108969439137753, 0.007339669653128837, 0.007639952667670128, 0.008523278646460897, 0.008943367948370298, 0.00788865330327606, 0.007936262563256047, 0.007307599718858934, 0.007851467342106877, 0.007271701410958761, 0.007906609860900339, 0.007212342052058598, 0.007214825788574192, 0.007601683584210205, 0.0076091082821659415, 0.007581723160700784, 0.006785104615718829, 0.0077964047682498655, 0.007775282946570668, 0.007280921600513571, 0.007874570176555113, 0.007181467737094434, 0.00720389539548045, 0.007828128395767775, 0.008213596224437292, 0.008134024114667834, 0.007876497732229449, 0.010712228420975559, 0.009679342754211721, 0.008253775589032156, 0.008213923428395383, 0.008944128177985669, 0.008672047931757488, 0.008955590254944574, 0.00808862393827235, 0.009535114844501428, 0.012714170341291573, 0.00976341711679714, 0.008169024758925843, 0.008112839691991341, 0.008941542958194349, 0.008901728301077669, 0.00816034929713793, 0.009091379796924835, 0.008894944455999504, 0.007244564505946685, 0.008220833887082796, 0.00789839648914301, 0.007196118011286885, 0.007700906706482394, 0.007316395577554455, 0.007655683354765434, 0.007674706745329643, 0.007433744752565837, 0.007992192353727346, 0.008112111476667992, 0.008854978274399678, 0.009685421686350896, 0.008244833617696701, 0.0073311395569843575, 0.0067954404873674, 0.007405530488456395, 0.0069612770741219795, 0.007184418341598235, 0.006664094545433956, 0.0065650551031375265, 0.006799670879815218, 0.006715949426809731, 0.007139888393966211, 0.00652154450078127, 0.007196929879580602, 0.006962496566776146, 0.006892426774472418, 0.007265202622964263, 0.006617495113555261, 0.006226560797265845, 0.0067526927419608, 0.006702549212545258, 0.007221130809017178, 0.007052432901111154, 0.0069360996175779005, 0.007463156524817714, 0.006830708846884271, 0.007078800266208075, 0.0068306973028145505, 0.008142989991022026, 0.007358633346092879]}],\n",
       "                        {\"autosize\": true, \"hovermode\": \"closest\", \"showlegend\": false, \"template\": {\"data\": {\"bar\": [{\"error_x\": {\"color\": \"#2a3f5f\"}, \"error_y\": {\"color\": \"#2a3f5f\"}, \"marker\": {\"line\": {\"color\": \"#E5ECF6\", \"width\": 0.5}}, \"type\": \"bar\"}], \"barpolar\": [{\"marker\": {\"line\": {\"color\": \"#E5ECF6\", \"width\": 0.5}}, \"type\": \"barpolar\"}], \"carpet\": [{\"aaxis\": {\"endlinecolor\": \"#2a3f5f\", \"gridcolor\": \"white\", \"linecolor\": \"white\", \"minorgridcolor\": \"white\", \"startlinecolor\": \"#2a3f5f\"}, \"baxis\": {\"endlinecolor\": \"#2a3f5f\", \"gridcolor\": \"white\", \"linecolor\": \"white\", \"minorgridcolor\": \"white\", \"startlinecolor\": \"#2a3f5f\"}, \"type\": \"carpet\"}], \"choropleth\": [{\"colorbar\": {\"outlinewidth\": 0, \"ticks\": \"\"}, \"type\": \"choropleth\"}], \"contour\": [{\"colorbar\": {\"outlinewidth\": 0, \"ticks\": \"\"}, \"colorscale\": [[0.0, \"#0d0887\"], [0.1111111111111111, \"#46039f\"], [0.2222222222222222, \"#7201a8\"], [0.3333333333333333, \"#9c179e\"], [0.4444444444444444, \"#bd3786\"], [0.5555555555555556, \"#d8576b\"], [0.6666666666666666, \"#ed7953\"], [0.7777777777777778, \"#fb9f3a\"], [0.8888888888888888, \"#fdca26\"], [1.0, \"#f0f921\"]], \"type\": \"contour\"}], \"contourcarpet\": [{\"colorbar\": {\"outlinewidth\": 0, \"ticks\": \"\"}, \"type\": \"contourcarpet\"}], \"heatmap\": [{\"colorbar\": {\"outlinewidth\": 0, \"ticks\": \"\"}, \"colorscale\": [[0.0, \"#0d0887\"], [0.1111111111111111, \"#46039f\"], [0.2222222222222222, \"#7201a8\"], [0.3333333333333333, \"#9c179e\"], [0.4444444444444444, \"#bd3786\"], [0.5555555555555556, \"#d8576b\"], [0.6666666666666666, \"#ed7953\"], [0.7777777777777778, \"#fb9f3a\"], [0.8888888888888888, \"#fdca26\"], [1.0, \"#f0f921\"]], \"type\": \"heatmap\"}], \"heatmapgl\": [{\"colorbar\": {\"outlinewidth\": 0, \"ticks\": \"\"}, \"colorscale\": [[0.0, \"#0d0887\"], [0.1111111111111111, \"#46039f\"], [0.2222222222222222, \"#7201a8\"], [0.3333333333333333, \"#9c179e\"], [0.4444444444444444, \"#bd3786\"], [0.5555555555555556, \"#d8576b\"], [0.6666666666666666, \"#ed7953\"], [0.7777777777777778, \"#fb9f3a\"], [0.8888888888888888, \"#fdca26\"], [1.0, \"#f0f921\"]], \"type\": \"heatmapgl\"}], \"histogram\": [{\"marker\": {\"colorbar\": {\"outlinewidth\": 0, \"ticks\": \"\"}}, \"type\": \"histogram\"}], \"histogram2d\": [{\"colorbar\": {\"outlinewidth\": 0, \"ticks\": \"\"}, \"colorscale\": [[0.0, \"#0d0887\"], [0.1111111111111111, \"#46039f\"], [0.2222222222222222, \"#7201a8\"], [0.3333333333333333, \"#9c179e\"], [0.4444444444444444, \"#bd3786\"], [0.5555555555555556, \"#d8576b\"], [0.6666666666666666, \"#ed7953\"], [0.7777777777777778, \"#fb9f3a\"], [0.8888888888888888, \"#fdca26\"], [1.0, \"#f0f921\"]], \"type\": \"histogram2d\"}], \"histogram2dcontour\": [{\"colorbar\": {\"outlinewidth\": 0, \"ticks\": \"\"}, \"colorscale\": [[0.0, \"#0d0887\"], [0.1111111111111111, \"#46039f\"], [0.2222222222222222, \"#7201a8\"], [0.3333333333333333, \"#9c179e\"], [0.4444444444444444, \"#bd3786\"], [0.5555555555555556, \"#d8576b\"], [0.6666666666666666, \"#ed7953\"], [0.7777777777777778, \"#fb9f3a\"], [0.8888888888888888, \"#fdca26\"], [1.0, \"#f0f921\"]], \"type\": \"histogram2dcontour\"}], \"mesh3d\": [{\"colorbar\": {\"outlinewidth\": 0, \"ticks\": \"\"}, \"type\": \"mesh3d\"}], \"parcoords\": [{\"line\": {\"colorbar\": {\"outlinewidth\": 0, \"ticks\": \"\"}}, \"type\": \"parcoords\"}], \"scatter\": [{\"marker\": {\"colorbar\": {\"outlinewidth\": 0, \"ticks\": \"\"}}, \"type\": \"scatter\"}], \"scatter3d\": [{\"line\": {\"colorbar\": {\"outlinewidth\": 0, \"ticks\": \"\"}}, \"marker\": {\"colorbar\": {\"outlinewidth\": 0, \"ticks\": \"\"}}, \"type\": \"scatter3d\"}], \"scattercarpet\": [{\"marker\": {\"colorbar\": {\"outlinewidth\": 0, \"ticks\": \"\"}}, \"type\": \"scattercarpet\"}], \"scattergeo\": [{\"marker\": {\"colorbar\": {\"outlinewidth\": 0, \"ticks\": \"\"}}, \"type\": \"scattergeo\"}], \"scattergl\": [{\"marker\": {\"colorbar\": {\"outlinewidth\": 0, \"ticks\": \"\"}}, \"type\": \"scattergl\"}], \"scattermapbox\": [{\"marker\": {\"colorbar\": {\"outlinewidth\": 0, \"ticks\": \"\"}}, \"type\": \"scattermapbox\"}], \"scatterpolar\": [{\"marker\": {\"colorbar\": {\"outlinewidth\": 0, \"ticks\": \"\"}}, \"type\": \"scatterpolar\"}], \"scatterpolargl\": [{\"marker\": {\"colorbar\": {\"outlinewidth\": 0, \"ticks\": \"\"}}, \"type\": \"scatterpolargl\"}], \"scatterternary\": [{\"marker\": {\"colorbar\": {\"outlinewidth\": 0, \"ticks\": \"\"}}, \"type\": \"scatterternary\"}], \"surface\": [{\"colorbar\": {\"outlinewidth\": 0, \"ticks\": \"\"}, \"colorscale\": [[0.0, \"#0d0887\"], [0.1111111111111111, \"#46039f\"], [0.2222222222222222, \"#7201a8\"], [0.3333333333333333, \"#9c179e\"], [0.4444444444444444, \"#bd3786\"], [0.5555555555555556, \"#d8576b\"], [0.6666666666666666, \"#ed7953\"], [0.7777777777777778, \"#fb9f3a\"], [0.8888888888888888, \"#fdca26\"], [1.0, \"#f0f921\"]], \"type\": \"surface\"}], \"table\": [{\"cells\": {\"fill\": {\"color\": \"#EBF0F8\"}, \"line\": {\"color\": \"white\"}}, \"header\": {\"fill\": {\"color\": \"#C8D4E3\"}, \"line\": {\"color\": \"white\"}}, \"type\": \"table\"}]}, \"layout\": {\"annotationdefaults\": {\"arrowcolor\": \"#2a3f5f\", \"arrowhead\": 0, \"arrowwidth\": 1}, \"colorscale\": {\"diverging\": [[0, \"#8e0152\"], [0.1, \"#c51b7d\"], [0.2, \"#de77ae\"], [0.3, \"#f1b6da\"], [0.4, \"#fde0ef\"], [0.5, \"#f7f7f7\"], [0.6, \"#e6f5d0\"], [0.7, \"#b8e186\"], [0.8, \"#7fbc41\"], [0.9, \"#4d9221\"], [1, \"#276419\"]], \"sequential\": [[0.0, \"#0d0887\"], [0.1111111111111111, \"#46039f\"], [0.2222222222222222, \"#7201a8\"], [0.3333333333333333, \"#9c179e\"], [0.4444444444444444, \"#bd3786\"], [0.5555555555555556, \"#d8576b\"], [0.6666666666666666, \"#ed7953\"], [0.7777777777777778, \"#fb9f3a\"], [0.8888888888888888, \"#fdca26\"], [1.0, \"#f0f921\"]], \"sequentialminus\": [[0.0, \"#0d0887\"], [0.1111111111111111, \"#46039f\"], [0.2222222222222222, \"#7201a8\"], [0.3333333333333333, \"#9c179e\"], [0.4444444444444444, \"#bd3786\"], [0.5555555555555556, \"#d8576b\"], [0.6666666666666666, \"#ed7953\"], [0.7777777777777778, \"#fb9f3a\"], [0.8888888888888888, \"#fdca26\"], [1.0, \"#f0f921\"]]}, \"colorway\": [\"#636efa\", \"#EF553B\", \"#00cc96\", \"#ab63fa\", \"#FFA15A\", \"#19d3f3\", \"#FF6692\", \"#B6E880\", \"#FF97FF\", \"#FECB52\"], \"font\": {\"color\": \"#2a3f5f\"}, \"geo\": {\"bgcolor\": \"white\", \"lakecolor\": \"white\", \"landcolor\": \"#E5ECF6\", \"showlakes\": true, \"showland\": true, \"subunitcolor\": \"white\"}, \"hoverlabel\": {\"align\": \"left\"}, \"hovermode\": \"closest\", \"mapbox\": {\"style\": \"light\"}, \"paper_bgcolor\": \"white\", \"plot_bgcolor\": \"#E5ECF6\", \"polar\": {\"angularaxis\": {\"gridcolor\": \"white\", \"linecolor\": \"white\", \"ticks\": \"\"}, \"bgcolor\": \"#E5ECF6\", \"radialaxis\": {\"gridcolor\": \"white\", \"linecolor\": \"white\", \"ticks\": \"\"}}, \"scene\": {\"xaxis\": {\"backgroundcolor\": \"#E5ECF6\", \"gridcolor\": \"white\", \"gridwidth\": 2, \"linecolor\": \"white\", \"showbackground\": true, \"ticks\": \"\", \"zerolinecolor\": \"white\"}, \"yaxis\": {\"backgroundcolor\": \"#E5ECF6\", \"gridcolor\": \"white\", \"gridwidth\": 2, \"linecolor\": \"white\", \"showbackground\": true, \"ticks\": \"\", \"zerolinecolor\": \"white\"}, \"zaxis\": {\"backgroundcolor\": \"#E5ECF6\", \"gridcolor\": \"white\", \"gridwidth\": 2, \"linecolor\": \"white\", \"showbackground\": true, \"ticks\": \"\", \"zerolinecolor\": \"white\"}}, \"shapedefaults\": {\"line\": {\"color\": \"#2a3f5f\"}}, \"ternary\": {\"aaxis\": {\"gridcolor\": \"white\", \"linecolor\": \"white\", \"ticks\": \"\"}, \"baxis\": {\"gridcolor\": \"white\", \"linecolor\": \"white\", \"ticks\": \"\"}, \"bgcolor\": \"#E5ECF6\", \"caxis\": {\"gridcolor\": \"white\", \"linecolor\": \"white\", \"ticks\": \"\"}}, \"title\": {\"x\": 0.05}, \"xaxis\": {\"automargin\": true, \"gridcolor\": \"white\", \"linecolor\": \"white\", \"ticks\": \"\", \"zerolinecolor\": \"white\", \"zerolinewidth\": 2}, \"yaxis\": {\"automargin\": true, \"gridcolor\": \"white\", \"linecolor\": \"white\", \"ticks\": \"\", \"zerolinecolor\": \"white\", \"zerolinewidth\": 2}}}, \"title\": {\"text\": \"Random Forest Feature Importance\"}, \"xaxis\": {\"showgrid\": false, \"showline\": false, \"ticklen\": 5, \"zeroline\": false}, \"yaxis\": {\"gridwidth\": 2, \"showgrid\": false, \"ticklen\": 5, \"title\": {\"text\": \"Feature Importance\"}, \"zeroline\": false}},\n",
       "                        {\"responsive\": true}\n",
       "                    ).then(function(){\n",
       "                            \n",
       "var gd = document.getElementById('24e53fd4-7d3a-4d1a-b668-4eb54d6a5208');\n",
       "var x = new MutationObserver(function (mutations, observer) {{\n",
       "        var display = window.getComputedStyle(gd).display;\n",
       "        if (!display || display === 'none') {{\n",
       "            console.log([gd, 'removed!']);\n",
       "            Plotly.purge(gd);\n",
       "            observer.disconnect();\n",
       "        }}\n",
       "}});\n",
       "\n",
       "// Listen for the removal of the full notebook cells\n",
       "var notebookContainer = gd.closest('#notebook-container');\n",
       "if (notebookContainer) {{\n",
       "    x.observe(notebookContainer, {childList: true});\n",
       "}}\n",
       "\n",
       "// Listen for the clearing of the current output cell\n",
       "var outputEl = gd.closest('.output');\n",
       "if (outputEl) {{\n",
       "    x.observe(outputEl, {childList: true});\n",
       "}}\n",
       "\n",
       "                        })\n",
       "                };\n",
       "                });\n",
       "            </script>\n",
       "        </div>"
      ]
     },
     "metadata": {},
     "output_type": "display_data"
    }
   ],
   "source": [
    "# Scatter plot \n",
    "trace = go.Scatter(\n",
    "    y = rf.feature_importances_,\n",
    "    x = features,\n",
    "    mode='markers',\n",
    "    marker=dict(\n",
    "        sizemode = 'diameter',\n",
    "        sizeref = 1,\n",
    "        size = 13,\n",
    "        #size= rf.feature_importances_,\n",
    "        #color = np.random.randn(500), #set color equal to a variable\n",
    "        color = rf.feature_importances_,\n",
    "        colorscale='Portland',\n",
    "        showscale=True\n",
    "    ),\n",
    "    text = features\n",
    ")\n",
    "data = [trace]\n",
    "\n",
    "layout= go.Layout(\n",
    "    autosize= True,\n",
    "    title= 'Random Forest Feature Importance',\n",
    "    hovermode= 'closest',\n",
    "     xaxis= dict(\n",
    "         ticklen= 5,\n",
    "         showgrid=False,\n",
    "        zeroline=False,\n",
    "        showline=False\n",
    "     ),\n",
    "    yaxis=dict(\n",
    "        title= 'Feature Importance',\n",
    "        showgrid=False,\n",
    "        zeroline=False,\n",
    "        ticklen= 5,\n",
    "        gridwidth= 2\n",
    "    ),\n",
    "    showlegend= False\n",
    ")\n",
    "fig = go.Figure(data=data, layout=layout)\n",
    "py.iplot(fig,filename='scatter2010')\n"
   ]
  },
  {
   "cell_type": "code",
   "execution_count": 12,
   "metadata": {},
   "outputs": [
    {
     "data": {
      "application/vnd.plotly.v1+json": {
       "config": {
        "linkText": "Export to plot.ly",
        "plotlyServerURL": "https://plot.ly",
        "showLink": false
       },
       "data": [
        {
         "marker": {
          "color": [
           0.006226560797265845,
           0.00652154450078127,
           0.0065650551031375265,
           0.006617495113555261,
           0.006664094545433956,
           0.006702549212545258,
           0.006715949426809731,
           0.0067526927419608,
           0.006785104615718829,
           0.0067954404873674,
           0.006799670879815218,
           0.0068306973028145505,
           0.006830708846884271,
           0.006892426774472418,
           0.0069360996175779005,
           0.0069612770741219795,
           0.006962496566776146,
           0.006971895725047962,
           0.006996148086192992,
           0.007052432901111154,
           0.007060111549021469,
           0.007078800266208075,
           0.007108969439137753,
           0.007139888393966211,
           0.007181467737094434,
           0.007184418341598235,
           0.007196118011286885,
           0.007196929879580602,
           0.007201475883207637,
           0.00720389539548045,
           0.007212342052058598,
           0.007214825788574192,
           0.007221130809017178,
           0.007233117624208579,
           0.007244564505946685,
           0.007265202622964263,
           0.007271701410958761,
           0.007280921600513571,
           0.007282878666799253,
           0.007307599718858934,
           0.007316395577554455,
           0.0073235094779392365,
           0.0073311395569843575,
           0.007339669653128837,
           0.007343559493162864,
           0.007358633346092879,
           0.007369064457640053,
           0.007371814550895517,
           0.007405530488456395,
           0.007433744752565837,
           0.007446380171412531,
           0.007454302212179211,
           0.007463156524817714,
           0.007466782511839612,
           0.0075397685928415056,
           0.007566552074847908,
           0.0075689757024389286,
           0.007581723160700784,
           0.0075830503335049815,
           0.007601683584210205,
           0.0076091082821659415,
           0.007639952667670128,
           0.007655683354765434,
           0.007674706745329643,
           0.007700906706482394,
           0.007702397717527922,
           0.007717795444418248,
           0.007726803988232759,
           0.007757242230689221,
           0.007766985469367685,
           0.007775282946570668,
           0.00777804646927864,
           0.007780994876862206,
           0.0077964047682498655,
           0.007818789622923025,
           0.007828128395767775,
           0.007851467342106877,
           0.007874570176555113,
           0.007876497732229449,
           0.00788865330327606,
           0.00789839648914301,
           0.007906609860900339,
           0.007923546555873505,
           0.007936262563256047,
           0.007991774351177566,
           0.007992192353727346,
           0.008011028070352264,
           0.008039256078856557,
           0.008039678933552535,
           0.00808862393827235,
           0.008112111476667992,
           0.008112839691991341,
           0.008134024114667834,
           0.008142989991022026,
           0.008157407558171594,
           0.00816034929713793,
           0.008169024758925843,
           0.008176029561957752,
           0.008204130540805038,
           0.008213596224437292,
           0.008213923428395383,
           0.008220833887082796,
           0.008244833617696701,
           0.008253775589032156,
           0.0082859457626787,
           0.008437040898590117,
           0.008474644317192562,
           0.008523278646460897,
           0.008651529790883657,
           0.008672047931757488,
           0.008731752754362505,
           0.008854978274399678,
           0.008894944455999504,
           0.008901728301077669,
           0.008941542958194349,
           0.008943367948370298,
           0.008944128177985669,
           0.008955590254944574,
           0.009072948276703376,
           0.009091379796924835,
           0.009535114844501428,
           0.00960054739249438,
           0.009679342754211721,
           0.009685421686350896,
           0.00976341711679714,
           0.009837115484193163,
           0.010712228420975559,
           0.012714170341291573
          ],
          "colorscale": [
           [
            0,
            "#440154"
           ],
           [
            0.1111111111111111,
            "#482878"
           ],
           [
            0.2222222222222222,
            "#3e4989"
           ],
           [
            0.3333333333333333,
            "#31688e"
           ],
           [
            0.4444444444444444,
            "#26828e"
           ],
           [
            0.5555555555555556,
            "#1f9e89"
           ],
           [
            0.6666666666666666,
            "#35b779"
           ],
           [
            0.7777777777777778,
            "#6ece58"
           ],
           [
            0.8888888888888888,
            "#b5de2b"
           ],
           [
            1,
            "#fde725"
           ]
          ],
          "reversescale": true
         },
         "name": "Random Forest Feature importance",
         "orientation": "h",
         "type": "bar",
         "x": [
          0.006226560797265845,
          0.00652154450078127,
          0.0065650551031375265,
          0.006617495113555261,
          0.006664094545433956,
          0.006702549212545258,
          0.006715949426809731,
          0.0067526927419608,
          0.006785104615718829,
          0.0067954404873674,
          0.006799670879815218,
          0.0068306973028145505,
          0.006830708846884271,
          0.006892426774472418,
          0.0069360996175779005,
          0.0069612770741219795,
          0.006962496566776146,
          0.006971895725047962,
          0.006996148086192992,
          0.007052432901111154,
          0.007060111549021469,
          0.007078800266208075,
          0.007108969439137753,
          0.007139888393966211,
          0.007181467737094434,
          0.007184418341598235,
          0.007196118011286885,
          0.007196929879580602,
          0.007201475883207637,
          0.00720389539548045,
          0.007212342052058598,
          0.007214825788574192,
          0.007221130809017178,
          0.007233117624208579,
          0.007244564505946685,
          0.007265202622964263,
          0.007271701410958761,
          0.007280921600513571,
          0.007282878666799253,
          0.007307599718858934,
          0.007316395577554455,
          0.0073235094779392365,
          0.0073311395569843575,
          0.007339669653128837,
          0.007343559493162864,
          0.007358633346092879,
          0.007369064457640053,
          0.007371814550895517,
          0.007405530488456395,
          0.007433744752565837,
          0.007446380171412531,
          0.007454302212179211,
          0.007463156524817714,
          0.007466782511839612,
          0.0075397685928415056,
          0.007566552074847908,
          0.0075689757024389286,
          0.007581723160700784,
          0.0075830503335049815,
          0.007601683584210205,
          0.0076091082821659415,
          0.007639952667670128,
          0.007655683354765434,
          0.007674706745329643,
          0.007700906706482394,
          0.007702397717527922,
          0.007717795444418248,
          0.007726803988232759,
          0.007757242230689221,
          0.007766985469367685,
          0.007775282946570668,
          0.00777804646927864,
          0.007780994876862206,
          0.0077964047682498655,
          0.007818789622923025,
          0.007828128395767775,
          0.007851467342106877,
          0.007874570176555113,
          0.007876497732229449,
          0.00788865330327606,
          0.00789839648914301,
          0.007906609860900339,
          0.007923546555873505,
          0.007936262563256047,
          0.007991774351177566,
          0.007992192353727346,
          0.008011028070352264,
          0.008039256078856557,
          0.008039678933552535,
          0.00808862393827235,
          0.008112111476667992,
          0.008112839691991341,
          0.008134024114667834,
          0.008142989991022026,
          0.008157407558171594,
          0.00816034929713793,
          0.008169024758925843,
          0.008176029561957752,
          0.008204130540805038,
          0.008213596224437292,
          0.008213923428395383,
          0.008220833887082796,
          0.008244833617696701,
          0.008253775589032156,
          0.0082859457626787,
          0.008437040898590117,
          0.008474644317192562,
          0.008523278646460897,
          0.008651529790883657,
          0.008672047931757488,
          0.008731752754362505,
          0.008854978274399678,
          0.008894944455999504,
          0.008901728301077669,
          0.008941542958194349,
          0.008943367948370298,
          0.008944128177985669,
          0.008955590254944574,
          0.009072948276703376,
          0.009091379796924835,
          0.009535114844501428,
          0.00960054739249438,
          0.009679342754211721,
          0.009685421686350896,
          0.00976341711679714,
          0.009837115484193163,
          0.010712228420975559,
          0.012714170341291573
         ],
         "y": [
          "S116",
          "S110",
          "S106",
          "S115",
          "S105",
          "S118",
          "S108",
          "S117",
          "S57",
          "S101",
          "S107",
          "S125",
          "S123",
          "S113",
          "S121",
          "S103",
          "S112",
          "S36",
          "S34",
          "S120",
          "S5",
          "S124",
          "S41",
          "S109",
          "S62",
          "S104",
          "S89",
          "S111",
          "S20",
          "S63",
          "S52",
          "S53",
          "S119",
          "S38",
          "S86",
          "S114",
          "S50",
          "S60",
          "S37",
          "S48",
          "S91",
          "S25",
          "S100",
          "S42",
          "S28",
          "S127",
          "S22",
          "S4",
          "S102",
          "S94",
          "S17",
          "S26",
          "S122",
          "S35",
          "S24",
          "S33",
          "S27",
          "S56",
          "S10",
          "S54",
          "S55",
          "S43",
          "S92",
          "S93",
          "S90",
          "S0",
          "S16",
          "S39",
          "S21",
          "S23",
          "S59",
          "S15",
          "S29",
          "S58",
          "S11",
          "S64",
          "S49",
          "S61",
          "S67",
          "S46",
          "S88",
          "S51",
          "S31",
          "S47",
          "S9",
          "S95",
          "S13",
          "S40",
          "S19",
          "S75",
          "S96",
          "S80",
          "S66",
          "S126",
          "S32",
          "S83",
          "S79",
          "S18",
          "S8",
          "S65",
          "S71",
          "S87",
          "S99",
          "S70",
          "S30",
          "S7",
          "S1",
          "S44",
          "S6",
          "S73",
          "S3",
          "S97",
          "S85",
          "S82",
          "S81",
          "S45",
          "S72",
          "S74",
          "S14",
          "S84",
          "S76",
          "S12",
          "S69",
          "S98",
          "S78",
          "S2",
          "S68",
          "S77"
         ]
        }
       ],
       "layout": {
        "height": 500,
        "template": {
         "data": {
          "bar": [
           {
            "error_x": {
             "color": "#2a3f5f"
            },
            "error_y": {
             "color": "#2a3f5f"
            },
            "marker": {
             "line": {
              "color": "#E5ECF6",
              "width": 0.5
             }
            },
            "type": "bar"
           }
          ],
          "barpolar": [
           {
            "marker": {
             "line": {
              "color": "#E5ECF6",
              "width": 0.5
             }
            },
            "type": "barpolar"
           }
          ],
          "carpet": [
           {
            "aaxis": {
             "endlinecolor": "#2a3f5f",
             "gridcolor": "white",
             "linecolor": "white",
             "minorgridcolor": "white",
             "startlinecolor": "#2a3f5f"
            },
            "baxis": {
             "endlinecolor": "#2a3f5f",
             "gridcolor": "white",
             "linecolor": "white",
             "minorgridcolor": "white",
             "startlinecolor": "#2a3f5f"
            },
            "type": "carpet"
           }
          ],
          "choropleth": [
           {
            "colorbar": {
             "outlinewidth": 0,
             "ticks": ""
            },
            "type": "choropleth"
           }
          ],
          "contour": [
           {
            "colorbar": {
             "outlinewidth": 0,
             "ticks": ""
            },
            "colorscale": [
             [
              0,
              "#0d0887"
             ],
             [
              0.1111111111111111,
              "#46039f"
             ],
             [
              0.2222222222222222,
              "#7201a8"
             ],
             [
              0.3333333333333333,
              "#9c179e"
             ],
             [
              0.4444444444444444,
              "#bd3786"
             ],
             [
              0.5555555555555556,
              "#d8576b"
             ],
             [
              0.6666666666666666,
              "#ed7953"
             ],
             [
              0.7777777777777778,
              "#fb9f3a"
             ],
             [
              0.8888888888888888,
              "#fdca26"
             ],
             [
              1,
              "#f0f921"
             ]
            ],
            "type": "contour"
           }
          ],
          "contourcarpet": [
           {
            "colorbar": {
             "outlinewidth": 0,
             "ticks": ""
            },
            "type": "contourcarpet"
           }
          ],
          "heatmap": [
           {
            "colorbar": {
             "outlinewidth": 0,
             "ticks": ""
            },
            "colorscale": [
             [
              0,
              "#0d0887"
             ],
             [
              0.1111111111111111,
              "#46039f"
             ],
             [
              0.2222222222222222,
              "#7201a8"
             ],
             [
              0.3333333333333333,
              "#9c179e"
             ],
             [
              0.4444444444444444,
              "#bd3786"
             ],
             [
              0.5555555555555556,
              "#d8576b"
             ],
             [
              0.6666666666666666,
              "#ed7953"
             ],
             [
              0.7777777777777778,
              "#fb9f3a"
             ],
             [
              0.8888888888888888,
              "#fdca26"
             ],
             [
              1,
              "#f0f921"
             ]
            ],
            "type": "heatmap"
           }
          ],
          "heatmapgl": [
           {
            "colorbar": {
             "outlinewidth": 0,
             "ticks": ""
            },
            "colorscale": [
             [
              0,
              "#0d0887"
             ],
             [
              0.1111111111111111,
              "#46039f"
             ],
             [
              0.2222222222222222,
              "#7201a8"
             ],
             [
              0.3333333333333333,
              "#9c179e"
             ],
             [
              0.4444444444444444,
              "#bd3786"
             ],
             [
              0.5555555555555556,
              "#d8576b"
             ],
             [
              0.6666666666666666,
              "#ed7953"
             ],
             [
              0.7777777777777778,
              "#fb9f3a"
             ],
             [
              0.8888888888888888,
              "#fdca26"
             ],
             [
              1,
              "#f0f921"
             ]
            ],
            "type": "heatmapgl"
           }
          ],
          "histogram": [
           {
            "marker": {
             "colorbar": {
              "outlinewidth": 0,
              "ticks": ""
             }
            },
            "type": "histogram"
           }
          ],
          "histogram2d": [
           {
            "colorbar": {
             "outlinewidth": 0,
             "ticks": ""
            },
            "colorscale": [
             [
              0,
              "#0d0887"
             ],
             [
              0.1111111111111111,
              "#46039f"
             ],
             [
              0.2222222222222222,
              "#7201a8"
             ],
             [
              0.3333333333333333,
              "#9c179e"
             ],
             [
              0.4444444444444444,
              "#bd3786"
             ],
             [
              0.5555555555555556,
              "#d8576b"
             ],
             [
              0.6666666666666666,
              "#ed7953"
             ],
             [
              0.7777777777777778,
              "#fb9f3a"
             ],
             [
              0.8888888888888888,
              "#fdca26"
             ],
             [
              1,
              "#f0f921"
             ]
            ],
            "type": "histogram2d"
           }
          ],
          "histogram2dcontour": [
           {
            "colorbar": {
             "outlinewidth": 0,
             "ticks": ""
            },
            "colorscale": [
             [
              0,
              "#0d0887"
             ],
             [
              0.1111111111111111,
              "#46039f"
             ],
             [
              0.2222222222222222,
              "#7201a8"
             ],
             [
              0.3333333333333333,
              "#9c179e"
             ],
             [
              0.4444444444444444,
              "#bd3786"
             ],
             [
              0.5555555555555556,
              "#d8576b"
             ],
             [
              0.6666666666666666,
              "#ed7953"
             ],
             [
              0.7777777777777778,
              "#fb9f3a"
             ],
             [
              0.8888888888888888,
              "#fdca26"
             ],
             [
              1,
              "#f0f921"
             ]
            ],
            "type": "histogram2dcontour"
           }
          ],
          "mesh3d": [
           {
            "colorbar": {
             "outlinewidth": 0,
             "ticks": ""
            },
            "type": "mesh3d"
           }
          ],
          "parcoords": [
           {
            "line": {
             "colorbar": {
              "outlinewidth": 0,
              "ticks": ""
             }
            },
            "type": "parcoords"
           }
          ],
          "scatter": [
           {
            "marker": {
             "colorbar": {
              "outlinewidth": 0,
              "ticks": ""
             }
            },
            "type": "scatter"
           }
          ],
          "scatter3d": [
           {
            "line": {
             "colorbar": {
              "outlinewidth": 0,
              "ticks": ""
             }
            },
            "marker": {
             "colorbar": {
              "outlinewidth": 0,
              "ticks": ""
             }
            },
            "type": "scatter3d"
           }
          ],
          "scattercarpet": [
           {
            "marker": {
             "colorbar": {
              "outlinewidth": 0,
              "ticks": ""
             }
            },
            "type": "scattercarpet"
           }
          ],
          "scattergeo": [
           {
            "marker": {
             "colorbar": {
              "outlinewidth": 0,
              "ticks": ""
             }
            },
            "type": "scattergeo"
           }
          ],
          "scattergl": [
           {
            "marker": {
             "colorbar": {
              "outlinewidth": 0,
              "ticks": ""
             }
            },
            "type": "scattergl"
           }
          ],
          "scattermapbox": [
           {
            "marker": {
             "colorbar": {
              "outlinewidth": 0,
              "ticks": ""
             }
            },
            "type": "scattermapbox"
           }
          ],
          "scatterpolar": [
           {
            "marker": {
             "colorbar": {
              "outlinewidth": 0,
              "ticks": ""
             }
            },
            "type": "scatterpolar"
           }
          ],
          "scatterpolargl": [
           {
            "marker": {
             "colorbar": {
              "outlinewidth": 0,
              "ticks": ""
             }
            },
            "type": "scatterpolargl"
           }
          ],
          "scatterternary": [
           {
            "marker": {
             "colorbar": {
              "outlinewidth": 0,
              "ticks": ""
             }
            },
            "type": "scatterternary"
           }
          ],
          "surface": [
           {
            "colorbar": {
             "outlinewidth": 0,
             "ticks": ""
            },
            "colorscale": [
             [
              0,
              "#0d0887"
             ],
             [
              0.1111111111111111,
              "#46039f"
             ],
             [
              0.2222222222222222,
              "#7201a8"
             ],
             [
              0.3333333333333333,
              "#9c179e"
             ],
             [
              0.4444444444444444,
              "#bd3786"
             ],
             [
              0.5555555555555556,
              "#d8576b"
             ],
             [
              0.6666666666666666,
              "#ed7953"
             ],
             [
              0.7777777777777778,
              "#fb9f3a"
             ],
             [
              0.8888888888888888,
              "#fdca26"
             ],
             [
              1,
              "#f0f921"
             ]
            ],
            "type": "surface"
           }
          ],
          "table": [
           {
            "cells": {
             "fill": {
              "color": "#EBF0F8"
             },
             "line": {
              "color": "white"
             }
            },
            "header": {
             "fill": {
              "color": "#C8D4E3"
             },
             "line": {
              "color": "white"
             }
            },
            "type": "table"
           }
          ]
         },
         "layout": {
          "annotationdefaults": {
           "arrowcolor": "#2a3f5f",
           "arrowhead": 0,
           "arrowwidth": 1
          },
          "colorscale": {
           "diverging": [
            [
             0,
             "#8e0152"
            ],
            [
             0.1,
             "#c51b7d"
            ],
            [
             0.2,
             "#de77ae"
            ],
            [
             0.3,
             "#f1b6da"
            ],
            [
             0.4,
             "#fde0ef"
            ],
            [
             0.5,
             "#f7f7f7"
            ],
            [
             0.6,
             "#e6f5d0"
            ],
            [
             0.7,
             "#b8e186"
            ],
            [
             0.8,
             "#7fbc41"
            ],
            [
             0.9,
             "#4d9221"
            ],
            [
             1,
             "#276419"
            ]
           ],
           "sequential": [
            [
             0,
             "#0d0887"
            ],
            [
             0.1111111111111111,
             "#46039f"
            ],
            [
             0.2222222222222222,
             "#7201a8"
            ],
            [
             0.3333333333333333,
             "#9c179e"
            ],
            [
             0.4444444444444444,
             "#bd3786"
            ],
            [
             0.5555555555555556,
             "#d8576b"
            ],
            [
             0.6666666666666666,
             "#ed7953"
            ],
            [
             0.7777777777777778,
             "#fb9f3a"
            ],
            [
             0.8888888888888888,
             "#fdca26"
            ],
            [
             1,
             "#f0f921"
            ]
           ],
           "sequentialminus": [
            [
             0,
             "#0d0887"
            ],
            [
             0.1111111111111111,
             "#46039f"
            ],
            [
             0.2222222222222222,
             "#7201a8"
            ],
            [
             0.3333333333333333,
             "#9c179e"
            ],
            [
             0.4444444444444444,
             "#bd3786"
            ],
            [
             0.5555555555555556,
             "#d8576b"
            ],
            [
             0.6666666666666666,
             "#ed7953"
            ],
            [
             0.7777777777777778,
             "#fb9f3a"
            ],
            [
             0.8888888888888888,
             "#fdca26"
            ],
            [
             1,
             "#f0f921"
            ]
           ]
          },
          "colorway": [
           "#636efa",
           "#EF553B",
           "#00cc96",
           "#ab63fa",
           "#FFA15A",
           "#19d3f3",
           "#FF6692",
           "#B6E880",
           "#FF97FF",
           "#FECB52"
          ],
          "font": {
           "color": "#2a3f5f"
          },
          "geo": {
           "bgcolor": "white",
           "lakecolor": "white",
           "landcolor": "#E5ECF6",
           "showlakes": true,
           "showland": true,
           "subunitcolor": "white"
          },
          "hoverlabel": {
           "align": "left"
          },
          "hovermode": "closest",
          "mapbox": {
           "style": "light"
          },
          "paper_bgcolor": "white",
          "plot_bgcolor": "#E5ECF6",
          "polar": {
           "angularaxis": {
            "gridcolor": "white",
            "linecolor": "white",
            "ticks": ""
           },
           "bgcolor": "#E5ECF6",
           "radialaxis": {
            "gridcolor": "white",
            "linecolor": "white",
            "ticks": ""
           }
          },
          "scene": {
           "xaxis": {
            "backgroundcolor": "#E5ECF6",
            "gridcolor": "white",
            "gridwidth": 2,
            "linecolor": "white",
            "showbackground": true,
            "ticks": "",
            "zerolinecolor": "white"
           },
           "yaxis": {
            "backgroundcolor": "#E5ECF6",
            "gridcolor": "white",
            "gridwidth": 2,
            "linecolor": "white",
            "showbackground": true,
            "ticks": "",
            "zerolinecolor": "white"
           },
           "zaxis": {
            "backgroundcolor": "#E5ECF6",
            "gridcolor": "white",
            "gridwidth": 2,
            "linecolor": "white",
            "showbackground": true,
            "ticks": "",
            "zerolinecolor": "white"
           }
          },
          "shapedefaults": {
           "line": {
            "color": "#2a3f5f"
           }
          },
          "ternary": {
           "aaxis": {
            "gridcolor": "white",
            "linecolor": "white",
            "ticks": ""
           },
           "baxis": {
            "gridcolor": "white",
            "linecolor": "white",
            "ticks": ""
           },
           "bgcolor": "#E5ECF6",
           "caxis": {
            "gridcolor": "white",
            "linecolor": "white",
            "ticks": ""
           }
          },
          "title": {
           "x": 0.05
          },
          "xaxis": {
           "automargin": true,
           "gridcolor": "white",
           "linecolor": "white",
           "ticks": "",
           "zerolinecolor": "white",
           "zerolinewidth": 2
          },
          "yaxis": {
           "automargin": true,
           "gridcolor": "white",
           "linecolor": "white",
           "ticks": "",
           "zerolinecolor": "white",
           "zerolinewidth": 2
          }
         }
        },
        "title": {
         "text": "Speech dataset / Feature importances"
        },
        "width": 800,
        "yaxis": {
         "showgrid": false,
         "showline": false,
         "showticklabels": true
        }
       }
      },
      "text/html": [
       "<div>\n",
       "        \n",
       "        \n",
       "            <div id=\"13df689f-7103-4124-a268-79ceb827765d\" class=\"plotly-graph-div\" style=\"height:500px; width:800px;\"></div>\n",
       "            <script type=\"text/javascript\">\n",
       "                require([\"plotly\"], function(Plotly) {\n",
       "                    window.PLOTLYENV=window.PLOTLYENV || {};\n",
       "                    \n",
       "                if (document.getElementById(\"13df689f-7103-4124-a268-79ceb827765d\")) {\n",
       "                    Plotly.newPlot(\n",
       "                        '13df689f-7103-4124-a268-79ceb827765d',\n",
       "                        [{\"marker\": {\"color\": [0.006226560797265845, 0.00652154450078127, 0.0065650551031375265, 0.006617495113555261, 0.006664094545433956, 0.006702549212545258, 0.006715949426809731, 0.0067526927419608, 0.006785104615718829, 0.0067954404873674, 0.006799670879815218, 0.0068306973028145505, 0.006830708846884271, 0.006892426774472418, 0.0069360996175779005, 0.0069612770741219795, 0.006962496566776146, 0.006971895725047962, 0.006996148086192992, 0.007052432901111154, 0.007060111549021469, 0.007078800266208075, 0.007108969439137753, 0.007139888393966211, 0.007181467737094434, 0.007184418341598235, 0.007196118011286885, 0.007196929879580602, 0.007201475883207637, 0.00720389539548045, 0.007212342052058598, 0.007214825788574192, 0.007221130809017178, 0.007233117624208579, 0.007244564505946685, 0.007265202622964263, 0.007271701410958761, 0.007280921600513571, 0.007282878666799253, 0.007307599718858934, 0.007316395577554455, 0.0073235094779392365, 0.0073311395569843575, 0.007339669653128837, 0.007343559493162864, 0.007358633346092879, 0.007369064457640053, 0.007371814550895517, 0.007405530488456395, 0.007433744752565837, 0.007446380171412531, 0.007454302212179211, 0.007463156524817714, 0.007466782511839612, 0.0075397685928415056, 0.007566552074847908, 0.0075689757024389286, 0.007581723160700784, 0.0075830503335049815, 0.007601683584210205, 0.0076091082821659415, 0.007639952667670128, 0.007655683354765434, 0.007674706745329643, 0.007700906706482394, 0.007702397717527922, 0.007717795444418248, 0.007726803988232759, 0.007757242230689221, 0.007766985469367685, 0.007775282946570668, 0.00777804646927864, 0.007780994876862206, 0.0077964047682498655, 0.007818789622923025, 0.007828128395767775, 0.007851467342106877, 0.007874570176555113, 0.007876497732229449, 0.00788865330327606, 0.00789839648914301, 0.007906609860900339, 0.007923546555873505, 0.007936262563256047, 0.007991774351177566, 0.007992192353727346, 0.008011028070352264, 0.008039256078856557, 0.008039678933552535, 0.00808862393827235, 0.008112111476667992, 0.008112839691991341, 0.008134024114667834, 0.008142989991022026, 0.008157407558171594, 0.00816034929713793, 0.008169024758925843, 0.008176029561957752, 0.008204130540805038, 0.008213596224437292, 0.008213923428395383, 0.008220833887082796, 0.008244833617696701, 0.008253775589032156, 0.0082859457626787, 0.008437040898590117, 0.008474644317192562, 0.008523278646460897, 0.008651529790883657, 0.008672047931757488, 0.008731752754362505, 0.008854978274399678, 0.008894944455999504, 0.008901728301077669, 0.008941542958194349, 0.008943367948370298, 0.008944128177985669, 0.008955590254944574, 0.009072948276703376, 0.009091379796924835, 0.009535114844501428, 0.00960054739249438, 0.009679342754211721, 0.009685421686350896, 0.00976341711679714, 0.009837115484193163, 0.010712228420975559, 0.012714170341291573], \"colorscale\": [[0.0, \"#440154\"], [0.1111111111111111, \"#482878\"], [0.2222222222222222, \"#3e4989\"], [0.3333333333333333, \"#31688e\"], [0.4444444444444444, \"#26828e\"], [0.5555555555555556, \"#1f9e89\"], [0.6666666666666666, \"#35b779\"], [0.7777777777777778, \"#6ece58\"], [0.8888888888888888, \"#b5de2b\"], [1.0, \"#fde725\"]], \"reversescale\": true}, \"name\": \"Random Forest Feature importance\", \"orientation\": \"h\", \"type\": \"bar\", \"x\": [0.006226560797265845, 0.00652154450078127, 0.0065650551031375265, 0.006617495113555261, 0.006664094545433956, 0.006702549212545258, 0.006715949426809731, 0.0067526927419608, 0.006785104615718829, 0.0067954404873674, 0.006799670879815218, 0.0068306973028145505, 0.006830708846884271, 0.006892426774472418, 0.0069360996175779005, 0.0069612770741219795, 0.006962496566776146, 0.006971895725047962, 0.006996148086192992, 0.007052432901111154, 0.007060111549021469, 0.007078800266208075, 0.007108969439137753, 0.007139888393966211, 0.007181467737094434, 0.007184418341598235, 0.007196118011286885, 0.007196929879580602, 0.007201475883207637, 0.00720389539548045, 0.007212342052058598, 0.007214825788574192, 0.007221130809017178, 0.007233117624208579, 0.007244564505946685, 0.007265202622964263, 0.007271701410958761, 0.007280921600513571, 0.007282878666799253, 0.007307599718858934, 0.007316395577554455, 0.0073235094779392365, 0.0073311395569843575, 0.007339669653128837, 0.007343559493162864, 0.007358633346092879, 0.007369064457640053, 0.007371814550895517, 0.007405530488456395, 0.007433744752565837, 0.007446380171412531, 0.007454302212179211, 0.007463156524817714, 0.007466782511839612, 0.0075397685928415056, 0.007566552074847908, 0.0075689757024389286, 0.007581723160700784, 0.0075830503335049815, 0.007601683584210205, 0.0076091082821659415, 0.007639952667670128, 0.007655683354765434, 0.007674706745329643, 0.007700906706482394, 0.007702397717527922, 0.007717795444418248, 0.007726803988232759, 0.007757242230689221, 0.007766985469367685, 0.007775282946570668, 0.00777804646927864, 0.007780994876862206, 0.0077964047682498655, 0.007818789622923025, 0.007828128395767775, 0.007851467342106877, 0.007874570176555113, 0.007876497732229449, 0.00788865330327606, 0.00789839648914301, 0.007906609860900339, 0.007923546555873505, 0.007936262563256047, 0.007991774351177566, 0.007992192353727346, 0.008011028070352264, 0.008039256078856557, 0.008039678933552535, 0.00808862393827235, 0.008112111476667992, 0.008112839691991341, 0.008134024114667834, 0.008142989991022026, 0.008157407558171594, 0.00816034929713793, 0.008169024758925843, 0.008176029561957752, 0.008204130540805038, 0.008213596224437292, 0.008213923428395383, 0.008220833887082796, 0.008244833617696701, 0.008253775589032156, 0.0082859457626787, 0.008437040898590117, 0.008474644317192562, 0.008523278646460897, 0.008651529790883657, 0.008672047931757488, 0.008731752754362505, 0.008854978274399678, 0.008894944455999504, 0.008901728301077669, 0.008941542958194349, 0.008943367948370298, 0.008944128177985669, 0.008955590254944574, 0.009072948276703376, 0.009091379796924835, 0.009535114844501428, 0.00960054739249438, 0.009679342754211721, 0.009685421686350896, 0.00976341711679714, 0.009837115484193163, 0.010712228420975559, 0.012714170341291573], \"y\": [\"S116\", \"S110\", \"S106\", \"S115\", \"S105\", \"S118\", \"S108\", \"S117\", \"S57\", \"S101\", \"S107\", \"S125\", \"S123\", \"S113\", \"S121\", \"S103\", \"S112\", \"S36\", \"S34\", \"S120\", \"S5\", \"S124\", \"S41\", \"S109\", \"S62\", \"S104\", \"S89\", \"S111\", \"S20\", \"S63\", \"S52\", \"S53\", \"S119\", \"S38\", \"S86\", \"S114\", \"S50\", \"S60\", \"S37\", \"S48\", \"S91\", \"S25\", \"S100\", \"S42\", \"S28\", \"S127\", \"S22\", \"S4\", \"S102\", \"S94\", \"S17\", \"S26\", \"S122\", \"S35\", \"S24\", \"S33\", \"S27\", \"S56\", \"S10\", \"S54\", \"S55\", \"S43\", \"S92\", \"S93\", \"S90\", \"S0\", \"S16\", \"S39\", \"S21\", \"S23\", \"S59\", \"S15\", \"S29\", \"S58\", \"S11\", \"S64\", \"S49\", \"S61\", \"S67\", \"S46\", \"S88\", \"S51\", \"S31\", \"S47\", \"S9\", \"S95\", \"S13\", \"S40\", \"S19\", \"S75\", \"S96\", \"S80\", \"S66\", \"S126\", \"S32\", \"S83\", \"S79\", \"S18\", \"S8\", \"S65\", \"S71\", \"S87\", \"S99\", \"S70\", \"S30\", \"S7\", \"S1\", \"S44\", \"S6\", \"S73\", \"S3\", \"S97\", \"S85\", \"S82\", \"S81\", \"S45\", \"S72\", \"S74\", \"S14\", \"S84\", \"S76\", \"S12\", \"S69\", \"S98\", \"S78\", \"S2\", \"S68\", \"S77\"]}],\n",
       "                        {\"height\": 500, \"template\": {\"data\": {\"bar\": [{\"error_x\": {\"color\": \"#2a3f5f\"}, \"error_y\": {\"color\": \"#2a3f5f\"}, \"marker\": {\"line\": {\"color\": \"#E5ECF6\", \"width\": 0.5}}, \"type\": \"bar\"}], \"barpolar\": [{\"marker\": {\"line\": {\"color\": \"#E5ECF6\", \"width\": 0.5}}, \"type\": \"barpolar\"}], \"carpet\": [{\"aaxis\": {\"endlinecolor\": \"#2a3f5f\", \"gridcolor\": \"white\", \"linecolor\": \"white\", \"minorgridcolor\": \"white\", \"startlinecolor\": \"#2a3f5f\"}, \"baxis\": {\"endlinecolor\": \"#2a3f5f\", \"gridcolor\": \"white\", \"linecolor\": \"white\", \"minorgridcolor\": \"white\", \"startlinecolor\": \"#2a3f5f\"}, \"type\": \"carpet\"}], \"choropleth\": [{\"colorbar\": {\"outlinewidth\": 0, \"ticks\": \"\"}, \"type\": \"choropleth\"}], \"contour\": [{\"colorbar\": {\"outlinewidth\": 0, \"ticks\": \"\"}, \"colorscale\": [[0.0, \"#0d0887\"], [0.1111111111111111, \"#46039f\"], [0.2222222222222222, \"#7201a8\"], [0.3333333333333333, \"#9c179e\"], [0.4444444444444444, \"#bd3786\"], [0.5555555555555556, \"#d8576b\"], [0.6666666666666666, \"#ed7953\"], [0.7777777777777778, \"#fb9f3a\"], [0.8888888888888888, \"#fdca26\"], [1.0, \"#f0f921\"]], \"type\": \"contour\"}], \"contourcarpet\": [{\"colorbar\": {\"outlinewidth\": 0, \"ticks\": \"\"}, \"type\": \"contourcarpet\"}], \"heatmap\": [{\"colorbar\": {\"outlinewidth\": 0, \"ticks\": \"\"}, \"colorscale\": [[0.0, \"#0d0887\"], [0.1111111111111111, \"#46039f\"], [0.2222222222222222, \"#7201a8\"], [0.3333333333333333, \"#9c179e\"], [0.4444444444444444, \"#bd3786\"], [0.5555555555555556, \"#d8576b\"], [0.6666666666666666, \"#ed7953\"], [0.7777777777777778, \"#fb9f3a\"], [0.8888888888888888, \"#fdca26\"], [1.0, \"#f0f921\"]], \"type\": \"heatmap\"}], \"heatmapgl\": [{\"colorbar\": {\"outlinewidth\": 0, \"ticks\": \"\"}, \"colorscale\": [[0.0, \"#0d0887\"], [0.1111111111111111, \"#46039f\"], [0.2222222222222222, \"#7201a8\"], [0.3333333333333333, \"#9c179e\"], [0.4444444444444444, \"#bd3786\"], [0.5555555555555556, \"#d8576b\"], [0.6666666666666666, \"#ed7953\"], [0.7777777777777778, \"#fb9f3a\"], [0.8888888888888888, \"#fdca26\"], [1.0, \"#f0f921\"]], \"type\": \"heatmapgl\"}], \"histogram\": [{\"marker\": {\"colorbar\": {\"outlinewidth\": 0, \"ticks\": \"\"}}, \"type\": \"histogram\"}], \"histogram2d\": [{\"colorbar\": {\"outlinewidth\": 0, \"ticks\": \"\"}, \"colorscale\": [[0.0, \"#0d0887\"], [0.1111111111111111, \"#46039f\"], [0.2222222222222222, \"#7201a8\"], [0.3333333333333333, \"#9c179e\"], [0.4444444444444444, \"#bd3786\"], [0.5555555555555556, \"#d8576b\"], [0.6666666666666666, \"#ed7953\"], [0.7777777777777778, \"#fb9f3a\"], [0.8888888888888888, \"#fdca26\"], [1.0, \"#f0f921\"]], \"type\": \"histogram2d\"}], \"histogram2dcontour\": [{\"colorbar\": {\"outlinewidth\": 0, \"ticks\": \"\"}, \"colorscale\": [[0.0, \"#0d0887\"], [0.1111111111111111, \"#46039f\"], [0.2222222222222222, \"#7201a8\"], [0.3333333333333333, \"#9c179e\"], [0.4444444444444444, \"#bd3786\"], [0.5555555555555556, \"#d8576b\"], [0.6666666666666666, \"#ed7953\"], [0.7777777777777778, \"#fb9f3a\"], [0.8888888888888888, \"#fdca26\"], [1.0, \"#f0f921\"]], \"type\": \"histogram2dcontour\"}], \"mesh3d\": [{\"colorbar\": {\"outlinewidth\": 0, \"ticks\": \"\"}, \"type\": \"mesh3d\"}], \"parcoords\": [{\"line\": {\"colorbar\": {\"outlinewidth\": 0, \"ticks\": \"\"}}, \"type\": \"parcoords\"}], \"scatter\": [{\"marker\": {\"colorbar\": {\"outlinewidth\": 0, \"ticks\": \"\"}}, \"type\": \"scatter\"}], \"scatter3d\": [{\"line\": {\"colorbar\": {\"outlinewidth\": 0, \"ticks\": \"\"}}, \"marker\": {\"colorbar\": {\"outlinewidth\": 0, \"ticks\": \"\"}}, \"type\": \"scatter3d\"}], \"scattercarpet\": [{\"marker\": {\"colorbar\": {\"outlinewidth\": 0, \"ticks\": \"\"}}, \"type\": \"scattercarpet\"}], \"scattergeo\": [{\"marker\": {\"colorbar\": {\"outlinewidth\": 0, \"ticks\": \"\"}}, \"type\": \"scattergeo\"}], \"scattergl\": [{\"marker\": {\"colorbar\": {\"outlinewidth\": 0, \"ticks\": \"\"}}, \"type\": \"scattergl\"}], \"scattermapbox\": [{\"marker\": {\"colorbar\": {\"outlinewidth\": 0, \"ticks\": \"\"}}, \"type\": \"scattermapbox\"}], \"scatterpolar\": [{\"marker\": {\"colorbar\": {\"outlinewidth\": 0, \"ticks\": \"\"}}, \"type\": \"scatterpolar\"}], \"scatterpolargl\": [{\"marker\": {\"colorbar\": {\"outlinewidth\": 0, \"ticks\": \"\"}}, \"type\": \"scatterpolargl\"}], \"scatterternary\": [{\"marker\": {\"colorbar\": {\"outlinewidth\": 0, \"ticks\": \"\"}}, \"type\": \"scatterternary\"}], \"surface\": [{\"colorbar\": {\"outlinewidth\": 0, \"ticks\": \"\"}, \"colorscale\": [[0.0, \"#0d0887\"], [0.1111111111111111, \"#46039f\"], [0.2222222222222222, \"#7201a8\"], [0.3333333333333333, \"#9c179e\"], [0.4444444444444444, \"#bd3786\"], [0.5555555555555556, \"#d8576b\"], [0.6666666666666666, \"#ed7953\"], [0.7777777777777778, \"#fb9f3a\"], [0.8888888888888888, \"#fdca26\"], [1.0, \"#f0f921\"]], \"type\": \"surface\"}], \"table\": [{\"cells\": {\"fill\": {\"color\": \"#EBF0F8\"}, \"line\": {\"color\": \"white\"}}, \"header\": {\"fill\": {\"color\": \"#C8D4E3\"}, \"line\": {\"color\": \"white\"}}, \"type\": \"table\"}]}, \"layout\": {\"annotationdefaults\": {\"arrowcolor\": \"#2a3f5f\", \"arrowhead\": 0, \"arrowwidth\": 1}, \"colorscale\": {\"diverging\": [[0, \"#8e0152\"], [0.1, \"#c51b7d\"], [0.2, \"#de77ae\"], [0.3, \"#f1b6da\"], [0.4, \"#fde0ef\"], [0.5, \"#f7f7f7\"], [0.6, \"#e6f5d0\"], [0.7, \"#b8e186\"], [0.8, \"#7fbc41\"], [0.9, \"#4d9221\"], [1, \"#276419\"]], \"sequential\": [[0.0, \"#0d0887\"], [0.1111111111111111, \"#46039f\"], [0.2222222222222222, \"#7201a8\"], [0.3333333333333333, \"#9c179e\"], [0.4444444444444444, \"#bd3786\"], [0.5555555555555556, \"#d8576b\"], [0.6666666666666666, \"#ed7953\"], [0.7777777777777778, \"#fb9f3a\"], [0.8888888888888888, \"#fdca26\"], [1.0, \"#f0f921\"]], \"sequentialminus\": [[0.0, \"#0d0887\"], [0.1111111111111111, \"#46039f\"], [0.2222222222222222, \"#7201a8\"], [0.3333333333333333, \"#9c179e\"], [0.4444444444444444, \"#bd3786\"], [0.5555555555555556, \"#d8576b\"], [0.6666666666666666, \"#ed7953\"], [0.7777777777777778, \"#fb9f3a\"], [0.8888888888888888, \"#fdca26\"], [1.0, \"#f0f921\"]]}, \"colorway\": [\"#636efa\", \"#EF553B\", \"#00cc96\", \"#ab63fa\", \"#FFA15A\", \"#19d3f3\", \"#FF6692\", \"#B6E880\", \"#FF97FF\", \"#FECB52\"], \"font\": {\"color\": \"#2a3f5f\"}, \"geo\": {\"bgcolor\": \"white\", \"lakecolor\": \"white\", \"landcolor\": \"#E5ECF6\", \"showlakes\": true, \"showland\": true, \"subunitcolor\": \"white\"}, \"hoverlabel\": {\"align\": \"left\"}, \"hovermode\": \"closest\", \"mapbox\": {\"style\": \"light\"}, \"paper_bgcolor\": \"white\", \"plot_bgcolor\": \"#E5ECF6\", \"polar\": {\"angularaxis\": {\"gridcolor\": \"white\", \"linecolor\": \"white\", \"ticks\": \"\"}, \"bgcolor\": \"#E5ECF6\", \"radialaxis\": {\"gridcolor\": \"white\", \"linecolor\": \"white\", \"ticks\": \"\"}}, \"scene\": {\"xaxis\": {\"backgroundcolor\": \"#E5ECF6\", \"gridcolor\": \"white\", \"gridwidth\": 2, \"linecolor\": \"white\", \"showbackground\": true, \"ticks\": \"\", \"zerolinecolor\": \"white\"}, \"yaxis\": {\"backgroundcolor\": \"#E5ECF6\", \"gridcolor\": \"white\", \"gridwidth\": 2, \"linecolor\": \"white\", \"showbackground\": true, \"ticks\": \"\", \"zerolinecolor\": \"white\"}, \"zaxis\": {\"backgroundcolor\": \"#E5ECF6\", \"gridcolor\": \"white\", \"gridwidth\": 2, \"linecolor\": \"white\", \"showbackground\": true, \"ticks\": \"\", \"zerolinecolor\": \"white\"}}, \"shapedefaults\": {\"line\": {\"color\": \"#2a3f5f\"}}, \"ternary\": {\"aaxis\": {\"gridcolor\": \"white\", \"linecolor\": \"white\", \"ticks\": \"\"}, \"baxis\": {\"gridcolor\": \"white\", \"linecolor\": \"white\", \"ticks\": \"\"}, \"bgcolor\": \"#E5ECF6\", \"caxis\": {\"gridcolor\": \"white\", \"linecolor\": \"white\", \"ticks\": \"\"}}, \"title\": {\"x\": 0.05}, \"xaxis\": {\"automargin\": true, \"gridcolor\": \"white\", \"linecolor\": \"white\", \"ticks\": \"\", \"zerolinecolor\": \"white\", \"zerolinewidth\": 2}, \"yaxis\": {\"automargin\": true, \"gridcolor\": \"white\", \"linecolor\": \"white\", \"ticks\": \"\", \"zerolinecolor\": \"white\", \"zerolinewidth\": 2}}}, \"title\": {\"text\": \"Speech dataset / Feature importances\"}, \"width\": 800, \"yaxis\": {\"showgrid\": false, \"showline\": false, \"showticklabels\": true}},\n",
       "                        {\"responsive\": true}\n",
       "                    ).then(function(){\n",
       "                            \n",
       "var gd = document.getElementById('13df689f-7103-4124-a268-79ceb827765d');\n",
       "var x = new MutationObserver(function (mutations, observer) {{\n",
       "        var display = window.getComputedStyle(gd).display;\n",
       "        if (!display || display === 'none') {{\n",
       "            console.log([gd, 'removed!']);\n",
       "            Plotly.purge(gd);\n",
       "            observer.disconnect();\n",
       "        }}\n",
       "}});\n",
       "\n",
       "// Listen for the removal of the full notebook cells\n",
       "var notebookContainer = gd.closest('#notebook-container');\n",
       "if (notebookContainer) {{\n",
       "    x.observe(notebookContainer, {childList: true});\n",
       "}}\n",
       "\n",
       "// Listen for the clearing of the current output cell\n",
       "var outputEl = gd.closest('.output');\n",
       "if (outputEl) {{\n",
       "    x.observe(outputEl, {childList: true});\n",
       "}}\n",
       "\n",
       "                        })\n",
       "                };\n",
       "                });\n",
       "            </script>\n",
       "        </div>"
      ]
     },
     "metadata": {},
     "output_type": "display_data"
    }
   ],
   "source": [
    "x, y = (list(x) for x in zip(*sorted(zip(rf.feature_importances_, features), \n",
    "                                                            reverse = False)))\n",
    "trace2 = go.Bar(\n",
    "    x=x ,\n",
    "    y=y,\n",
    "    marker=dict(\n",
    "        color=x,\n",
    "        colorscale = 'Viridis',\n",
    "        reversescale = True\n",
    "    ),\n",
    "    name='Random Forest Feature importance',\n",
    "    orientation='h',\n",
    ")\n",
    "\n",
    "layout = dict(\n",
    "    title='Speech dataset / Feature importances',\n",
    "     width = 800, height = 500,\n",
    "    yaxis=dict(\n",
    "        showgrid=False,\n",
    "        showline=False,\n",
    "        showticklabels=True,\n",
    "#         domain=[0, 0.85],\n",
    "    ))\n",
    "\n",
    "fig1 = go.Figure(data=[trace2])\n",
    "fig1['layout'].update(layout)\n",
    "py.iplot(fig1, filename='plots')"
   ]
  },
  {
   "cell_type": "code",
   "execution_count": 13,
   "metadata": {},
   "outputs": [
    {
     "name": "stdout",
     "output_type": "stream",
     "text": [
      "----- Training Done -----\n"
     ]
    }
   ],
   "source": [
    "from sklearn.ensemble import GradientBoostingClassifier\n",
    "gb = GradientBoostingClassifier(n_estimators=100, max_depth=4, min_samples_leaf=4, max_features=0.2, random_state=0)\n",
    "gb.fit(PROF_train.drop(['y'],axis=1), PROF_train.y)\n",
    "features = PROF_train.drop(['y'],axis=1).columns.values\n",
    "print(\"----- Training Done -----\")"
   ]
  },
  {
   "cell_type": "code",
   "execution_count": 14,
   "metadata": {},
   "outputs": [
    {
     "data": {
      "application/vnd.plotly.v1+json": {
       "config": {
        "linkText": "Export to plot.ly",
        "plotlyServerURL": "https://plot.ly",
        "showLink": false
       },
       "data": [
        {
         "marker": {
          "color": [
           0.009693930053808324,
           0.008299527553103422,
           0.009265767840736221,
           0.007778057940306691,
           0.00850579040273417,
           0.007570767400842401,
           0.008399330329017978,
           0.0075567293588624344,
           0.008658036137378517,
           0.007014284514958638,
           0.008359138767776752,
           0.007970049620495615,
           0.007893737652745782,
           0.00661131175004419,
           0.007332504340906947,
           0.00766257967170945,
           0.007268436571303785,
           0.007780101858648026,
           0.008056894414332211,
           0.007103541454063915,
           0.006540241047964488,
           0.007363847858552675,
           0.006932140774724428,
           0.007742447313639625,
           0.007481362235535797,
           0.007066501643083131,
           0.008607994416526927,
           0.006841408862168631,
           0.008100939959208658,
           0.007704556132596503,
           0.008517150240840562,
           0.007082184590161406,
           0.00697178174283018,
           0.008041157075403564,
           0.006343725844211985,
           0.008405829123480105,
           0.006965385244879847,
           0.007598951189683456,
           0.007899446173381943,
           0.0075740984748594595,
           0.00883219456752584,
           0.008396265751109772,
           0.006794711630839594,
           0.006945152646234868,
           0.009011068358970854,
           0.007697249930027819,
           0.00741474042607552,
           0.00779126497324087,
           0.006347751695591577,
           0.008772363360736193,
           0.007389419896583894,
           0.009181418379202777,
           0.007760300357963368,
           0.0072094819860702465,
           0.007380456581434344,
           0.007726779837145959,
           0.007124681370778012,
           0.006977473492040919,
           0.007830689649820649,
           0.008664702456840813,
           0.00847137954236859,
           0.007277364652869011,
           0.007206343082016828,
           0.008255589945474998,
           0.009394302181028958,
           0.007795260593994101,
           0.007661480487720487,
           0.008447562530910962,
           0.01023107453601096,
           0.008975218816335987,
           0.009328196335997721,
           0.008641007374824893,
           0.00806997132683074,
           0.008790342165369907,
           0.008737138358451016,
           0.008336506053505114,
           0.008626535548127845,
           0.007918658255440449,
           0.007751654862524533,
           0.008665829142401698,
           0.007917290297509828,
           0.00830406573161129,
           0.008058735253044385,
           0.007197329720851431,
           0.008709569214357256,
           0.008121794672585472,
           0.006844552377406607,
           0.00799834195070915,
           0.007674939143535952,
           0.008171979871851837,
           0.008293788110779843,
           0.00728757050402963,
           0.007684856656554135,
           0.007679320020300643,
           0.00796819876471066,
           0.007262041162005507,
           0.008989580330037958,
           0.007650579288860014,
           0.008546399159217748,
           0.007734659244335355,
           0.008908130273617653,
           0.007392571880818473,
           0.007330538979993796,
           0.007688280011486464,
           0.006942123896295446,
           0.00748809444142736,
           0.006874773838793249,
           0.006419974284281461,
           0.006505583837928759,
           0.007201950477054458,
           0.007612635049305798,
           0.00841455379924126,
           0.007617389859965133,
           0.006486213671965636,
           0.007478663652491178,
           0.007931393132996765,
           0.007524281406373305,
           0.007096846287006536,
           0.006800398910212605,
           0.007251254758319722,
           0.007729337945439964,
           0.007913955260004763,
           0.00829558506750456,
           0.006807168775128894,
           0.00790376319259567,
           0.008207076371057893,
           0.008374365717480093,
           0.007316253028970738
          ],
          "colorscale": [
           [
            0,
            "rgb(12,51,131)"
           ],
           [
            0.25,
            "rgb(10,136,186)"
           ],
           [
            0.5,
            "rgb(242,211,56)"
           ],
           [
            0.75,
            "rgb(242,143,56)"
           ],
           [
            1,
            "rgb(217,30,30)"
           ]
          ],
          "showscale": true,
          "size": 10,
          "sizemode": "diameter",
          "sizeref": 1
         },
         "mode": "markers",
         "text": [
          "S0",
          "S1",
          "S2",
          "S3",
          "S4",
          "S5",
          "S6",
          "S7",
          "S8",
          "S9",
          "S10",
          "S11",
          "S12",
          "S13",
          "S14",
          "S15",
          "S16",
          "S17",
          "S18",
          "S19",
          "S20",
          "S21",
          "S22",
          "S23",
          "S24",
          "S25",
          "S26",
          "S27",
          "S28",
          "S29",
          "S30",
          "S31",
          "S32",
          "S33",
          "S34",
          "S35",
          "S36",
          "S37",
          "S38",
          "S39",
          "S40",
          "S41",
          "S42",
          "S43",
          "S44",
          "S45",
          "S46",
          "S47",
          "S48",
          "S49",
          "S50",
          "S51",
          "S52",
          "S53",
          "S54",
          "S55",
          "S56",
          "S57",
          "S58",
          "S59",
          "S60",
          "S61",
          "S62",
          "S63",
          "S64",
          "S65",
          "S66",
          "S67",
          "S68",
          "S69",
          "S70",
          "S71",
          "S72",
          "S73",
          "S74",
          "S75",
          "S76",
          "S77",
          "S78",
          "S79",
          "S80",
          "S81",
          "S82",
          "S83",
          "S84",
          "S85",
          "S86",
          "S87",
          "S88",
          "S89",
          "S90",
          "S91",
          "S92",
          "S93",
          "S94",
          "S95",
          "S96",
          "S97",
          "S98",
          "S99",
          "S100",
          "S101",
          "S102",
          "S103",
          "S104",
          "S105",
          "S106",
          "S107",
          "S108",
          "S109",
          "S110",
          "S111",
          "S112",
          "S113",
          "S114",
          "S115",
          "S116",
          "S117",
          "S118",
          "S119",
          "S120",
          "S121",
          "S122",
          "S123",
          "S124",
          "S125",
          "S126",
          "S127"
         ],
         "type": "scatter",
         "x": [
          "S0",
          "S1",
          "S2",
          "S3",
          "S4",
          "S5",
          "S6",
          "S7",
          "S8",
          "S9",
          "S10",
          "S11",
          "S12",
          "S13",
          "S14",
          "S15",
          "S16",
          "S17",
          "S18",
          "S19",
          "S20",
          "S21",
          "S22",
          "S23",
          "S24",
          "S25",
          "S26",
          "S27",
          "S28",
          "S29",
          "S30",
          "S31",
          "S32",
          "S33",
          "S34",
          "S35",
          "S36",
          "S37",
          "S38",
          "S39",
          "S40",
          "S41",
          "S42",
          "S43",
          "S44",
          "S45",
          "S46",
          "S47",
          "S48",
          "S49",
          "S50",
          "S51",
          "S52",
          "S53",
          "S54",
          "S55",
          "S56",
          "S57",
          "S58",
          "S59",
          "S60",
          "S61",
          "S62",
          "S63",
          "S64",
          "S65",
          "S66",
          "S67",
          "S68",
          "S69",
          "S70",
          "S71",
          "S72",
          "S73",
          "S74",
          "S75",
          "S76",
          "S77",
          "S78",
          "S79",
          "S80",
          "S81",
          "S82",
          "S83",
          "S84",
          "S85",
          "S86",
          "S87",
          "S88",
          "S89",
          "S90",
          "S91",
          "S92",
          "S93",
          "S94",
          "S95",
          "S96",
          "S97",
          "S98",
          "S99",
          "S100",
          "S101",
          "S102",
          "S103",
          "S104",
          "S105",
          "S106",
          "S107",
          "S108",
          "S109",
          "S110",
          "S111",
          "S112",
          "S113",
          "S114",
          "S115",
          "S116",
          "S117",
          "S118",
          "S119",
          "S120",
          "S121",
          "S122",
          "S123",
          "S124",
          "S125",
          "S126",
          "S127"
         ],
         "y": [
          0.009693930053808324,
          0.008299527553103422,
          0.009265767840736221,
          0.007778057940306691,
          0.00850579040273417,
          0.007570767400842401,
          0.008399330329017978,
          0.0075567293588624344,
          0.008658036137378517,
          0.007014284514958638,
          0.008359138767776752,
          0.007970049620495615,
          0.007893737652745782,
          0.00661131175004419,
          0.007332504340906947,
          0.00766257967170945,
          0.007268436571303785,
          0.007780101858648026,
          0.008056894414332211,
          0.007103541454063915,
          0.006540241047964488,
          0.007363847858552675,
          0.006932140774724428,
          0.007742447313639625,
          0.007481362235535797,
          0.007066501643083131,
          0.008607994416526927,
          0.006841408862168631,
          0.008100939959208658,
          0.007704556132596503,
          0.008517150240840562,
          0.007082184590161406,
          0.00697178174283018,
          0.008041157075403564,
          0.006343725844211985,
          0.008405829123480105,
          0.006965385244879847,
          0.007598951189683456,
          0.007899446173381943,
          0.0075740984748594595,
          0.00883219456752584,
          0.008396265751109772,
          0.006794711630839594,
          0.006945152646234868,
          0.009011068358970854,
          0.007697249930027819,
          0.00741474042607552,
          0.00779126497324087,
          0.006347751695591577,
          0.008772363360736193,
          0.007389419896583894,
          0.009181418379202777,
          0.007760300357963368,
          0.0072094819860702465,
          0.007380456581434344,
          0.007726779837145959,
          0.007124681370778012,
          0.006977473492040919,
          0.007830689649820649,
          0.008664702456840813,
          0.00847137954236859,
          0.007277364652869011,
          0.007206343082016828,
          0.008255589945474998,
          0.009394302181028958,
          0.007795260593994101,
          0.007661480487720487,
          0.008447562530910962,
          0.01023107453601096,
          0.008975218816335987,
          0.009328196335997721,
          0.008641007374824893,
          0.00806997132683074,
          0.008790342165369907,
          0.008737138358451016,
          0.008336506053505114,
          0.008626535548127845,
          0.007918658255440449,
          0.007751654862524533,
          0.008665829142401698,
          0.007917290297509828,
          0.00830406573161129,
          0.008058735253044385,
          0.007197329720851431,
          0.008709569214357256,
          0.008121794672585472,
          0.006844552377406607,
          0.00799834195070915,
          0.007674939143535952,
          0.008171979871851837,
          0.008293788110779843,
          0.00728757050402963,
          0.007684856656554135,
          0.007679320020300643,
          0.00796819876471066,
          0.007262041162005507,
          0.008989580330037958,
          0.007650579288860014,
          0.008546399159217748,
          0.007734659244335355,
          0.008908130273617653,
          0.007392571880818473,
          0.007330538979993796,
          0.007688280011486464,
          0.006942123896295446,
          0.00748809444142736,
          0.006874773838793249,
          0.006419974284281461,
          0.006505583837928759,
          0.007201950477054458,
          0.007612635049305798,
          0.00841455379924126,
          0.007617389859965133,
          0.006486213671965636,
          0.007478663652491178,
          0.007931393132996765,
          0.007524281406373305,
          0.007096846287006536,
          0.006800398910212605,
          0.007251254758319722,
          0.007729337945439964,
          0.007913955260004763,
          0.00829558506750456,
          0.006807168775128894,
          0.00790376319259567,
          0.008207076371057893,
          0.008374365717480093,
          0.007316253028970738
         ]
        }
       ],
       "layout": {
        "autosize": true,
        "hovermode": "closest",
        "showlegend": false,
        "template": {
         "data": {
          "bar": [
           {
            "error_x": {
             "color": "#2a3f5f"
            },
            "error_y": {
             "color": "#2a3f5f"
            },
            "marker": {
             "line": {
              "color": "#E5ECF6",
              "width": 0.5
             }
            },
            "type": "bar"
           }
          ],
          "barpolar": [
           {
            "marker": {
             "line": {
              "color": "#E5ECF6",
              "width": 0.5
             }
            },
            "type": "barpolar"
           }
          ],
          "carpet": [
           {
            "aaxis": {
             "endlinecolor": "#2a3f5f",
             "gridcolor": "white",
             "linecolor": "white",
             "minorgridcolor": "white",
             "startlinecolor": "#2a3f5f"
            },
            "baxis": {
             "endlinecolor": "#2a3f5f",
             "gridcolor": "white",
             "linecolor": "white",
             "minorgridcolor": "white",
             "startlinecolor": "#2a3f5f"
            },
            "type": "carpet"
           }
          ],
          "choropleth": [
           {
            "colorbar": {
             "outlinewidth": 0,
             "ticks": ""
            },
            "type": "choropleth"
           }
          ],
          "contour": [
           {
            "colorbar": {
             "outlinewidth": 0,
             "ticks": ""
            },
            "colorscale": [
             [
              0,
              "#0d0887"
             ],
             [
              0.1111111111111111,
              "#46039f"
             ],
             [
              0.2222222222222222,
              "#7201a8"
             ],
             [
              0.3333333333333333,
              "#9c179e"
             ],
             [
              0.4444444444444444,
              "#bd3786"
             ],
             [
              0.5555555555555556,
              "#d8576b"
             ],
             [
              0.6666666666666666,
              "#ed7953"
             ],
             [
              0.7777777777777778,
              "#fb9f3a"
             ],
             [
              0.8888888888888888,
              "#fdca26"
             ],
             [
              1,
              "#f0f921"
             ]
            ],
            "type": "contour"
           }
          ],
          "contourcarpet": [
           {
            "colorbar": {
             "outlinewidth": 0,
             "ticks": ""
            },
            "type": "contourcarpet"
           }
          ],
          "heatmap": [
           {
            "colorbar": {
             "outlinewidth": 0,
             "ticks": ""
            },
            "colorscale": [
             [
              0,
              "#0d0887"
             ],
             [
              0.1111111111111111,
              "#46039f"
             ],
             [
              0.2222222222222222,
              "#7201a8"
             ],
             [
              0.3333333333333333,
              "#9c179e"
             ],
             [
              0.4444444444444444,
              "#bd3786"
             ],
             [
              0.5555555555555556,
              "#d8576b"
             ],
             [
              0.6666666666666666,
              "#ed7953"
             ],
             [
              0.7777777777777778,
              "#fb9f3a"
             ],
             [
              0.8888888888888888,
              "#fdca26"
             ],
             [
              1,
              "#f0f921"
             ]
            ],
            "type": "heatmap"
           }
          ],
          "heatmapgl": [
           {
            "colorbar": {
             "outlinewidth": 0,
             "ticks": ""
            },
            "colorscale": [
             [
              0,
              "#0d0887"
             ],
             [
              0.1111111111111111,
              "#46039f"
             ],
             [
              0.2222222222222222,
              "#7201a8"
             ],
             [
              0.3333333333333333,
              "#9c179e"
             ],
             [
              0.4444444444444444,
              "#bd3786"
             ],
             [
              0.5555555555555556,
              "#d8576b"
             ],
             [
              0.6666666666666666,
              "#ed7953"
             ],
             [
              0.7777777777777778,
              "#fb9f3a"
             ],
             [
              0.8888888888888888,
              "#fdca26"
             ],
             [
              1,
              "#f0f921"
             ]
            ],
            "type": "heatmapgl"
           }
          ],
          "histogram": [
           {
            "marker": {
             "colorbar": {
              "outlinewidth": 0,
              "ticks": ""
             }
            },
            "type": "histogram"
           }
          ],
          "histogram2d": [
           {
            "colorbar": {
             "outlinewidth": 0,
             "ticks": ""
            },
            "colorscale": [
             [
              0,
              "#0d0887"
             ],
             [
              0.1111111111111111,
              "#46039f"
             ],
             [
              0.2222222222222222,
              "#7201a8"
             ],
             [
              0.3333333333333333,
              "#9c179e"
             ],
             [
              0.4444444444444444,
              "#bd3786"
             ],
             [
              0.5555555555555556,
              "#d8576b"
             ],
             [
              0.6666666666666666,
              "#ed7953"
             ],
             [
              0.7777777777777778,
              "#fb9f3a"
             ],
             [
              0.8888888888888888,
              "#fdca26"
             ],
             [
              1,
              "#f0f921"
             ]
            ],
            "type": "histogram2d"
           }
          ],
          "histogram2dcontour": [
           {
            "colorbar": {
             "outlinewidth": 0,
             "ticks": ""
            },
            "colorscale": [
             [
              0,
              "#0d0887"
             ],
             [
              0.1111111111111111,
              "#46039f"
             ],
             [
              0.2222222222222222,
              "#7201a8"
             ],
             [
              0.3333333333333333,
              "#9c179e"
             ],
             [
              0.4444444444444444,
              "#bd3786"
             ],
             [
              0.5555555555555556,
              "#d8576b"
             ],
             [
              0.6666666666666666,
              "#ed7953"
             ],
             [
              0.7777777777777778,
              "#fb9f3a"
             ],
             [
              0.8888888888888888,
              "#fdca26"
             ],
             [
              1,
              "#f0f921"
             ]
            ],
            "type": "histogram2dcontour"
           }
          ],
          "mesh3d": [
           {
            "colorbar": {
             "outlinewidth": 0,
             "ticks": ""
            },
            "type": "mesh3d"
           }
          ],
          "parcoords": [
           {
            "line": {
             "colorbar": {
              "outlinewidth": 0,
              "ticks": ""
             }
            },
            "type": "parcoords"
           }
          ],
          "scatter": [
           {
            "marker": {
             "colorbar": {
              "outlinewidth": 0,
              "ticks": ""
             }
            },
            "type": "scatter"
           }
          ],
          "scatter3d": [
           {
            "line": {
             "colorbar": {
              "outlinewidth": 0,
              "ticks": ""
             }
            },
            "marker": {
             "colorbar": {
              "outlinewidth": 0,
              "ticks": ""
             }
            },
            "type": "scatter3d"
           }
          ],
          "scattercarpet": [
           {
            "marker": {
             "colorbar": {
              "outlinewidth": 0,
              "ticks": ""
             }
            },
            "type": "scattercarpet"
           }
          ],
          "scattergeo": [
           {
            "marker": {
             "colorbar": {
              "outlinewidth": 0,
              "ticks": ""
             }
            },
            "type": "scattergeo"
           }
          ],
          "scattergl": [
           {
            "marker": {
             "colorbar": {
              "outlinewidth": 0,
              "ticks": ""
             }
            },
            "type": "scattergl"
           }
          ],
          "scattermapbox": [
           {
            "marker": {
             "colorbar": {
              "outlinewidth": 0,
              "ticks": ""
             }
            },
            "type": "scattermapbox"
           }
          ],
          "scatterpolar": [
           {
            "marker": {
             "colorbar": {
              "outlinewidth": 0,
              "ticks": ""
             }
            },
            "type": "scatterpolar"
           }
          ],
          "scatterpolargl": [
           {
            "marker": {
             "colorbar": {
              "outlinewidth": 0,
              "ticks": ""
             }
            },
            "type": "scatterpolargl"
           }
          ],
          "scatterternary": [
           {
            "marker": {
             "colorbar": {
              "outlinewidth": 0,
              "ticks": ""
             }
            },
            "type": "scatterternary"
           }
          ],
          "surface": [
           {
            "colorbar": {
             "outlinewidth": 0,
             "ticks": ""
            },
            "colorscale": [
             [
              0,
              "#0d0887"
             ],
             [
              0.1111111111111111,
              "#46039f"
             ],
             [
              0.2222222222222222,
              "#7201a8"
             ],
             [
              0.3333333333333333,
              "#9c179e"
             ],
             [
              0.4444444444444444,
              "#bd3786"
             ],
             [
              0.5555555555555556,
              "#d8576b"
             ],
             [
              0.6666666666666666,
              "#ed7953"
             ],
             [
              0.7777777777777778,
              "#fb9f3a"
             ],
             [
              0.8888888888888888,
              "#fdca26"
             ],
             [
              1,
              "#f0f921"
             ]
            ],
            "type": "surface"
           }
          ],
          "table": [
           {
            "cells": {
             "fill": {
              "color": "#EBF0F8"
             },
             "line": {
              "color": "white"
             }
            },
            "header": {
             "fill": {
              "color": "#C8D4E3"
             },
             "line": {
              "color": "white"
             }
            },
            "type": "table"
           }
          ]
         },
         "layout": {
          "annotationdefaults": {
           "arrowcolor": "#2a3f5f",
           "arrowhead": 0,
           "arrowwidth": 1
          },
          "colorscale": {
           "diverging": [
            [
             0,
             "#8e0152"
            ],
            [
             0.1,
             "#c51b7d"
            ],
            [
             0.2,
             "#de77ae"
            ],
            [
             0.3,
             "#f1b6da"
            ],
            [
             0.4,
             "#fde0ef"
            ],
            [
             0.5,
             "#f7f7f7"
            ],
            [
             0.6,
             "#e6f5d0"
            ],
            [
             0.7,
             "#b8e186"
            ],
            [
             0.8,
             "#7fbc41"
            ],
            [
             0.9,
             "#4d9221"
            ],
            [
             1,
             "#276419"
            ]
           ],
           "sequential": [
            [
             0,
             "#0d0887"
            ],
            [
             0.1111111111111111,
             "#46039f"
            ],
            [
             0.2222222222222222,
             "#7201a8"
            ],
            [
             0.3333333333333333,
             "#9c179e"
            ],
            [
             0.4444444444444444,
             "#bd3786"
            ],
            [
             0.5555555555555556,
             "#d8576b"
            ],
            [
             0.6666666666666666,
             "#ed7953"
            ],
            [
             0.7777777777777778,
             "#fb9f3a"
            ],
            [
             0.8888888888888888,
             "#fdca26"
            ],
            [
             1,
             "#f0f921"
            ]
           ],
           "sequentialminus": [
            [
             0,
             "#0d0887"
            ],
            [
             0.1111111111111111,
             "#46039f"
            ],
            [
             0.2222222222222222,
             "#7201a8"
            ],
            [
             0.3333333333333333,
             "#9c179e"
            ],
            [
             0.4444444444444444,
             "#bd3786"
            ],
            [
             0.5555555555555556,
             "#d8576b"
            ],
            [
             0.6666666666666666,
             "#ed7953"
            ],
            [
             0.7777777777777778,
             "#fb9f3a"
            ],
            [
             0.8888888888888888,
             "#fdca26"
            ],
            [
             1,
             "#f0f921"
            ]
           ]
          },
          "colorway": [
           "#636efa",
           "#EF553B",
           "#00cc96",
           "#ab63fa",
           "#FFA15A",
           "#19d3f3",
           "#FF6692",
           "#B6E880",
           "#FF97FF",
           "#FECB52"
          ],
          "font": {
           "color": "#2a3f5f"
          },
          "geo": {
           "bgcolor": "white",
           "lakecolor": "white",
           "landcolor": "#E5ECF6",
           "showlakes": true,
           "showland": true,
           "subunitcolor": "white"
          },
          "hoverlabel": {
           "align": "left"
          },
          "hovermode": "closest",
          "mapbox": {
           "style": "light"
          },
          "paper_bgcolor": "white",
          "plot_bgcolor": "#E5ECF6",
          "polar": {
           "angularaxis": {
            "gridcolor": "white",
            "linecolor": "white",
            "ticks": ""
           },
           "bgcolor": "#E5ECF6",
           "radialaxis": {
            "gridcolor": "white",
            "linecolor": "white",
            "ticks": ""
           }
          },
          "scene": {
           "xaxis": {
            "backgroundcolor": "#E5ECF6",
            "gridcolor": "white",
            "gridwidth": 2,
            "linecolor": "white",
            "showbackground": true,
            "ticks": "",
            "zerolinecolor": "white"
           },
           "yaxis": {
            "backgroundcolor": "#E5ECF6",
            "gridcolor": "white",
            "gridwidth": 2,
            "linecolor": "white",
            "showbackground": true,
            "ticks": "",
            "zerolinecolor": "white"
           },
           "zaxis": {
            "backgroundcolor": "#E5ECF6",
            "gridcolor": "white",
            "gridwidth": 2,
            "linecolor": "white",
            "showbackground": true,
            "ticks": "",
            "zerolinecolor": "white"
           }
          },
          "shapedefaults": {
           "line": {
            "color": "#2a3f5f"
           }
          },
          "ternary": {
           "aaxis": {
            "gridcolor": "white",
            "linecolor": "white",
            "ticks": ""
           },
           "baxis": {
            "gridcolor": "white",
            "linecolor": "white",
            "ticks": ""
           },
           "bgcolor": "#E5ECF6",
           "caxis": {
            "gridcolor": "white",
            "linecolor": "white",
            "ticks": ""
           }
          },
          "title": {
           "x": 0.05
          },
          "xaxis": {
           "automargin": true,
           "gridcolor": "white",
           "linecolor": "white",
           "ticks": "",
           "zerolinecolor": "white",
           "zerolinewidth": 2
          },
          "yaxis": {
           "automargin": true,
           "gridcolor": "white",
           "linecolor": "white",
           "ticks": "",
           "zerolinecolor": "white",
           "zerolinewidth": 2
          }
         }
        },
        "title": {
         "text": "Gradient Boosting Machine Feature Importance"
        },
        "xaxis": {
         "showgrid": false,
         "showline": false,
         "ticklen": 5,
         "zeroline": false
        },
        "yaxis": {
         "gridwidth": 2,
         "showgrid": false,
         "ticklen": 5,
         "title": {
          "text": "Feature Importance"
         },
         "zeroline": false
        }
       }
      },
      "text/html": [
       "<div>\n",
       "        \n",
       "        \n",
       "            <div id=\"d8baa17b-52cd-465b-aeb2-7fdfc7b98022\" class=\"plotly-graph-div\" style=\"height:525px; width:100%;\"></div>\n",
       "            <script type=\"text/javascript\">\n",
       "                require([\"plotly\"], function(Plotly) {\n",
       "                    window.PLOTLYENV=window.PLOTLYENV || {};\n",
       "                    \n",
       "                if (document.getElementById(\"d8baa17b-52cd-465b-aeb2-7fdfc7b98022\")) {\n",
       "                    Plotly.newPlot(\n",
       "                        'd8baa17b-52cd-465b-aeb2-7fdfc7b98022',\n",
       "                        [{\"marker\": {\"color\": [0.009693930053808324, 0.008299527553103422, 0.009265767840736221, 0.007778057940306691, 0.00850579040273417, 0.007570767400842401, 0.008399330329017978, 0.0075567293588624344, 0.008658036137378517, 0.007014284514958638, 0.008359138767776752, 0.007970049620495615, 0.007893737652745782, 0.00661131175004419, 0.007332504340906947, 0.00766257967170945, 0.007268436571303785, 0.007780101858648026, 0.008056894414332211, 0.007103541454063915, 0.006540241047964488, 0.007363847858552675, 0.006932140774724428, 0.007742447313639625, 0.007481362235535797, 0.007066501643083131, 0.008607994416526927, 0.006841408862168631, 0.008100939959208658, 0.007704556132596503, 0.008517150240840562, 0.007082184590161406, 0.00697178174283018, 0.008041157075403564, 0.006343725844211985, 0.008405829123480105, 0.006965385244879847, 0.007598951189683456, 0.007899446173381943, 0.0075740984748594595, 0.00883219456752584, 0.008396265751109772, 0.006794711630839594, 0.006945152646234868, 0.009011068358970854, 0.007697249930027819, 0.00741474042607552, 0.00779126497324087, 0.006347751695591577, 0.008772363360736193, 0.007389419896583894, 0.009181418379202777, 0.007760300357963368, 0.0072094819860702465, 0.007380456581434344, 0.007726779837145959, 0.007124681370778012, 0.006977473492040919, 0.007830689649820649, 0.008664702456840813, 0.00847137954236859, 0.007277364652869011, 0.007206343082016828, 0.008255589945474998, 0.009394302181028958, 0.007795260593994101, 0.007661480487720487, 0.008447562530910962, 0.01023107453601096, 0.008975218816335987, 0.009328196335997721, 0.008641007374824893, 0.00806997132683074, 0.008790342165369907, 0.008737138358451016, 0.008336506053505114, 0.008626535548127845, 0.007918658255440449, 0.007751654862524533, 0.008665829142401698, 0.007917290297509828, 0.00830406573161129, 0.008058735253044385, 0.007197329720851431, 0.008709569214357256, 0.008121794672585472, 0.006844552377406607, 0.00799834195070915, 0.007674939143535952, 0.008171979871851837, 0.008293788110779843, 0.00728757050402963, 0.007684856656554135, 0.007679320020300643, 0.00796819876471066, 0.007262041162005507, 0.008989580330037958, 0.007650579288860014, 0.008546399159217748, 0.007734659244335355, 0.008908130273617653, 0.007392571880818473, 0.007330538979993796, 0.007688280011486464, 0.006942123896295446, 0.00748809444142736, 0.006874773838793249, 0.006419974284281461, 0.006505583837928759, 0.007201950477054458, 0.007612635049305798, 0.00841455379924126, 0.007617389859965133, 0.006486213671965636, 0.007478663652491178, 0.007931393132996765, 0.007524281406373305, 0.007096846287006536, 0.006800398910212605, 0.007251254758319722, 0.007729337945439964, 0.007913955260004763, 0.00829558506750456, 0.006807168775128894, 0.00790376319259567, 0.008207076371057893, 0.008374365717480093, 0.007316253028970738], \"colorscale\": [[0.0, \"rgb(12,51,131)\"], [0.25, \"rgb(10,136,186)\"], [0.5, \"rgb(242,211,56)\"], [0.75, \"rgb(242,143,56)\"], [1.0, \"rgb(217,30,30)\"]], \"showscale\": true, \"size\": 10, \"sizemode\": \"diameter\", \"sizeref\": 1}, \"mode\": \"markers\", \"text\": [\"S0\", \"S1\", \"S2\", \"S3\", \"S4\", \"S5\", \"S6\", \"S7\", \"S8\", \"S9\", \"S10\", \"S11\", \"S12\", \"S13\", \"S14\", \"S15\", \"S16\", \"S17\", \"S18\", \"S19\", \"S20\", \"S21\", \"S22\", \"S23\", \"S24\", \"S25\", \"S26\", \"S27\", \"S28\", \"S29\", \"S30\", \"S31\", \"S32\", \"S33\", \"S34\", \"S35\", \"S36\", \"S37\", \"S38\", \"S39\", \"S40\", \"S41\", \"S42\", \"S43\", \"S44\", \"S45\", \"S46\", \"S47\", \"S48\", \"S49\", \"S50\", \"S51\", \"S52\", \"S53\", \"S54\", \"S55\", \"S56\", \"S57\", \"S58\", \"S59\", \"S60\", \"S61\", \"S62\", \"S63\", \"S64\", \"S65\", \"S66\", \"S67\", \"S68\", \"S69\", \"S70\", \"S71\", \"S72\", \"S73\", \"S74\", \"S75\", \"S76\", \"S77\", \"S78\", \"S79\", \"S80\", \"S81\", \"S82\", \"S83\", \"S84\", \"S85\", \"S86\", \"S87\", \"S88\", \"S89\", \"S90\", \"S91\", \"S92\", \"S93\", \"S94\", \"S95\", \"S96\", \"S97\", \"S98\", \"S99\", \"S100\", \"S101\", \"S102\", \"S103\", \"S104\", \"S105\", \"S106\", \"S107\", \"S108\", \"S109\", \"S110\", \"S111\", \"S112\", \"S113\", \"S114\", \"S115\", \"S116\", \"S117\", \"S118\", \"S119\", \"S120\", \"S121\", \"S122\", \"S123\", \"S124\", \"S125\", \"S126\", \"S127\"], \"type\": \"scatter\", \"x\": [\"S0\", \"S1\", \"S2\", \"S3\", \"S4\", \"S5\", \"S6\", \"S7\", \"S8\", \"S9\", \"S10\", \"S11\", \"S12\", \"S13\", \"S14\", \"S15\", \"S16\", \"S17\", \"S18\", \"S19\", \"S20\", \"S21\", \"S22\", \"S23\", \"S24\", \"S25\", \"S26\", \"S27\", \"S28\", \"S29\", \"S30\", \"S31\", \"S32\", \"S33\", \"S34\", \"S35\", \"S36\", \"S37\", \"S38\", \"S39\", \"S40\", \"S41\", \"S42\", \"S43\", \"S44\", \"S45\", \"S46\", \"S47\", \"S48\", \"S49\", \"S50\", \"S51\", \"S52\", \"S53\", \"S54\", \"S55\", \"S56\", \"S57\", \"S58\", \"S59\", \"S60\", \"S61\", \"S62\", \"S63\", \"S64\", \"S65\", \"S66\", \"S67\", \"S68\", \"S69\", \"S70\", \"S71\", \"S72\", \"S73\", \"S74\", \"S75\", \"S76\", \"S77\", \"S78\", \"S79\", \"S80\", \"S81\", \"S82\", \"S83\", \"S84\", \"S85\", \"S86\", \"S87\", \"S88\", \"S89\", \"S90\", \"S91\", \"S92\", \"S93\", \"S94\", \"S95\", \"S96\", \"S97\", \"S98\", \"S99\", \"S100\", \"S101\", \"S102\", \"S103\", \"S104\", \"S105\", \"S106\", \"S107\", \"S108\", \"S109\", \"S110\", \"S111\", \"S112\", \"S113\", \"S114\", \"S115\", \"S116\", \"S117\", \"S118\", \"S119\", \"S120\", \"S121\", \"S122\", \"S123\", \"S124\", \"S125\", \"S126\", \"S127\"], \"y\": [0.009693930053808324, 0.008299527553103422, 0.009265767840736221, 0.007778057940306691, 0.00850579040273417, 0.007570767400842401, 0.008399330329017978, 0.0075567293588624344, 0.008658036137378517, 0.007014284514958638, 0.008359138767776752, 0.007970049620495615, 0.007893737652745782, 0.00661131175004419, 0.007332504340906947, 0.00766257967170945, 0.007268436571303785, 0.007780101858648026, 0.008056894414332211, 0.007103541454063915, 0.006540241047964488, 0.007363847858552675, 0.006932140774724428, 0.007742447313639625, 0.007481362235535797, 0.007066501643083131, 0.008607994416526927, 0.006841408862168631, 0.008100939959208658, 0.007704556132596503, 0.008517150240840562, 0.007082184590161406, 0.00697178174283018, 0.008041157075403564, 0.006343725844211985, 0.008405829123480105, 0.006965385244879847, 0.007598951189683456, 0.007899446173381943, 0.0075740984748594595, 0.00883219456752584, 0.008396265751109772, 0.006794711630839594, 0.006945152646234868, 0.009011068358970854, 0.007697249930027819, 0.00741474042607552, 0.00779126497324087, 0.006347751695591577, 0.008772363360736193, 0.007389419896583894, 0.009181418379202777, 0.007760300357963368, 0.0072094819860702465, 0.007380456581434344, 0.007726779837145959, 0.007124681370778012, 0.006977473492040919, 0.007830689649820649, 0.008664702456840813, 0.00847137954236859, 0.007277364652869011, 0.007206343082016828, 0.008255589945474998, 0.009394302181028958, 0.007795260593994101, 0.007661480487720487, 0.008447562530910962, 0.01023107453601096, 0.008975218816335987, 0.009328196335997721, 0.008641007374824893, 0.00806997132683074, 0.008790342165369907, 0.008737138358451016, 0.008336506053505114, 0.008626535548127845, 0.007918658255440449, 0.007751654862524533, 0.008665829142401698, 0.007917290297509828, 0.00830406573161129, 0.008058735253044385, 0.007197329720851431, 0.008709569214357256, 0.008121794672585472, 0.006844552377406607, 0.00799834195070915, 0.007674939143535952, 0.008171979871851837, 0.008293788110779843, 0.00728757050402963, 0.007684856656554135, 0.007679320020300643, 0.00796819876471066, 0.007262041162005507, 0.008989580330037958, 0.007650579288860014, 0.008546399159217748, 0.007734659244335355, 0.008908130273617653, 0.007392571880818473, 0.007330538979993796, 0.007688280011486464, 0.006942123896295446, 0.00748809444142736, 0.006874773838793249, 0.006419974284281461, 0.006505583837928759, 0.007201950477054458, 0.007612635049305798, 0.00841455379924126, 0.007617389859965133, 0.006486213671965636, 0.007478663652491178, 0.007931393132996765, 0.007524281406373305, 0.007096846287006536, 0.006800398910212605, 0.007251254758319722, 0.007729337945439964, 0.007913955260004763, 0.00829558506750456, 0.006807168775128894, 0.00790376319259567, 0.008207076371057893, 0.008374365717480093, 0.007316253028970738]}],\n",
       "                        {\"autosize\": true, \"hovermode\": \"closest\", \"showlegend\": false, \"template\": {\"data\": {\"bar\": [{\"error_x\": {\"color\": \"#2a3f5f\"}, \"error_y\": {\"color\": \"#2a3f5f\"}, \"marker\": {\"line\": {\"color\": \"#E5ECF6\", \"width\": 0.5}}, \"type\": \"bar\"}], \"barpolar\": [{\"marker\": {\"line\": {\"color\": \"#E5ECF6\", \"width\": 0.5}}, \"type\": \"barpolar\"}], \"carpet\": [{\"aaxis\": {\"endlinecolor\": \"#2a3f5f\", \"gridcolor\": \"white\", \"linecolor\": \"white\", \"minorgridcolor\": \"white\", \"startlinecolor\": \"#2a3f5f\"}, \"baxis\": {\"endlinecolor\": \"#2a3f5f\", \"gridcolor\": \"white\", \"linecolor\": \"white\", \"minorgridcolor\": \"white\", \"startlinecolor\": \"#2a3f5f\"}, \"type\": \"carpet\"}], \"choropleth\": [{\"colorbar\": {\"outlinewidth\": 0, \"ticks\": \"\"}, \"type\": \"choropleth\"}], \"contour\": [{\"colorbar\": {\"outlinewidth\": 0, \"ticks\": \"\"}, \"colorscale\": [[0.0, \"#0d0887\"], [0.1111111111111111, \"#46039f\"], [0.2222222222222222, \"#7201a8\"], [0.3333333333333333, \"#9c179e\"], [0.4444444444444444, \"#bd3786\"], [0.5555555555555556, \"#d8576b\"], [0.6666666666666666, \"#ed7953\"], [0.7777777777777778, \"#fb9f3a\"], [0.8888888888888888, \"#fdca26\"], [1.0, \"#f0f921\"]], \"type\": \"contour\"}], \"contourcarpet\": [{\"colorbar\": {\"outlinewidth\": 0, \"ticks\": \"\"}, \"type\": \"contourcarpet\"}], \"heatmap\": [{\"colorbar\": {\"outlinewidth\": 0, \"ticks\": \"\"}, \"colorscale\": [[0.0, \"#0d0887\"], [0.1111111111111111, \"#46039f\"], [0.2222222222222222, \"#7201a8\"], [0.3333333333333333, \"#9c179e\"], [0.4444444444444444, \"#bd3786\"], [0.5555555555555556, \"#d8576b\"], [0.6666666666666666, \"#ed7953\"], [0.7777777777777778, \"#fb9f3a\"], [0.8888888888888888, \"#fdca26\"], [1.0, \"#f0f921\"]], \"type\": \"heatmap\"}], \"heatmapgl\": [{\"colorbar\": {\"outlinewidth\": 0, \"ticks\": \"\"}, \"colorscale\": [[0.0, \"#0d0887\"], [0.1111111111111111, \"#46039f\"], [0.2222222222222222, \"#7201a8\"], [0.3333333333333333, \"#9c179e\"], [0.4444444444444444, \"#bd3786\"], [0.5555555555555556, \"#d8576b\"], [0.6666666666666666, \"#ed7953\"], [0.7777777777777778, \"#fb9f3a\"], [0.8888888888888888, \"#fdca26\"], [1.0, \"#f0f921\"]], \"type\": \"heatmapgl\"}], \"histogram\": [{\"marker\": {\"colorbar\": {\"outlinewidth\": 0, \"ticks\": \"\"}}, \"type\": \"histogram\"}], \"histogram2d\": [{\"colorbar\": {\"outlinewidth\": 0, \"ticks\": \"\"}, \"colorscale\": [[0.0, \"#0d0887\"], [0.1111111111111111, \"#46039f\"], [0.2222222222222222, \"#7201a8\"], [0.3333333333333333, \"#9c179e\"], [0.4444444444444444, \"#bd3786\"], [0.5555555555555556, \"#d8576b\"], [0.6666666666666666, \"#ed7953\"], [0.7777777777777778, \"#fb9f3a\"], [0.8888888888888888, \"#fdca26\"], [1.0, \"#f0f921\"]], \"type\": \"histogram2d\"}], \"histogram2dcontour\": [{\"colorbar\": {\"outlinewidth\": 0, \"ticks\": \"\"}, \"colorscale\": [[0.0, \"#0d0887\"], [0.1111111111111111, \"#46039f\"], [0.2222222222222222, \"#7201a8\"], [0.3333333333333333, \"#9c179e\"], [0.4444444444444444, \"#bd3786\"], [0.5555555555555556, \"#d8576b\"], [0.6666666666666666, \"#ed7953\"], [0.7777777777777778, \"#fb9f3a\"], [0.8888888888888888, \"#fdca26\"], [1.0, \"#f0f921\"]], \"type\": \"histogram2dcontour\"}], \"mesh3d\": [{\"colorbar\": {\"outlinewidth\": 0, \"ticks\": \"\"}, \"type\": \"mesh3d\"}], \"parcoords\": [{\"line\": {\"colorbar\": {\"outlinewidth\": 0, \"ticks\": \"\"}}, \"type\": \"parcoords\"}], \"scatter\": [{\"marker\": {\"colorbar\": {\"outlinewidth\": 0, \"ticks\": \"\"}}, \"type\": \"scatter\"}], \"scatter3d\": [{\"line\": {\"colorbar\": {\"outlinewidth\": 0, \"ticks\": \"\"}}, \"marker\": {\"colorbar\": {\"outlinewidth\": 0, \"ticks\": \"\"}}, \"type\": \"scatter3d\"}], \"scattercarpet\": [{\"marker\": {\"colorbar\": {\"outlinewidth\": 0, \"ticks\": \"\"}}, \"type\": \"scattercarpet\"}], \"scattergeo\": [{\"marker\": {\"colorbar\": {\"outlinewidth\": 0, \"ticks\": \"\"}}, \"type\": \"scattergeo\"}], \"scattergl\": [{\"marker\": {\"colorbar\": {\"outlinewidth\": 0, \"ticks\": \"\"}}, \"type\": \"scattergl\"}], \"scattermapbox\": [{\"marker\": {\"colorbar\": {\"outlinewidth\": 0, \"ticks\": \"\"}}, \"type\": \"scattermapbox\"}], \"scatterpolar\": [{\"marker\": {\"colorbar\": {\"outlinewidth\": 0, \"ticks\": \"\"}}, \"type\": \"scatterpolar\"}], \"scatterpolargl\": [{\"marker\": {\"colorbar\": {\"outlinewidth\": 0, \"ticks\": \"\"}}, \"type\": \"scatterpolargl\"}], \"scatterternary\": [{\"marker\": {\"colorbar\": {\"outlinewidth\": 0, \"ticks\": \"\"}}, \"type\": \"scatterternary\"}], \"surface\": [{\"colorbar\": {\"outlinewidth\": 0, \"ticks\": \"\"}, \"colorscale\": [[0.0, \"#0d0887\"], [0.1111111111111111, \"#46039f\"], [0.2222222222222222, \"#7201a8\"], [0.3333333333333333, \"#9c179e\"], [0.4444444444444444, \"#bd3786\"], [0.5555555555555556, \"#d8576b\"], [0.6666666666666666, \"#ed7953\"], [0.7777777777777778, \"#fb9f3a\"], [0.8888888888888888, \"#fdca26\"], [1.0, \"#f0f921\"]], \"type\": \"surface\"}], \"table\": [{\"cells\": {\"fill\": {\"color\": \"#EBF0F8\"}, \"line\": {\"color\": \"white\"}}, \"header\": {\"fill\": {\"color\": \"#C8D4E3\"}, \"line\": {\"color\": \"white\"}}, \"type\": \"table\"}]}, \"layout\": {\"annotationdefaults\": {\"arrowcolor\": \"#2a3f5f\", \"arrowhead\": 0, \"arrowwidth\": 1}, \"colorscale\": {\"diverging\": [[0, \"#8e0152\"], [0.1, \"#c51b7d\"], [0.2, \"#de77ae\"], [0.3, \"#f1b6da\"], [0.4, \"#fde0ef\"], [0.5, \"#f7f7f7\"], [0.6, \"#e6f5d0\"], [0.7, \"#b8e186\"], [0.8, \"#7fbc41\"], [0.9, \"#4d9221\"], [1, \"#276419\"]], \"sequential\": [[0.0, \"#0d0887\"], [0.1111111111111111, \"#46039f\"], [0.2222222222222222, \"#7201a8\"], [0.3333333333333333, \"#9c179e\"], [0.4444444444444444, \"#bd3786\"], [0.5555555555555556, \"#d8576b\"], [0.6666666666666666, \"#ed7953\"], [0.7777777777777778, \"#fb9f3a\"], [0.8888888888888888, \"#fdca26\"], [1.0, \"#f0f921\"]], \"sequentialminus\": [[0.0, \"#0d0887\"], [0.1111111111111111, \"#46039f\"], [0.2222222222222222, \"#7201a8\"], [0.3333333333333333, \"#9c179e\"], [0.4444444444444444, \"#bd3786\"], [0.5555555555555556, \"#d8576b\"], [0.6666666666666666, \"#ed7953\"], [0.7777777777777778, \"#fb9f3a\"], [0.8888888888888888, \"#fdca26\"], [1.0, \"#f0f921\"]]}, \"colorway\": [\"#636efa\", \"#EF553B\", \"#00cc96\", \"#ab63fa\", \"#FFA15A\", \"#19d3f3\", \"#FF6692\", \"#B6E880\", \"#FF97FF\", \"#FECB52\"], \"font\": {\"color\": \"#2a3f5f\"}, \"geo\": {\"bgcolor\": \"white\", \"lakecolor\": \"white\", \"landcolor\": \"#E5ECF6\", \"showlakes\": true, \"showland\": true, \"subunitcolor\": \"white\"}, \"hoverlabel\": {\"align\": \"left\"}, \"hovermode\": \"closest\", \"mapbox\": {\"style\": \"light\"}, \"paper_bgcolor\": \"white\", \"plot_bgcolor\": \"#E5ECF6\", \"polar\": {\"angularaxis\": {\"gridcolor\": \"white\", \"linecolor\": \"white\", \"ticks\": \"\"}, \"bgcolor\": \"#E5ECF6\", \"radialaxis\": {\"gridcolor\": \"white\", \"linecolor\": \"white\", \"ticks\": \"\"}}, \"scene\": {\"xaxis\": {\"backgroundcolor\": \"#E5ECF6\", \"gridcolor\": \"white\", \"gridwidth\": 2, \"linecolor\": \"white\", \"showbackground\": true, \"ticks\": \"\", \"zerolinecolor\": \"white\"}, \"yaxis\": {\"backgroundcolor\": \"#E5ECF6\", \"gridcolor\": \"white\", \"gridwidth\": 2, \"linecolor\": \"white\", \"showbackground\": true, \"ticks\": \"\", \"zerolinecolor\": \"white\"}, \"zaxis\": {\"backgroundcolor\": \"#E5ECF6\", \"gridcolor\": \"white\", \"gridwidth\": 2, \"linecolor\": \"white\", \"showbackground\": true, \"ticks\": \"\", \"zerolinecolor\": \"white\"}}, \"shapedefaults\": {\"line\": {\"color\": \"#2a3f5f\"}}, \"ternary\": {\"aaxis\": {\"gridcolor\": \"white\", \"linecolor\": \"white\", \"ticks\": \"\"}, \"baxis\": {\"gridcolor\": \"white\", \"linecolor\": \"white\", \"ticks\": \"\"}, \"bgcolor\": \"#E5ECF6\", \"caxis\": {\"gridcolor\": \"white\", \"linecolor\": \"white\", \"ticks\": \"\"}}, \"title\": {\"x\": 0.05}, \"xaxis\": {\"automargin\": true, \"gridcolor\": \"white\", \"linecolor\": \"white\", \"ticks\": \"\", \"zerolinecolor\": \"white\", \"zerolinewidth\": 2}, \"yaxis\": {\"automargin\": true, \"gridcolor\": \"white\", \"linecolor\": \"white\", \"ticks\": \"\", \"zerolinecolor\": \"white\", \"zerolinewidth\": 2}}}, \"title\": {\"text\": \"Gradient Boosting Machine Feature Importance\"}, \"xaxis\": {\"showgrid\": false, \"showline\": false, \"ticklen\": 5, \"zeroline\": false}, \"yaxis\": {\"gridwidth\": 2, \"showgrid\": false, \"ticklen\": 5, \"title\": {\"text\": \"Feature Importance\"}, \"zeroline\": false}},\n",
       "                        {\"responsive\": true}\n",
       "                    ).then(function(){\n",
       "                            \n",
       "var gd = document.getElementById('d8baa17b-52cd-465b-aeb2-7fdfc7b98022');\n",
       "var x = new MutationObserver(function (mutations, observer) {{\n",
       "        var display = window.getComputedStyle(gd).display;\n",
       "        if (!display || display === 'none') {{\n",
       "            console.log([gd, 'removed!']);\n",
       "            Plotly.purge(gd);\n",
       "            observer.disconnect();\n",
       "        }}\n",
       "}});\n",
       "\n",
       "// Listen for the removal of the full notebook cells\n",
       "var notebookContainer = gd.closest('#notebook-container');\n",
       "if (notebookContainer) {{\n",
       "    x.observe(notebookContainer, {childList: true});\n",
       "}}\n",
       "\n",
       "// Listen for the clearing of the current output cell\n",
       "var outputEl = gd.closest('.output');\n",
       "if (outputEl) {{\n",
       "    x.observe(outputEl, {childList: true});\n",
       "}}\n",
       "\n",
       "                        })\n",
       "                };\n",
       "                });\n",
       "            </script>\n",
       "        </div>"
      ]
     },
     "metadata": {},
     "output_type": "display_data"
    }
   ],
   "source": [
    "# Scatter plot \n",
    "trace = go.Scatter(\n",
    "    y = gb.feature_importances_,\n",
    "    x = features,\n",
    "    mode='markers',\n",
    "    marker=dict(\n",
    "        sizemode = 'diameter',\n",
    "        sizeref = 1,\n",
    "        size = 10,\n",
    "        #size= rf.feature_importances_,\n",
    "        #color = np.random.randn(500), #set color equal to a variable\n",
    "        color = gb.feature_importances_,\n",
    "        colorscale='Portland',\n",
    "        showscale=True\n",
    "    ),\n",
    "    text = features\n",
    ")\n",
    "data = [trace]\n",
    "\n",
    "layout= go.Layout(\n",
    "    autosize= True,\n",
    "    title= 'Gradient Boosting Machine Feature Importance',\n",
    "    hovermode= 'closest',\n",
    "     xaxis= dict(\n",
    "         ticklen= 5,\n",
    "         showgrid=False,\n",
    "        zeroline=False,\n",
    "        showline=False\n",
    "     ),\n",
    "    yaxis=dict(\n",
    "        title= 'Feature Importance',\n",
    "        showgrid=False,\n",
    "        zeroline=False,\n",
    "        ticklen= 5,\n",
    "        gridwidth= 2\n",
    "    ),\n",
    "    showlegend= False\n",
    ")\n",
    "fig = go.Figure(data=data, layout=layout)\n",
    "py.iplot(fig,filename='scatter2010')"
   ]
  },
  {
   "cell_type": "code",
   "execution_count": 15,
   "metadata": {},
   "outputs": [
    {
     "data": {
      "text/plain": [
       "<matplotlib.axes._subplots.AxesSubplot at 0x7f642aee3950>"
      ]
     },
     "execution_count": 15,
     "metadata": {},
     "output_type": "execute_result"
    },
    {
     "data": {
      "image/png": "[encoded data removed]",
      "text/plain": [
       "<Figure size 1800x1800 with 2 Axes>"
      ]
     },
     "metadata": {
      "needs_background": "light"
     },
     "output_type": "display_data"
    }
   ],
   "source": [
    "# The Wave\n",
    "\n",
    "colormap = plt.cm.jet\n",
    "plt.figure(figsize=(25,25))\n",
    "plt.title('Pearson correlation of All the features', y=1.05, size=15)\n",
    "sns.heatmap(PROF_train.corr(),linewidths=0.1,vmax=1.0, square=True, cmap=colormap, linecolor='black', annot=False)"
   ]
  },
  {
   "cell_type": "code",
   "execution_count": null,
   "metadata": {},
   "outputs": [],
   "source": []
  }
 ],
 "metadata": {
  "kernelspec": {
   "display_name": "Python 3",
   "language": "python",
   "name": "python3"
  },
  "language_info": {
   "codemirror_mode": {
    "name": "ipython",
    "version": 3
   },
   "file_extension": ".py",
   "mimetype": "text/x-python",
   "name": "python",
   "nbconvert_exporter": "python",
   "pygments_lexer": "ipython3",
   "version": "3.7.4"
  }
 },
 "nbformat": 4,
 "nbformat_minor": 2
}
